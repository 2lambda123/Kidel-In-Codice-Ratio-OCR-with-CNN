{
 "cells": [
  {
   "cell_type": "markdown",
   "metadata": {
    "collapsed": false
   },
   "source": [
    "# MNIST Convolutional Neural Network - 2nd model\n",
    "This time we are going to implement the same model used by Dan Ciresan, Ueli Meier and Jurgen Schmidhuber in 2012. The model should have an error of 0.23% and it's quite similar to the previous one we implemented from Keras documentation. The network was not only one of the best for MNIST, ranking second best at the moment, but also very good on NIST SD 19 and NORB. \n",
    "\n",
    "We are also going to use Keras checkpoints because of the many epochs required by the model.\n",
    "\n",
    "Again for this notebook we are going to use **TensorFlow** with **Keras**."
   ]
  },
  {
   "cell_type": "code",
   "execution_count": 1,
   "metadata": {
    "collapsed": true
   },
   "outputs": [],
   "source": [
    "import tensorflow as tf \n",
    "# We don't really need to import TensorFlow here since it's handled by Keras, \n",
    "# but we do it in order to output the version we are using."
   ]
  },
  {
   "cell_type": "code",
   "execution_count": 2,
   "metadata": {
    "collapsed": false
   },
   "outputs": [
    {
     "data": {
      "text/plain": [
       "'0.12.1'"
      ]
     },
     "execution_count": 2,
     "metadata": {},
     "output_type": "execute_result"
    }
   ],
   "source": [
    "tf.__version__"
   ]
  },
  {
   "cell_type": "markdown",
   "metadata": {},
   "source": [
    "We are using TensorFlow-GPU 0.12.1 on Python 3.5.2, running on Windows 10 with Cuda 8.0. \n",
    "\n",
    "We have 3 machines with the same environment and 3 different GPUs, respectively with 384, 1024 and 1664 Cuda cores."
   ]
  },
  {
   "cell_type": "markdown",
   "metadata": {},
   "source": [
    "## Imports"
   ]
  },
  {
   "cell_type": "code",
   "execution_count": 3,
   "metadata": {
    "collapsed": false
   },
   "outputs": [],
   "source": [
    "import os.path\n",
    "from IPython.display import Image\n",
    "\n",
    "from util import Util\n",
    "u = Util()\n",
    "\n",
    "import numpy as np\n",
    "# Explicit random seed for reproducibility\n",
    "np.random.seed(1337)  "
   ]
  },
  {
   "cell_type": "code",
   "execution_count": 4,
   "metadata": {
    "collapsed": false
   },
   "outputs": [
    {
     "name": "stderr",
     "output_type": "stream",
     "text": [
      "Using TensorFlow backend.\n"
     ]
    }
   ],
   "source": [
    "from keras.callbacks import ModelCheckpoint\n",
    "from keras.models import Sequential\n",
    "from keras.layers import Dense, Dropout, Activation, Flatten\n",
    "from keras.layers import Convolution2D, MaxPooling2D\n",
    "from keras.utils import np_utils\n",
    "from keras.utils.visualize_util import plot\n",
    "model_image_path = 'images/model_02_MNIST.png'\n",
    "from keras import backend as K"
   ]
  },
  {
   "cell_type": "code",
   "execution_count": 5,
   "metadata": {
    "collapsed": true
   },
   "outputs": [],
   "source": [
    "from keras.datasets import mnist"
   ]
  },
  {
   "cell_type": "markdown",
   "metadata": {},
   "source": [
    "## Definitions"
   ]
  },
  {
   "cell_type": "code",
   "execution_count": 6,
   "metadata": {
    "collapsed": true
   },
   "outputs": [],
   "source": [
    "batch_size = 128\n",
    "nb_classes = 10\n",
    "nb_epoch = 800\n",
    "checkpoints_filepath_tanh = \"checkpoints/02_MNIST_tanh_weights.best.hdf5\"\n",
    "checkpoints_filepath_relu = \"checkpoints/02_MNIST_relu_weights.best.hdf5\""
   ]
  },
  {
   "cell_type": "code",
   "execution_count": 7,
   "metadata": {
    "collapsed": true
   },
   "outputs": [],
   "source": [
    "# input image dimensions\n",
    "img_rows, img_cols = 28, 28\n",
    "# number of convolutional filters to use\n",
    "nb_filters1 = 20\n",
    "nb_filters2 = 40\n",
    "# size of pooling area for max pooling\n",
    "pool_size1 = (2, 2)\n",
    "pool_size2 = (3, 3)\n",
    "# convolution kernel size\n",
    "kernel_size1 = (4, 4)\n",
    "kernel_size2 = (5, 5)\n",
    "# dense layer size\n",
    "dense_layer_size1 = 150\n",
    "# dropout rate\n",
    "dropout = 0.15"
   ]
  },
  {
   "cell_type": "markdown",
   "metadata": {},
   "source": [
    "## Data load"
   ]
  },
  {
   "cell_type": "code",
   "execution_count": 8,
   "metadata": {
    "collapsed": false
   },
   "outputs": [],
   "source": [
    "# the data, shuffled and split between train and test sets\n",
    "(X_train, y_train), (X_test, y_test) = mnist.load_data()"
   ]
  },
  {
   "cell_type": "code",
   "execution_count": 9,
   "metadata": {
    "collapsed": false
   },
   "outputs": [
    {
     "data": {
      "image/png": "[encoded data removed]",
      "text/plain": [
       "<matplotlib.figure.Figure at 0x229bc434128>"
      ]
     },
     "metadata": {},
     "output_type": "display_data"
    }
   ],
   "source": [
    "u.plot_images(X_train[0:9], y_train[0:9])"
   ]
  },
  {
   "cell_type": "code",
   "execution_count": 10,
   "metadata": {
    "collapsed": false
   },
   "outputs": [],
   "source": [
    "if K.image_dim_ordering() == 'th':\n",
    "    X_train = X_train.reshape(X_train.shape[0], 1, img_rows, img_cols)\n",
    "    X_test = X_test.reshape(X_test.shape[0], 1, img_rows, img_cols)\n",
    "    input_shape = (1, img_rows, img_cols)\n",
    "else:\n",
    "    X_train = X_train.reshape(X_train.shape[0], img_rows, img_cols, 1)\n",
    "    X_test = X_test.reshape(X_test.shape[0], img_rows, img_cols, 1)\n",
    "    input_shape = (img_rows, img_cols, 1)"
   ]
  },
  {
   "cell_type": "code",
   "execution_count": 11,
   "metadata": {
    "collapsed": false
   },
   "outputs": [
    {
     "name": "stdout",
     "output_type": "stream",
     "text": [
      "X_train shape: (60000, 28, 28, 1)\n",
      "60000 train samples\n",
      "10000 test samples\n"
     ]
    }
   ],
   "source": [
    "X_train = X_train.astype('float32')\n",
    "X_test = X_test.astype('float32')\n",
    "X_train /= 255\n",
    "X_test /= 255\n",
    "print('X_train shape:', X_train.shape)\n",
    "print(X_train.shape[0], 'train samples')\n",
    "print(X_test.shape[0], 'test samples')"
   ]
  },
  {
   "cell_type": "code",
   "execution_count": 12,
   "metadata": {
    "collapsed": true
   },
   "outputs": [],
   "source": [
    "# convert class vectors to binary class matrices\n",
    "Y_train = np_utils.to_categorical(y_train, nb_classes)\n",
    "Y_test = np_utils.to_categorical(y_test, nb_classes)"
   ]
  },
  {
   "cell_type": "markdown",
   "metadata": {},
   "source": [
    "## Model definition\n",
    "The model is structurally similar to the previous one, with 2 Convolutional layers and 1 Fully conneted layers. \n",
    "However there are major difference in values and sizes, and also there is one more intermediate max pooling layer and the activation function is a scaled hyperbolic tangent, as described in the [paper](http://people.idsia.ch/~ciresan/data/cvpr2012.pdf). However, since Rectified Linear Units started spreading after 2015, we are going to compare two different CNN, one using tanh (as in the paper) and the other one using relu.\n",
    "\n",
    "**1x29x29-20C4-MP2-40C5-MP3-150N-10N DNN**.\n",
    "<img src=\"images/cvpr2012.PNG\" alt=\"1x29x29-20C4-MP2-40C5-MP3-150N-10N DNN\" style=\"width: 400px;\"/>\n",
    "\n",
    "The paper doesn't seem to use any dropout layer to avoid overfitting, so we're going to use a dropout of 0.15, way lower then we did before. \n",
    "\n",
    "The training should take 800 epochs, but for this notebook we'll only do 100 for each run, loading the previous one from checkpoints and see if the progression is the same as described in the paper."
   ]
  },
  {
   "cell_type": "code",
   "execution_count": 13,
   "metadata": {
    "collapsed": false
   },
   "outputs": [
    {
     "data": {
      "image/png": "[encoded data removed]",
      "text/plain": [
       "<IPython.core.display.Image object>"
      ]
     },
     "execution_count": 13,
     "metadata": {
      "image/png": {
       "width": 220
      }
     },
     "output_type": "execute_result"
    }
   ],
   "source": [
    "model_tanh = Sequential()\n",
    "model_relu = Sequential()\n",
    "\n",
    "def initialize_network_with_activation_function(model, activation, checkpoints_filepath):\n",
    "    model.add(Convolution2D(nb_filters1, kernel_size1[0], kernel_size1[1],\n",
    "                            border_mode='valid',\n",
    "                            input_shape=input_shape))\n",
    "    model.add(Activation(activation))\n",
    "    model.add(MaxPooling2D(pool_size=pool_size1))\n",
    "    model.add(Convolution2D(nb_filters2, kernel_size2[0], kernel_size2[1]))\n",
    "    model.add(Activation(activation))\n",
    "    model.add(MaxPooling2D(pool_size=pool_size2))\n",
    "    model.add(Dropout(dropout))\n",
    "\n",
    "    model.add(Flatten())\n",
    "    model.add(Dense(dense_layer_size1))\n",
    "    model.add(Activation(activation))\n",
    "    model.add(Dropout(dropout))\n",
    "    model.add(Dense(nb_classes))\n",
    "    model.add(Activation('softmax'))\n",
    "\n",
    "    # loading weights from checkpoints \n",
    "    if os.path.exists(checkpoints_filepath):\n",
    "        model.load_weights(checkpoints_filepath)\n",
    "\n",
    "    model.compile(loss='categorical_crossentropy',\n",
    "                  optimizer='adadelta',\n",
    "                  metrics=['accuracy'])\n",
    "    \n",
    "initialize_network_with_activation_function(model_tanh, 'tanh', checkpoints_filepath_tanh)\n",
    "initialize_network_with_activation_function(model_relu, 'relu', checkpoints_filepath_relu)\n",
    "\n",
    "if not os.path.exists(model_image_path):\n",
    "    plot(model_tanh, to_file=model_image_path)\n",
    "Image(model_image_path, width=220)"
   ]
  },
  {
   "cell_type": "markdown",
   "metadata": {},
   "source": [
    "## Training and evaluation\n",
    "Using non verbose output for training, since we already get some informations from the callback. "
   ]
  },
  {
   "cell_type": "code",
   "execution_count": null,
   "metadata": {
    "collapsed": false,
    "scrolled": true
   },
   "outputs": [
    {
     "name": "stdout",
     "output_type": "stream",
     "text": [
      "training tanh model\n"
     ]
    }
   ],
   "source": [
    "# checkpoint\n",
    "checkpoint_tanh = ModelCheckpoint(checkpoints_filepath_tanh, monitor='val_acc', verbose=1, save_best_only=True, mode='max')\n",
    "callbacks_list_tanh = [checkpoint_tanh]\n",
    "\n",
    "# training\n",
    "print('training tanh model')\n",
    "model_tanh.fit(X_train, Y_train, batch_size=batch_size, nb_epoch=nb_epoch,\n",
    "          verbose=0, validation_data=(X_test, Y_test), callbacks=callbacks_list_tanh)\n",
    "# evaluation\n",
    "print('evaluating tanh model')\n",
    "score = model_tanh.evaluate(X_test, Y_test, verbose=1)\n",
    "print('Test score:', score[0])\n",
    "print('Test accuracy:', score[1])"
   ]
  },
  {
   "cell_type": "code",
   "execution_count": null,
   "metadata": {
    "collapsed": false
   },
   "outputs": [],
   "source": [
    "# checkpoint\n",
    "checkpoint_relu = ModelCheckpoint(checkpoints_filepath_relu, monitor='val_acc', verbose=1, save_best_only=True, mode='max')\n",
    "callbacks_list_relu = [checkpoint_relu]\n",
    "\n",
    "# training\n",
    "print('training relu model')\n",
    "model_relu.fit(X_train, Y_train, batch_size=batch_size, nb_epoch=nb_epoch,\n",
    "          verbose=0, validation_data=(X_test, Y_test), callbacks=callbacks_list_relu)\n",
    "\n",
    "# evaluation\n",
    "print('evaluating relu model')\n",
    "score = model_relu.evaluate(X_test, Y_test, verbose=1)\n",
    "print('Test score:', score[0])\n",
    "print('Test accuracy:', score[1])"
   ]
  },
  {
   "cell_type": "markdown",
   "metadata": {},
   "source": [
    "## Inspecting the result"
   ]
  },
  {
   "cell_type": "code",
   "execution_count": null,
   "metadata": {
    "collapsed": true
   },
   "outputs": [],
   "source": [
    "# The predict_classes function outputs the highest probability class\n",
    "# according to the trained classifier for each input example.\n",
    "predicted_classes_tanh = model_tanh.predict_classes(X_test)\n",
    "predicted_classes_relu = model_relu.predict_classes(X_test)\n",
    "\n",
    "# Check which items we got right / wrong\n",
    "correct_indices_tanh = np.nonzero(predicted_classes_tanh == y_test)[0]\n",
    "incorrect_indices_tanh = np.nonzero(predicted_classes_tanh != y_test)[0]\n",
    "\n",
    "correct_indices_relu = np.nonzero(predicted_classes_relu == y_test)[0]\n",
    "incorrect_indices_relu = np.nonzero(predicted_classes_relu != y_test)[0]"
   ]
  },
  {
   "cell_type": "markdown",
   "metadata": {},
   "source": [
    "### Examples of correct predictions (tanh)"
   ]
  },
  {
   "cell_type": "code",
   "execution_count": null,
   "metadata": {
    "collapsed": true
   },
   "outputs": [],
   "source": [
    "u.plot_images(X_test[correct_indices_tanh[:9]], y_test[correct_indices_tanh[:9]], \n",
    "              predicted_classes_tanh[correct_indices_tanh[:9]])"
   ]
  },
  {
   "cell_type": "markdown",
   "metadata": {},
   "source": [
    "### Examples of incorrect predictions (tanh)"
   ]
  },
  {
   "cell_type": "code",
   "execution_count": null,
   "metadata": {
    "collapsed": true
   },
   "outputs": [],
   "source": [
    "u.plot_images(X_test[incorrect_indices_tanh[:9]], y_test[incorrect_indices_tanh[:9]], \n",
    "              predicted_classes_tanh[incorrect_indices_tanh[:9]])"
   ]
  },
  {
   "cell_type": "markdown",
   "metadata": {},
   "source": [
    "### Examples of correct predictions (relu)"
   ]
  },
  {
   "cell_type": "code",
   "execution_count": null,
   "metadata": {
    "collapsed": true
   },
   "outputs": [],
   "source": [
    "u.plot_images(X_test[correct_indices_relu[:9]], y_test[correct_indices_relu[:9]], \n",
    "              predicted_classes_relu[correct_indices_relu[:9]])"
   ]
  },
  {
   "cell_type": "markdown",
   "metadata": {},
   "source": [
    "### Examples of incorrect predictions (relu)"
   ]
  },
  {
   "cell_type": "code",
   "execution_count": null,
   "metadata": {
    "collapsed": true
   },
   "outputs": [],
   "source": [
    "u.plot_images(X_test[incorrect_indices_relu[:9]], y_test[incorrect_indices_relu[:9]], \n",
    "              predicted_classes_relu[incorrect_indices_relu[:9]])"
   ]
  },
  {
   "cell_type": "markdown",
   "metadata": {},
   "source": [
    "## Results\n",
    "After 800 epochs running in about 6 seconds each (on our average GPU), the model reaches about ?? accuracy on the test set, with an increase of about 0.03% accuracy on the training set for each epoch (for the last ones), aligned with the results described in the paper for MNIST."
   ]
  }
 ],
 "metadata": {
  "anaconda-cloud": {},
  "kernelspec": {
   "display_name": "Python [conda root]",
   "language": "python",
   "name": "conda-root-py"
  },
  "language_info": {
   "codemirror_mode": {
    "name": "ipython",
    "version": 3
   },
   "file_extension": ".py",
   "mimetype": "text/x-python",
   "name": "python",
   "nbconvert_exporter": "python",
   "pygments_lexer": "ipython3",
   "version": "3.5.2"
  }
 },
 "nbformat": 4,
 "nbformat_minor": 1
}
