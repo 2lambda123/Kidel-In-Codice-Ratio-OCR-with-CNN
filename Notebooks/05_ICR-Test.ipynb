{
 "cells": [
  {
   "cell_type": "markdown",
   "metadata": {
    "collapsed": false
   },
   "source": [
    "# In Codice Ratio Convolutional Neural Network - Test (no distortions)"
   ]
  },
  {
   "cell_type": "markdown",
   "metadata": {},
   "source": [
    "## Imports"
   ]
  },
  {
   "cell_type": "code",
   "execution_count": 1,
   "metadata": {
    "collapsed": false
   },
   "outputs": [
    {
     "name": "stderr",
     "output_type": "stream",
     "text": [
      "Using TensorFlow backend.\n"
     ]
    }
   ],
   "source": [
    "import os.path\n",
    "from IPython.display import Image\n",
    "\n",
    "from util import Util\n",
    "u = Util()\n",
    "\n",
    "import numpy as np\n",
    "# Explicit random seed for reproducibility\n",
    "np.random.seed(1337)  "
   ]
  },
  {
   "cell_type": "code",
   "execution_count": 2,
   "metadata": {
    "collapsed": false
   },
   "outputs": [],
   "source": [
    "from keras.callbacks import ModelCheckpoint\n",
    "from keras.models import Sequential\n",
    "from keras.layers import Dense, Dropout, Activation, Flatten\n",
    "from keras.layers import Convolution2D, MaxPooling2D\n",
    "from keras.utils import np_utils\n",
    "from keras import backend as K"
   ]
  },
  {
   "cell_type": "code",
   "execution_count": 3,
   "metadata": {
    "collapsed": false
   },
   "outputs": [],
   "source": [
    "import dataset_generator as dataset\n",
    "\n",
    "char = 'a'\n",
    "char_type = 'centrato'"
   ]
  },
  {
   "cell_type": "markdown",
   "metadata": {},
   "source": [
    "## Definitions"
   ]
  },
  {
   "cell_type": "code",
   "execution_count": 4,
   "metadata": {
    "collapsed": true
   },
   "outputs": [],
   "source": [
    "batch_size = 512\n",
    "nb_classes = 2\n",
    "nb_epoch = 500\n",
    "# checkpoint path\n",
    "checkpoints_filepath = \"checkpoints/05_ICR_A_no-dist_weights.best.hdf5\"\n",
    "# model image path\n",
    "model_image_path = 'images/model_05_ICR_A.png' # saving only relu"
   ]
  },
  {
   "cell_type": "code",
   "execution_count": 5,
   "metadata": {
    "collapsed": true
   },
   "outputs": [],
   "source": [
    "# input image dimensions\n",
    "img_rows, img_cols = 34, 56\n",
    "# number of convolutional filters to use\n",
    "nb_filters1 = 30\n",
    "nb_filters2 = 50\n",
    "# size of pooling area for max pooling\n",
    "pool_size1 = (2, 2)\n",
    "pool_size2 = (3, 3)\n",
    "# convolution kernel size\n",
    "kernel_size1 = (4, 4)\n",
    "kernel_size2 = (5, 5)\n",
    "# dense layer size\n",
    "dense_layer_size1 = 250\n",
    "# dropout rate\n",
    "dropout = 0.15\n",
    "# activation\n",
    "activation = 'relu'"
   ]
  },
  {
   "cell_type": "markdown",
   "metadata": {},
   "source": [
    "## Data load"
   ]
  },
  {
   "cell_type": "code",
   "execution_count": 6,
   "metadata": {
    "collapsed": false
   },
   "outputs": [
    {
     "name": "stdout",
     "output_type": "stream",
     "text": [
      "Trovati 1638 esempi positivi per il carattere A .\n",
      "Campioni di training: 1404 \tCampioni di test: 234\n",
      "Richiesti 1638 esempi negativi: trovati 819 generici e 819 per altezza.\n",
      "Samples negativi generici in training: 702 \tin test: 117\n",
      "Samples negativi per altezza in training: 702 \tin test: 117\n",
      "Campioni di training: 1404 \tCampioni di test: 234\n",
      "Numero totale di campioni di training: 2808\n",
      "Numero totale di campioni di test: 468\n"
     ]
    }
   ],
   "source": [
    "(X_train, y_train, X_test, y_test) = dataset.generate_half_labeled_half_height(char, char_type)"
   ]
  },
  {
   "cell_type": "code",
   "execution_count": 7,
   "metadata": {
    "collapsed": false
   },
   "outputs": [
    {
     "data": {
      "image/png": "[encoded data removed]",
      "text/plain": [
       "<matplotlib.figure.Figure at 0x16621714390>"
      ]
     },
     "metadata": {},
     "output_type": "display_data"
    }
   ],
   "source": [
    "u.plot_images(X_train[0:9], y_train[0:9], img_shape=(56,34))"
   ]
  },
  {
   "cell_type": "code",
   "execution_count": 8,
   "metadata": {
    "collapsed": false
   },
   "outputs": [],
   "source": [
    "if K.image_dim_ordering() == 'th':\n",
    "    X_train = X_train.reshape(X_train.shape[0], 1, img_rows, img_cols)\n",
    "    X_test = X_test.reshape(X_test.shape[0], 1, img_rows, img_cols)\n",
    "    input_shape = (1, img_rows, img_cols)\n",
    "else:\n",
    "    X_train = X_train.reshape(X_train.shape[0], img_rows, img_cols, 1)\n",
    "    X_test = X_test.reshape(X_test.shape[0], img_rows, img_cols, 1)\n",
    "    input_shape = (img_rows, img_cols, 1)"
   ]
  },
  {
   "cell_type": "code",
   "execution_count": 9,
   "metadata": {
    "collapsed": false
   },
   "outputs": [
    {
     "name": "stdout",
     "output_type": "stream",
     "text": [
      "X_train shape: (2808, 34, 56, 1)\n",
      "2808 train samples\n",
      "468 test samples\n"
     ]
    }
   ],
   "source": [
    "X_train = X_train.astype('float32')\n",
    "X_test = X_test.astype('float32')\n",
    "X_train /= 255\n",
    "X_test /= 255\n",
    "print('X_train shape:', X_train.shape)\n",
    "print(X_train.shape[0], 'train samples')\n",
    "print(X_test.shape[0], 'test samples')"
   ]
  },
  {
   "cell_type": "code",
   "execution_count": 10,
   "metadata": {
    "collapsed": true
   },
   "outputs": [],
   "source": [
    "# convert class vectors to binary class matrices\n",
    "Y_train = np_utils.to_categorical(y_train, nb_classes)\n",
    "Y_test = np_utils.to_categorical(y_test, nb_classes)"
   ]
  },
  {
   "cell_type": "markdown",
   "metadata": {},
   "source": [
    "## Model definition"
   ]
  },
  {
   "cell_type": "code",
   "execution_count": 11,
   "metadata": {
    "collapsed": false
   },
   "outputs": [],
   "source": [
    "model = Sequential()\n",
    "\n",
    "def initialize_network(model, dropout1=dropout, dropout2=dropout):\n",
    "    model.add(Convolution2D(nb_filters1, kernel_size1[0], kernel_size1[1],\n",
    "                            border_mode='valid',\n",
    "                            input_shape=input_shape, name='covolution_1_' + str(nb_filters1) + '_filters'))\n",
    "    model.add(Activation(activation, name='activation_1_' + activation))\n",
    "    model.add(MaxPooling2D(pool_size=pool_size1, name='max_pooling_1_' + str(pool_size1) + '_pool_size'))\n",
    "    model.add(Convolution2D(nb_filters2, kernel_size2[0], kernel_size2[1]))\n",
    "    model.add(Activation(activation, name='activation_2_' + activation))\n",
    "    model.add(MaxPooling2D(pool_size=pool_size2, name='max_pooling_1_' + str(pool_size2) + '_pool_size'))\n",
    "    model.add(Dropout(dropout))\n",
    "\n",
    "    model.add(Flatten())\n",
    "    model.add(Dense(dense_layer_size1, name='fully_connected_1_' + str(dense_layer_size1) + '_neurons'))\n",
    "    model.add(Activation(activation, name='activation_3_' + activation))\n",
    "    model.add(Dropout(dropout))\n",
    "    model.add(Dense(nb_classes, name='output_' + str(nb_classes) + '_neurons'))\n",
    "    model.add(Activation('softmax', name='softmax'))\n",
    "\n",
    "    model.compile(loss='categorical_crossentropy',\n",
    "                  optimizer='adadelta',\n",
    "                  metrics=['accuracy', 'precision', 'recall'])\n",
    "    \n",
    "    # loading weights from checkpoints \n",
    "    if os.path.exists(checkpoints_filepath):\n",
    "        model.load_weights(checkpoints_filepath)\n",
    "    \n",
    "initialize_network(model)"
   ]
  },
  {
   "cell_type": "markdown",
   "metadata": {},
   "source": [
    "## Training and evaluation\n",
    "Using non verbose output for training, since we already get some informations from the callback. "
   ]
  },
  {
   "cell_type": "code",
   "execution_count": 12,
   "metadata": {
    "collapsed": false,
    "scrolled": true
   },
   "outputs": [
    {
     "name": "stdout",
     "output_type": "stream",
     "text": [
      "training model\n",
      "Epoch 00000: val_precision improved from -inf to 0.50214, saving model to checkpoints/05_ICR_A_no-dist_weights.best.hdf5\n",
      "Epoch 00001: val_precision improved from 0.50214 to 0.67521, saving model to checkpoints/05_ICR_A_no-dist_weights.best.hdf5\n",
      "Epoch 00002: val_precision improved from 0.67521 to 0.68590, saving model to checkpoints/05_ICR_A_no-dist_weights.best.hdf5\n",
      "Epoch 00003: val_precision did not improve\n",
      "Epoch 00004: val_precision improved from 0.68590 to 0.73504, saving model to checkpoints/05_ICR_A_no-dist_weights.best.hdf5\n",
      "Epoch 00005: val_precision did not improve\n",
      "Epoch 00006: val_precision did not improve\n",
      "Epoch 00007: val_precision improved from 0.73504 to 0.76282, saving model to checkpoints/05_ICR_A_no-dist_weights.best.hdf5\n",
      "Epoch 00008: val_precision did not improve\n",
      "Epoch 00009: val_precision improved from 0.76282 to 0.81838, saving model to checkpoints/05_ICR_A_no-dist_weights.best.hdf5\n",
      "Epoch 00010: val_precision improved from 0.81838 to 0.83333, saving model to checkpoints/05_ICR_A_no-dist_weights.best.hdf5\n",
      "Epoch 00011: val_precision did not improve\n",
      "Epoch 00012: val_precision did not improve\n",
      "Epoch 00013: val_precision improved from 0.83333 to 0.84829, saving model to checkpoints/05_ICR_A_no-dist_weights.best.hdf5\n",
      "Epoch 00014: val_precision improved from 0.84829 to 0.86538, saving model to checkpoints/05_ICR_A_no-dist_weights.best.hdf5\n",
      "Epoch 00015: val_precision improved from 0.86538 to 0.88675, saving model to checkpoints/05_ICR_A_no-dist_weights.best.hdf5\n",
      "Epoch 00016: val_precision did not improve\n",
      "Epoch 00017: val_precision improved from 0.88675 to 0.89103, saving model to checkpoints/05_ICR_A_no-dist_weights.best.hdf5\n",
      "Epoch 00018: val_precision improved from 0.89103 to 0.89316, saving model to checkpoints/05_ICR_A_no-dist_weights.best.hdf5\n",
      "Epoch 00019: val_precision did not improve\n",
      "Epoch 00020: val_precision improved from 0.89316 to 0.89744, saving model to checkpoints/05_ICR_A_no-dist_weights.best.hdf5\n",
      "Epoch 00021: val_precision improved from 0.89744 to 0.90171, saving model to checkpoints/05_ICR_A_no-dist_weights.best.hdf5\n",
      "Epoch 00022: val_precision did not improve\n",
      "Epoch 00023: val_precision did not improve\n",
      "Epoch 00024: val_precision improved from 0.90171 to 0.90385, saving model to checkpoints/05_ICR_A_no-dist_weights.best.hdf5\n",
      "Epoch 00025: val_precision did not improve\n",
      "Epoch 00026: val_precision improved from 0.90385 to 0.91667, saving model to checkpoints/05_ICR_A_no-dist_weights.best.hdf5\n",
      "Epoch 00027: val_precision did not improve\n",
      "Epoch 00028: val_precision improved from 0.91667 to 0.92735, saving model to checkpoints/05_ICR_A_no-dist_weights.best.hdf5\n",
      "Epoch 00029: val_precision did not improve\n",
      "Epoch 00030: val_precision did not improve\n",
      "Epoch 00031: val_precision improved from 0.92735 to 0.93376, saving model to checkpoints/05_ICR_A_no-dist_weights.best.hdf5\n",
      "Epoch 00032: val_precision improved from 0.93376 to 0.93590, saving model to checkpoints/05_ICR_A_no-dist_weights.best.hdf5\n",
      "Epoch 00033: val_precision improved from 0.93590 to 0.93803, saving model to checkpoints/05_ICR_A_no-dist_weights.best.hdf5\n",
      "Epoch 00034: val_precision did not improve\n",
      "Epoch 00035: val_precision did not improve\n",
      "Epoch 00036: val_precision did not improve\n",
      "Epoch 00037: val_precision did not improve\n",
      "Epoch 00038: val_precision improved from 0.93803 to 0.94017, saving model to checkpoints/05_ICR_A_no-dist_weights.best.hdf5\n",
      "Epoch 00039: val_precision did not improve\n",
      "Epoch 00040: val_precision did not improve\n",
      "Epoch 00041: val_precision did not improve\n",
      "Epoch 00042: val_precision did not improve\n",
      "Epoch 00043: val_precision improved from 0.94017 to 0.94444, saving model to checkpoints/05_ICR_A_no-dist_weights.best.hdf5\n",
      "Epoch 00044: val_precision improved from 0.94444 to 0.94658, saving model to checkpoints/05_ICR_A_no-dist_weights.best.hdf5\n",
      "Epoch 00045: val_precision did not improve\n",
      "Epoch 00046: val_precision improved from 0.94658 to 0.94872, saving model to checkpoints/05_ICR_A_no-dist_weights.best.hdf5\n",
      "Epoch 00047: val_precision did not improve\n",
      "Epoch 00048: val_precision did not improve\n",
      "Epoch 00049: val_precision did not improve\n",
      "Epoch 00050: val_precision did not improve\n",
      "Epoch 00051: val_precision improved from 0.94872 to 0.95085, saving model to checkpoints/05_ICR_A_no-dist_weights.best.hdf5\n",
      "Epoch 00052: val_precision did not improve\n",
      "Epoch 00053: val_precision did not improve\n",
      "Epoch 00054: val_precision did not improve\n",
      "Epoch 00055: val_precision did not improve\n",
      "Epoch 00056: val_precision did not improve\n",
      "Epoch 00057: val_precision did not improve\n",
      "Epoch 00058: val_precision did not improve\n",
      "Epoch 00059: val_precision did not improve\n",
      "Epoch 00060: val_precision did not improve\n",
      "Epoch 00061: val_precision did not improve\n",
      "Epoch 00062: val_precision did not improve\n",
      "Epoch 00063: val_precision did not improve\n",
      "Epoch 00064: val_precision improved from 0.95085 to 0.95299, saving model to checkpoints/05_ICR_A_no-dist_weights.best.hdf5\n",
      "Epoch 00065: val_precision did not improve\n",
      "Epoch 00066: val_precision did not improve\n",
      "Epoch 00067: val_precision improved from 0.95299 to 0.95726, saving model to checkpoints/05_ICR_A_no-dist_weights.best.hdf5\n",
      "Epoch 00068: val_precision did not improve\n",
      "Epoch 00069: val_precision did not improve\n",
      "Epoch 00070: val_precision did not improve\n",
      "Epoch 00071: val_precision did not improve\n",
      "Epoch 00072: val_precision did not improve\n",
      "Epoch 00073: val_precision did not improve\n",
      "Epoch 00074: val_precision did not improve\n",
      "Epoch 00075: val_precision did not improve\n",
      "Epoch 00076: val_precision did not improve\n",
      "Epoch 00077: val_precision did not improve\n",
      "Epoch 00078: val_precision did not improve\n",
      "Epoch 00079: val_precision did not improve\n",
      "Epoch 00080: val_precision did not improve\n",
      "Epoch 00081: val_precision did not improve\n",
      "Epoch 00082: val_precision did not improve\n",
      "Epoch 00083: val_precision did not improve\n",
      "Epoch 00084: val_precision did not improve\n",
      "Epoch 00085: val_precision did not improve\n",
      "Epoch 00086: val_precision did not improve\n",
      "Epoch 00087: val_precision did not improve\n",
      "Epoch 00088: val_precision did not improve\n",
      "Epoch 00089: val_precision did not improve\n",
      "Epoch 00090: val_precision did not improve\n",
      "Epoch 00091: val_precision did not improve\n",
      "Epoch 00092: val_precision did not improve\n",
      "Epoch 00093: val_precision did not improve\n",
      "Epoch 00094: val_precision did not improve\n",
      "Epoch 00095: val_precision did not improve\n",
      "Epoch 00096: val_precision did not improve\n",
      "Epoch 00097: val_precision did not improve\n",
      "Epoch 00098: val_precision did not improve\n",
      "Epoch 00099: val_precision did not improve\n",
      "Epoch 00100: val_precision did not improve\n",
      "Epoch 00101: val_precision did not improve\n",
      "Epoch 00102: val_precision did not improve\n",
      "Epoch 00103: val_precision did not improve\n",
      "Epoch 00104: val_precision did not improve\n",
      "Epoch 00105: val_precision did not improve\n",
      "Epoch 00106: val_precision did not improve\n",
      "Epoch 00107: val_precision did not improve\n",
      "Epoch 00108: val_precision did not improve\n",
      "Epoch 00109: val_precision did not improve\n",
      "Epoch 00110: val_precision did not improve\n",
      "Epoch 00111: val_precision did not improve\n",
      "Epoch 00112: val_precision did not improve\n",
      "Epoch 00113: val_precision did not improve\n",
      "Epoch 00114: val_precision did not improve\n",
      "Epoch 00115: val_precision did not improve\n",
      "Epoch 00116: val_precision did not improve\n",
      "Epoch 00117: val_precision did not improve\n",
      "Epoch 00118: val_precision did not improve\n",
      "Epoch 00119: val_precision did not improve\n",
      "Epoch 00120: val_precision did not improve\n",
      "Epoch 00121: val_precision did not improve\n",
      "Epoch 00122: val_precision did not improve\n",
      "Epoch 00123: val_precision did not improve\n",
      "Epoch 00124: val_precision did not improve\n",
      "Epoch 00125: val_precision did not improve\n",
      "Epoch 00126: val_precision did not improve\n",
      "Epoch 00127: val_precision improved from 0.95726 to 0.95940, saving model to checkpoints/05_ICR_A_no-dist_weights.best.hdf5\n",
      "Epoch 00128: val_precision did not improve\n",
      "Epoch 00129: val_precision did not improve\n",
      "Epoch 00130: val_precision did not improve\n",
      "Epoch 00131: val_precision did not improve\n",
      "Epoch 00132: val_precision did not improve\n",
      "Epoch 00133: val_precision did not improve\n",
      "Epoch 00134: val_precision did not improve\n",
      "Epoch 00135: val_precision did not improve\n",
      "Epoch 00136: val_precision did not improve\n",
      "Epoch 00137: val_precision did not improve\n",
      "Epoch 00138: val_precision did not improve\n",
      "Epoch 00139: val_precision did not improve\n",
      "Epoch 00140: val_precision did not improve\n",
      "Epoch 00141: val_precision did not improve\n",
      "Epoch 00142: val_precision did not improve\n",
      "Epoch 00143: val_precision did not improve\n",
      "Epoch 00144: val_precision did not improve\n",
      "Epoch 00145: val_precision did not improve\n",
      "Epoch 00146: val_precision did not improve\n",
      "Epoch 00147: val_precision did not improve\n",
      "Epoch 00148: val_precision did not improve\n",
      "Epoch 00149: val_precision did not improve\n",
      "Epoch 00150: val_precision did not improve\n",
      "Epoch 00151: val_precision did not improve\n",
      "Epoch 00152: val_precision did not improve\n",
      "Epoch 00153: val_precision did not improve\n",
      "Epoch 00154: val_precision did not improve\n",
      "Epoch 00155: val_precision did not improve\n",
      "Epoch 00156: val_precision did not improve\n",
      "Epoch 00157: val_precision did not improve\n",
      "Epoch 00158: val_precision did not improve\n",
      "Epoch 00159: val_precision did not improve\n",
      "Epoch 00160: val_precision did not improve\n",
      "Epoch 00161: val_precision did not improve\n",
      "Epoch 00162: val_precision did not improve\n",
      "Epoch 00163: val_precision did not improve\n",
      "Epoch 00164: val_precision did not improve\n",
      "Epoch 00165: val_precision did not improve\n",
      "Epoch 00166: val_precision did not improve\n",
      "Epoch 00167: val_precision did not improve\n",
      "Epoch 00168: val_precision did not improve\n",
      "Epoch 00169: val_precision did not improve\n",
      "Epoch 00170: val_precision did not improve\n",
      "Epoch 00171: val_precision did not improve\n",
      "Epoch 00172: val_precision did not improve\n",
      "Epoch 00173: val_precision did not improve\n",
      "Epoch 00174: val_precision did not improve\n",
      "Epoch 00175: val_precision did not improve\n",
      "Epoch 00176: val_precision did not improve\n",
      "Epoch 00177: val_precision did not improve\n",
      "Epoch 00178: val_precision did not improve\n",
      "Epoch 00179: val_precision did not improve\n",
      "Epoch 00180: val_precision did not improve\n",
      "Epoch 00181: val_precision did not improve\n",
      "Epoch 00182: val_precision did not improve\n",
      "Epoch 00183: val_precision did not improve\n",
      "Epoch 00184: val_precision did not improve\n",
      "Epoch 00185: val_precision did not improve\n",
      "Epoch 00186: val_precision did not improve\n",
      "Epoch 00187: val_precision improved from 0.95940 to 0.96154, saving model to checkpoints/05_ICR_A_no-dist_weights.best.hdf5\n",
      "Epoch 00188: val_precision did not improve\n",
      "Epoch 00189: val_precision did not improve\n",
      "Epoch 00190: val_precision did not improve\n",
      "Epoch 00191: val_precision did not improve\n",
      "Epoch 00192: val_precision did not improve\n",
      "Epoch 00193: val_precision did not improve\n",
      "Epoch 00194: val_precision did not improve\n",
      "Epoch 00195: val_precision did not improve\n",
      "Epoch 00196: val_precision did not improve\n",
      "Epoch 00197: val_precision did not improve\n",
      "Epoch 00198: val_precision did not improve\n",
      "Epoch 00199: val_precision did not improve\n",
      "Epoch 00200: val_precision did not improve\n",
      "Epoch 00201: val_precision did not improve\n",
      "Epoch 00202: val_precision did not improve\n",
      "Epoch 00203: val_precision did not improve\n",
      "Epoch 00204: val_precision did not improve\n",
      "Epoch 00205: val_precision did not improve\n",
      "Epoch 00206: val_precision did not improve\n",
      "Epoch 00207: val_precision did not improve\n",
      "Epoch 00208: val_precision did not improve\n",
      "Epoch 00209: val_precision did not improve\n",
      "Epoch 00210: val_precision did not improve\n",
      "Epoch 00211: val_precision did not improve\n",
      "Epoch 00212: val_precision did not improve\n",
      "Epoch 00213: val_precision did not improve\n",
      "Epoch 00214: val_precision did not improve\n",
      "Epoch 00215: val_precision did not improve\n",
      "Epoch 00216: val_precision did not improve\n",
      "Epoch 00217: val_precision did not improve\n",
      "Epoch 00218: val_precision did not improve\n",
      "Epoch 00219: val_precision did not improve\n",
      "Epoch 00220: val_precision did not improve\n",
      "Epoch 00221: val_precision did not improve\n",
      "Epoch 00222: val_precision did not improve\n",
      "Epoch 00223: val_precision did not improve\n",
      "Epoch 00224: val_precision did not improve\n",
      "Epoch 00225: val_precision did not improve\n",
      "Epoch 00226: val_precision did not improve\n",
      "Epoch 00227: val_precision did not improve\n",
      "Epoch 00228: val_precision did not improve\n",
      "Epoch 00229: val_precision did not improve\n",
      "Epoch 00230: val_precision did not improve\n",
      "Epoch 00231: val_precision did not improve\n",
      "Epoch 00232: val_precision did not improve\n",
      "Epoch 00233: val_precision did not improve\n",
      "Epoch 00234: val_precision did not improve\n",
      "Epoch 00235: val_precision did not improve\n",
      "Epoch 00236: val_precision did not improve\n",
      "Epoch 00237: val_precision did not improve\n",
      "Epoch 00238: val_precision did not improve\n",
      "Epoch 00239: val_precision did not improve\n",
      "Epoch 00240: val_precision did not improve\n",
      "Epoch 00241: val_precision did not improve\n",
      "Epoch 00242: val_precision did not improve\n",
      "Epoch 00243: val_precision did not improve\n",
      "Epoch 00244: val_precision did not improve\n",
      "Epoch 00245: val_precision did not improve\n",
      "Epoch 00246: val_precision did not improve\n",
      "Epoch 00247: val_precision did not improve\n",
      "Epoch 00248: val_precision did not improve\n",
      "Epoch 00249: val_precision did not improve\n",
      "Epoch 00250: val_precision did not improve\n",
      "Epoch 00251: val_precision did not improve\n",
      "Epoch 00252: val_precision did not improve\n",
      "Epoch 00253: val_precision did not improve\n",
      "Epoch 00254: val_precision did not improve\n",
      "Epoch 00255: val_precision did not improve\n",
      "Epoch 00256: val_precision did not improve\n",
      "Epoch 00257: val_precision did not improve\n",
      "Epoch 00258: val_precision did not improve\n",
      "Epoch 00259: val_precision did not improve\n",
      "Epoch 00260: val_precision did not improve\n",
      "Epoch 00261: val_precision did not improve\n",
      "Epoch 00262: val_precision did not improve\n",
      "Epoch 00263: val_precision did not improve\n",
      "Epoch 00264: val_precision did not improve\n",
      "Epoch 00265: val_precision did not improve\n",
      "Epoch 00266: val_precision did not improve\n",
      "Epoch 00267: val_precision did not improve\n",
      "Epoch 00268: val_precision did not improve\n",
      "Epoch 00269: val_precision did not improve\n",
      "Epoch 00270: val_precision did not improve\n",
      "Epoch 00271: val_precision did not improve\n",
      "Epoch 00272: val_precision did not improve\n",
      "Epoch 00273: val_precision did not improve\n",
      "Epoch 00274: val_precision did not improve\n",
      "Epoch 00275: val_precision did not improve\n",
      "Epoch 00276: val_precision did not improve\n",
      "Epoch 00277: val_precision did not improve\n",
      "Epoch 00278: val_precision did not improve\n",
      "Epoch 00279: val_precision did not improve\n",
      "Epoch 00280: val_precision did not improve\n",
      "Epoch 00281: val_precision did not improve\n",
      "Epoch 00282: val_precision did not improve\n",
      "Epoch 00283: val_precision did not improve\n",
      "Epoch 00284: val_precision did not improve\n",
      "Epoch 00285: val_precision did not improve\n",
      "Epoch 00286: val_precision did not improve\n",
      "Epoch 00287: val_precision did not improve\n",
      "Epoch 00288: val_precision did not improve\n",
      "Epoch 00289: val_precision did not improve\n",
      "Epoch 00290: val_precision did not improve\n",
      "Epoch 00291: val_precision did not improve\n",
      "Epoch 00292: val_precision did not improve\n",
      "Epoch 00293: val_precision did not improve\n",
      "Epoch 00294: val_precision did not improve\n",
      "Epoch 00295: val_precision did not improve\n",
      "Epoch 00296: val_precision did not improve\n",
      "Epoch 00297: val_precision did not improve\n",
      "Epoch 00298: val_precision did not improve\n",
      "Epoch 00299: val_precision did not improve\n",
      "Epoch 00300: val_precision did not improve\n",
      "Epoch 00301: val_precision did not improve\n",
      "Epoch 00302: val_precision did not improve\n",
      "Epoch 00303: val_precision did not improve\n",
      "Epoch 00304: val_precision did not improve\n",
      "Epoch 00305: val_precision did not improve\n",
      "Epoch 00306: val_precision did not improve\n",
      "Epoch 00307: val_precision did not improve\n",
      "Epoch 00308: val_precision did not improve\n",
      "Epoch 00309: val_precision did not improve\n",
      "Epoch 00310: val_precision did not improve\n",
      "Epoch 00311: val_precision did not improve\n",
      "Epoch 00312: val_precision did not improve\n",
      "Epoch 00313: val_precision did not improve\n",
      "Epoch 00314: val_precision did not improve\n",
      "Epoch 00315: val_precision did not improve\n",
      "Epoch 00316: val_precision did not improve\n",
      "Epoch 00317: val_precision did not improve\n",
      "Epoch 00318: val_precision did not improve\n",
      "Epoch 00319: val_precision did not improve\n",
      "Epoch 00320: val_precision did not improve\n",
      "Epoch 00321: val_precision did not improve\n",
      "Epoch 00322: val_precision did not improve\n",
      "Epoch 00323: val_precision did not improve\n",
      "Epoch 00324: val_precision did not improve\n",
      "Epoch 00325: val_precision did not improve\n",
      "Epoch 00326: val_precision did not improve\n",
      "Epoch 00327: val_precision did not improve\n",
      "Epoch 00328: val_precision did not improve\n",
      "Epoch 00329: val_precision did not improve\n",
      "Epoch 00330: val_precision did not improve\n",
      "Epoch 00331: val_precision did not improve\n",
      "Epoch 00332: val_precision did not improve\n",
      "Epoch 00333: val_precision did not improve\n",
      "Epoch 00334: val_precision did not improve\n",
      "Epoch 00335: val_precision did not improve\n",
      "Epoch 00336: val_precision did not improve\n",
      "Epoch 00337: val_precision did not improve\n",
      "Epoch 00338: val_precision did not improve\n",
      "Epoch 00339: val_precision did not improve\n",
      "Epoch 00340: val_precision did not improve\n",
      "Epoch 00341: val_precision did not improve\n",
      "Epoch 00342: val_precision did not improve\n",
      "Epoch 00343: val_precision did not improve\n",
      "Epoch 00344: val_precision did not improve\n",
      "Epoch 00345: val_precision did not improve\n",
      "Epoch 00346: val_precision did not improve\n",
      "Epoch 00347: val_precision did not improve\n",
      "Epoch 00348: val_precision did not improve\n",
      "Epoch 00349: val_precision did not improve\n",
      "Epoch 00350: val_precision did not improve\n",
      "Epoch 00351: val_precision did not improve\n",
      "Epoch 00352: val_precision did not improve\n",
      "Epoch 00353: val_precision did not improve\n",
      "Epoch 00354: val_precision did not improve\n",
      "Epoch 00355: val_precision did not improve\n",
      "Epoch 00356: val_precision did not improve\n",
      "Epoch 00357: val_precision did not improve\n",
      "Epoch 00358: val_precision did not improve\n",
      "Epoch 00359: val_precision did not improve\n",
      "Epoch 00360: val_precision did not improve\n",
      "Epoch 00361: val_precision did not improve\n",
      "Epoch 00362: val_precision did not improve\n",
      "Epoch 00363: val_precision did not improve\n",
      "Epoch 00364: val_precision did not improve\n",
      "Epoch 00365: val_precision did not improve\n",
      "Epoch 00366: val_precision did not improve\n",
      "Epoch 00367: val_precision did not improve\n",
      "Epoch 00368: val_precision did not improve\n",
      "Epoch 00369: val_precision did not improve\n",
      "Epoch 00370: val_precision did not improve\n",
      "Epoch 00371: val_precision did not improve\n",
      "Epoch 00372: val_precision did not improve\n",
      "Epoch 00373: val_precision did not improve\n",
      "Epoch 00374: val_precision did not improve\n",
      "Epoch 00375: val_precision did not improve\n",
      "Epoch 00376: val_precision did not improve\n",
      "Epoch 00377: val_precision did not improve\n",
      "Epoch 00378: val_precision did not improve\n",
      "Epoch 00379: val_precision did not improve\n",
      "Epoch 00380: val_precision did not improve\n",
      "Epoch 00381: val_precision did not improve\n",
      "Epoch 00382: val_precision did not improve\n",
      "Epoch 00383: val_precision did not improve\n",
      "Epoch 00384: val_precision did not improve\n",
      "Epoch 00385: val_precision did not improve\n",
      "Epoch 00386: val_precision did not improve\n",
      "Epoch 00387: val_precision did not improve\n",
      "Epoch 00388: val_precision did not improve\n",
      "Epoch 00389: val_precision did not improve\n",
      "Epoch 00390: val_precision did not improve\n",
      "Epoch 00391: val_precision did not improve\n",
      "Epoch 00392: val_precision did not improve\n",
      "Epoch 00393: val_precision did not improve\n",
      "Epoch 00394: val_precision did not improve\n",
      "Epoch 00395: val_precision did not improve\n",
      "Epoch 00396: val_precision did not improve\n",
      "Epoch 00397: val_precision did not improve\n",
      "Epoch 00398: val_precision did not improve\n",
      "Epoch 00399: val_precision did not improve\n",
      "Epoch 00400: val_precision did not improve\n",
      "Epoch 00401: val_precision did not improve\n",
      "Epoch 00402: val_precision did not improve\n",
      "Epoch 00403: val_precision did not improve\n",
      "Epoch 00404: val_precision did not improve\n",
      "Epoch 00405: val_precision did not improve\n",
      "Epoch 00406: val_precision did not improve\n",
      "Epoch 00407: val_precision did not improve\n",
      "Epoch 00408: val_precision did not improve\n",
      "Epoch 00409: val_precision did not improve\n",
      "Epoch 00410: val_precision did not improve\n",
      "Epoch 00411: val_precision did not improve\n",
      "Epoch 00412: val_precision did not improve\n",
      "Epoch 00413: val_precision did not improve\n",
      "Epoch 00414: val_precision did not improve\n",
      "Epoch 00415: val_precision did not improve\n",
      "Epoch 00416: val_precision did not improve\n",
      "Epoch 00417: val_precision did not improve\n",
      "Epoch 00418: val_precision did not improve\n",
      "Epoch 00419: val_precision did not improve\n",
      "Epoch 00420: val_precision did not improve\n",
      "Epoch 00421: val_precision did not improve\n",
      "Epoch 00422: val_precision did not improve\n",
      "Epoch 00423: val_precision did not improve\n",
      "Epoch 00424: val_precision did not improve\n",
      "Epoch 00425: val_precision did not improve\n",
      "Epoch 00426: val_precision did not improve\n",
      "Epoch 00427: val_precision did not improve\n",
      "Epoch 00428: val_precision did not improve\n",
      "Epoch 00429: val_precision did not improve\n",
      "Epoch 00430: val_precision did not improve\n",
      "Epoch 00431: val_precision did not improve\n",
      "Epoch 00432: val_precision did not improve\n",
      "Epoch 00433: val_precision did not improve\n",
      "Epoch 00434: val_precision did not improve\n",
      "Epoch 00435: val_precision did not improve\n",
      "Epoch 00436: val_precision did not improve\n",
      "Epoch 00437: val_precision did not improve\n",
      "Epoch 00438: val_precision did not improve\n",
      "Epoch 00439: val_precision did not improve\n",
      "Epoch 00440: val_precision did not improve\n",
      "Epoch 00441: val_precision did not improve\n",
      "Epoch 00442: val_precision did not improve\n",
      "Epoch 00443: val_precision did not improve\n",
      "Epoch 00444: val_precision did not improve\n",
      "Epoch 00445: val_precision did not improve\n",
      "Epoch 00446: val_precision did not improve\n",
      "Epoch 00447: val_precision did not improve\n",
      "Epoch 00448: val_precision did not improve\n",
      "Epoch 00449: val_precision did not improve\n",
      "Epoch 00450: val_precision did not improve\n",
      "Epoch 00451: val_precision did not improve\n",
      "Epoch 00452: val_precision did not improve\n",
      "Epoch 00453: val_precision did not improve\n",
      "Epoch 00454: val_precision did not improve\n",
      "Epoch 00455: val_precision did not improve\n",
      "Epoch 00456: val_precision did not improve\n",
      "Epoch 00457: val_precision did not improve\n",
      "Epoch 00458: val_precision did not improve\n",
      "Epoch 00459: val_precision did not improve\n",
      "Epoch 00460: val_precision did not improve\n",
      "Epoch 00461: val_precision did not improve\n",
      "Epoch 00462: val_precision did not improve\n",
      "Epoch 00463: val_precision did not improve\n",
      "Epoch 00464: val_precision did not improve\n",
      "Epoch 00465: val_precision did not improve\n",
      "Epoch 00466: val_precision did not improve\n",
      "Epoch 00467: val_precision did not improve\n",
      "Epoch 00468: val_precision did not improve\n",
      "Epoch 00469: val_precision did not improve\n",
      "Epoch 00470: val_precision did not improve\n",
      "Epoch 00471: val_precision did not improve\n",
      "Epoch 00472: val_precision did not improve\n",
      "Epoch 00473: val_precision did not improve\n",
      "Epoch 00474: val_precision did not improve\n",
      "Epoch 00475: val_precision did not improve\n",
      "Epoch 00476: val_precision did not improve\n",
      "Epoch 00477: val_precision did not improve\n",
      "Epoch 00478: val_precision did not improve\n",
      "Epoch 00479: val_precision did not improve\n",
      "Epoch 00480: val_precision did not improve\n",
      "Epoch 00481: val_precision did not improve\n",
      "Epoch 00482: val_precision did not improve\n",
      "Epoch 00483: val_precision did not improve\n",
      "Epoch 00484: val_precision did not improve\n",
      "Epoch 00485: val_precision did not improve\n",
      "Epoch 00486: val_precision did not improve\n",
      "Epoch 00487: val_precision did not improve\n",
      "Epoch 00488: val_precision did not improve\n",
      "Epoch 00489: val_precision did not improve\n",
      "Epoch 00490: val_precision did not improve\n",
      "Epoch 00491: val_precision did not improve\n",
      "Epoch 00492: val_precision did not improve\n",
      "Epoch 00493: val_precision did not improve\n",
      "Epoch 00494: val_precision did not improve\n",
      "Epoch 00495: val_precision did not improve\n",
      "Epoch 00496: val_precision did not improve\n",
      "Epoch 00497: val_precision did not improve\n",
      "Epoch 00498: val_precision did not improve\n",
      "Epoch 00499: val_precision did not improve\n"
     ]
    }
   ],
   "source": [
    "# checkpoint\n",
    "checkpoint = ModelCheckpoint(checkpoints_filepath, monitor='val_precision', verbose=1, save_best_only=True, mode='max')\n",
    "callbacks_list = [checkpoint]\n",
    "\n",
    "# training\n",
    "print('training model')\n",
    "history = model.fit(X_train, Y_train, batch_size=batch_size, nb_epoch=nb_epoch,\n",
    "          verbose=0, validation_data=(X_test, Y_test), callbacks=callbacks_list)\n",
    "\n",
    "# ensures that the weights with the best evaluation are loaded\n",
    "if os.path.exists(checkpoints_filepath):\n",
    "    model.load_weights(checkpoints_filepath)"
   ]
  },
  {
   "cell_type": "code",
   "execution_count": 13,
   "metadata": {
    "collapsed": false
   },
   "outputs": [
    {
     "name": "stdout",
     "output_type": "stream",
     "text": [
      "evaluating model\n",
      "468/468 [==============================] - 0s     \n",
      "Test score: 0.175480633164\n",
      "Test accuracy: 96.1538461538 %\n",
      "Test error: 3.84615384615 %\n"
     ]
    }
   ],
   "source": [
    "# evaluation\n",
    "print('evaluating model')\n",
    "score = model.evaluate(X_test, Y_test, verbose=1)\n",
    "print('Test score:', score[0])\n",
    "print('Test accuracy:', score[1]*100, '%')\n",
    "print('Test error:', (1-score[2])*100, '%')"
   ]
  },
  {
   "cell_type": "code",
   "execution_count": 14,
   "metadata": {
    "collapsed": false
   },
   "outputs": [
    {
     "data": {
      "image/png": "[encoded data removed]",
      "text/plain": [
       "<matplotlib.figure.Figure at 0x16621a6b8d0>"
      ]
     },
     "metadata": {},
     "output_type": "display_data"
    },
    {
     "data": {
      "image/png": "[encoded data removed]",
      "text/plain": [
       "<matplotlib.figure.Figure at 0x1667fa5f438>"
      ]
     },
     "metadata": {},
     "output_type": "display_data"
    }
   ],
   "source": [
    "u.plot_history(history)\n",
    "u.plot_history(history, metric='loss', loc='upper left')"
   ]
  },
  {
   "cell_type": "markdown",
   "metadata": {},
   "source": [
    "## Inspecting the result"
   ]
  },
  {
   "cell_type": "code",
   "execution_count": 15,
   "metadata": {
    "collapsed": false
   },
   "outputs": [
    {
     "name": "stdout",
     "output_type": "stream",
     "text": [
      "416/468 [=========================>....] - ETA: 0s"
     ]
    }
   ],
   "source": [
    "# The predict_classes function outputs the highest probability class\n",
    "# according to the trained classifier for each input example.\n",
    "predicted_classes = model.predict_classes(X_test)\n",
    "\n",
    "# Check which items we got right / wrong\n",
    "correct_indices = np.nonzero(predicted_classes == y_test)[0]\n",
    "incorrect_indices = np.nonzero(predicted_classes != y_test)[0]"
   ]
  },
  {
   "cell_type": "markdown",
   "metadata": {},
   "source": [
    "### Examples of correct predictions"
   ]
  },
  {
   "cell_type": "code",
   "execution_count": 16,
   "metadata": {
    "collapsed": false
   },
   "outputs": [
    {
     "data": {
      "image/png": "[encoded data removed]",
      "text/plain": [
       "<matplotlib.figure.Figure at 0x16621856048>"
      ]
     },
     "metadata": {},
     "output_type": "display_data"
    }
   ],
   "source": [
    "u.plot_images(X_test[correct_indices[:9]], y_test[correct_indices[:9]], \n",
    "              predicted_classes[correct_indices[:9]], img_shape=(56,34))"
   ]
  },
  {
   "cell_type": "markdown",
   "metadata": {},
   "source": [
    "### Examples of incorrect predictions"
   ]
  },
  {
   "cell_type": "code",
   "execution_count": 17,
   "metadata": {
    "collapsed": false
   },
   "outputs": [
    {
     "data": {
      "image/png": "[encoded data removed]",
      "text/plain": [
       "<matplotlib.figure.Figure at 0x1660daa64e0>"
      ]
     },
     "metadata": {},
     "output_type": "display_data"
    }
   ],
   "source": [
    "u.plot_images(X_test[incorrect_indices[:9]], y_test[incorrect_indices[:9]], \n",
    "              predicted_classes[incorrect_indices[:9]], img_shape=(56,34))"
   ]
  },
  {
   "cell_type": "markdown",
   "metadata": {},
   "source": [
    "### Confusion matrix"
   ]
  },
  {
   "cell_type": "code",
   "execution_count": 18,
   "metadata": {
    "collapsed": false
   },
   "outputs": [
    {
     "name": "stdout",
     "output_type": "stream",
     "text": [
      "[[221  13]\n",
      " [  5 229]]\n"
     ]
    },
    {
     "data": {
      "image/png": "[encoded data removed]",
      "text/plain": [
       "<matplotlib.figure.Figure at 0x1662183b278>"
      ]
     },
     "metadata": {},
     "output_type": "display_data"
    }
   ],
   "source": [
    "u.plot_confusion_matrix(y_test, nb_classes, predicted_classes)"
   ]
  },
  {
   "cell_type": "markdown",
   "metadata": {},
   "source": [
    "## Results"
   ]
  }
 ],
 "metadata": {
  "anaconda-cloud": {},
  "kernelspec": {
   "display_name": "Python [conda root]",
   "language": "python",
   "name": "conda-root-py"
  },
  "language_info": {
   "codemirror_mode": {
    "name": "ipython",
    "version": 3
   },
   "file_extension": ".py",
   "mimetype": "text/x-python",
   "name": "python",
   "nbconvert_exporter": "python",
   "pygments_lexer": "ipython3",
   "version": "3.5.2"
  }
 },
 "nbformat": 4,
 "nbformat_minor": 1
}
