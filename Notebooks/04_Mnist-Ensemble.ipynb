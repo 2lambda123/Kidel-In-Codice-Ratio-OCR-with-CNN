{
 "cells": [
  {
   "cell_type": "code",
   "execution_count": 1,
   "metadata": {
    "collapsed": false
   },
   "outputs": [
    {
     "name": "stderr",
     "output_type": "stream",
     "text": [
      "Using TensorFlow backend.\n"
     ]
    }
   ],
   "source": [
    "import os.path\n",
    "from IPython.display import Image\n",
    "\n",
    "from util import Util\n",
    "u = Util()\n",
    "\n",
    "import numpy as np\n",
    "# Explicit random seed for reproducibility\n",
    "np.random.seed(1337)  "
   ]
  },
  {
   "cell_type": "code",
   "execution_count": 2,
   "metadata": {
    "collapsed": true
   },
   "outputs": [],
   "source": [
    "from keras.callbacks import ModelCheckpoint\n",
    "from keras.models import Sequential\n",
    "from keras.layers import Dense, Dropout, Activation, Flatten\n",
    "from keras.layers import Convolution2D, MaxPooling2D\n",
    "from keras.layers import Merge\n",
    "from keras.utils import np_utils\n",
    "from keras.preprocessing.image import ImageDataGenerator\n",
    "from keras import backend as K"
   ]
  },
  {
   "cell_type": "code",
   "execution_count": 3,
   "metadata": {
    "collapsed": true
   },
   "outputs": [],
   "source": [
    "from keras.datasets import mnist"
   ]
  },
  {
   "cell_type": "code",
   "execution_count": 4,
   "metadata": {
    "collapsed": true
   },
   "outputs": [],
   "source": [
    "batch_size = 512\n",
    "nb_classes = 10\n",
    "nb_epoch = 650\n",
    "# checkpoint path\n",
    "checkpoints_dir = \"checkpoints\"\n",
    "\n",
    "# number of networks for ensamble learning\n",
    "number_of_models = 5"
   ]
  },
  {
   "cell_type": "code",
   "execution_count": 5,
   "metadata": {
    "collapsed": true
   },
   "outputs": [],
   "source": [
    "# input image dimensions\n",
    "img_rows, img_cols = 28, 28\n",
    "# number of convolutional filters to use\n",
    "nb_filters1 = 20\n",
    "nb_filters2 = 40\n",
    "# size of pooling area for max pooling\n",
    "pool_size1 = (2, 2)\n",
    "pool_size2 = (3, 3)\n",
    "# convolution kernel size\n",
    "kernel_size1 = (4, 4)\n",
    "kernel_size2 = (5, 5)\n",
    "# dense layer size\n",
    "dense_layer_size1 = 200\n",
    "# dropout rate\n",
    "dropout = 0.15\n",
    "# activation type\n",
    "activation = 'relu'"
   ]
  },
  {
   "cell_type": "code",
   "execution_count": 6,
   "metadata": {
    "collapsed": true
   },
   "outputs": [],
   "source": [
    "# the data, shuffled and split between train and test sets\n",
    "(X_train, y_train), (X_test, y_test) = mnist.load_data()"
   ]
  },
  {
   "cell_type": "code",
   "execution_count": 7,
   "metadata": {
    "collapsed": false
   },
   "outputs": [
    {
     "data": {
      "image/png": "[encoded data removed]",
      "text/plain": [
       "<matplotlib.figure.Figure at 0x201b1f19ef0>"
      ]
     },
     "metadata": {},
     "output_type": "display_data"
    }
   ],
   "source": [
    "u.plot_images(X_train[0:9], y_train[0:9])"
   ]
  },
  {
   "cell_type": "code",
   "execution_count": 8,
   "metadata": {
    "collapsed": true
   },
   "outputs": [],
   "source": [
    "if K.image_dim_ordering() == 'th':\n",
    "    X_train = X_train.reshape(X_train.shape[0], 1, img_rows, img_cols)\n",
    "    X_test = X_test.reshape(X_test.shape[0], 1, img_rows, img_cols)\n",
    "    input_shape = (1, img_rows, img_cols)\n",
    "else:\n",
    "    X_train = X_train.reshape(X_train.shape[0], img_rows, img_cols, 1)\n",
    "    X_test = X_test.reshape(X_test.shape[0], img_rows, img_cols, 1)\n",
    "    input_shape = (img_rows, img_cols, 1)"
   ]
  },
  {
   "cell_type": "code",
   "execution_count": 9,
   "metadata": {
    "collapsed": false
   },
   "outputs": [
    {
     "name": "stdout",
     "output_type": "stream",
     "text": [
      "X_train shape: (60000, 28, 28, 1)\n",
      "60000 train samples\n",
      "10000 test samples\n"
     ]
    }
   ],
   "source": [
    "X_train = X_train.astype('float32')\n",
    "X_test = X_test.astype('float32')\n",
    "X_train /= 255\n",
    "X_test /= 255\n",
    "print('X_train shape:', X_train.shape)\n",
    "print(X_train.shape[0], 'train samples')\n",
    "print(X_test.shape[0], 'test samples')"
   ]
  },
  {
   "cell_type": "code",
   "execution_count": 10,
   "metadata": {
    "collapsed": true
   },
   "outputs": [],
   "source": [
    "# convert class vectors to binary class matrices\n",
    "Y_train = np_utils.to_categorical(y_train, nb_classes)\n",
    "Y_test = np_utils.to_categorical(y_test, nb_classes)"
   ]
  },
  {
   "cell_type": "code",
   "execution_count": 11,
   "metadata": {
    "collapsed": true
   },
   "outputs": [],
   "source": [
    "datagen = ImageDataGenerator(\n",
    "    rotation_range=30,\n",
    "    width_shift_range=0.1,\n",
    "    height_shift_range=0.1,\n",
    "    zoom_range=0.1,\n",
    "    horizontal_flip=False)\n",
    "\n",
    "# compute quantities required for featurewise normalization\n",
    "# (std, mean, and principal components if ZCA whitening is applied)\n",
    "datagen.fit(X_train)"
   ]
  },
  {
   "cell_type": "code",
   "execution_count": 12,
   "metadata": {
    "collapsed": true
   },
   "outputs": [],
   "source": [
    "def initialize_network(model, dropout1=dropout, dropout2=dropout, loss='categorical_crossentropy'):\n",
    "    model.add(Convolution2D(nb_filters1, kernel_size1[0], kernel_size1[1],\n",
    "                            border_mode='valid',\n",
    "                            input_shape=input_shape, name='covolution_1_' + str(nb_filters1) + '_filters'))\n",
    "    model.add(Activation(activation, name='activation_1_' + activation))\n",
    "    model.add(MaxPooling2D(pool_size=pool_size1, name='max_pooling_1_' + str(pool_size1) + '_pool_size'))\n",
    "    model.add(Convolution2D(nb_filters2, kernel_size2[0], kernel_size2[1]))\n",
    "    model.add(Activation(activation, name='activation_2_' + activation))\n",
    "    model.add(MaxPooling2D(pool_size=pool_size2, name='max_pooling_1_' + str(pool_size2) + '_pool_size'))\n",
    "    model.add(Dropout(dropout))\n",
    "\n",
    "    model.add(Flatten())\n",
    "    model.add(Dense(dense_layer_size1, name='fully_connected_1_' + str(dense_layer_size1) + '_neurons'))\n",
    "    model.add(Activation(activation, name='activation_3_' + activation))\n",
    "    model.add(Dropout(dropout))\n",
    "    model.add(Dense(nb_classes, name='output_' + str(nb_classes) + '_neurons'))\n",
    "    model.add(Activation('softmax', name='softmax'))\n",
    "\n",
    "    model.compile(loss=loss,\n",
    "                  optimizer='adadelta',\n",
    "                  metrics=['accuracy', 'precision', 'recall'])"
   ]
  },
  {
   "cell_type": "code",
   "execution_count": 13,
   "metadata": {
    "collapsed": false
   },
   "outputs": [],
   "source": [
    "# pseudo random generation of seeds\n",
    "seeds = np.random.randint(10000, size=number_of_models)\n",
    "\n",
    "# initializing all the models\n",
    "models = [None] * number_of_models\n",
    "\n",
    "for i in range(number_of_models):\n",
    "    models[i] = Sequential()\n",
    "    initialize_network(models[i])"
   ]
  },
  {
   "cell_type": "code",
   "execution_count": 14,
   "metadata": {
    "collapsed": true
   },
   "outputs": [],
   "source": [
    "def try_load_checkpoints(model, checkpoints_filepath, warn=False):\n",
    "    # loading weights from checkpoints \n",
    "    if os.path.exists(checkpoints_filepath):\n",
    "        model.load_weights(checkpoints_filepath)\n",
    "    elif warn: \n",
    "        print('Warning: ' + checkpoints_filepath + ' could not be loaded')\n",
    "\n",
    "def fit(model, checkpoints_name='test', seed=1337, initial_epoch=0, verbose=1, window_size=(-1), plot_history=False, evaluation=True):\n",
    "    if window_size == (-1):\n",
    "        window = 1 + np.random.randint(14)\n",
    "    else:\n",
    "        window = window_size\n",
    "    if window >= nb_epoch:\n",
    "        window = nb_epoch - 1\n",
    "    \n",
    "    print(\"Not pre-processing \" + str(window) + \" epoch(s)\")\n",
    "    \n",
    "    checkpoints_filepath = os.path.join(checkpoints_dir, '04_MNIST_weights.best_' + checkpoints_name + '.hdf5')\n",
    "\n",
    "    try_load_checkpoints(model, checkpoints_filepath, True)\n",
    "    \n",
    "    # checkpoint\n",
    "    checkpoint = ModelCheckpoint(checkpoints_filepath, monitor='val_precision', verbose=verbose, save_best_only=True, mode='max')\n",
    "    callbacks_list = [checkpoint]\n",
    "\n",
    "    # fits the model on batches with real-time data augmentation, for nb_epoch-100 epochs\n",
    "    history = model.fit_generator(datagen.flow(X_train, Y_train, \n",
    "                                               batch_size=batch_size, \n",
    "                                               # save_to_dir='distorted_data', \n",
    "                                               # save_format='png'\n",
    "                                               seed=1337),\n",
    "                            samples_per_epoch=len(X_train), nb_epoch=(nb_epoch-window), verbose=0, \n",
    "                            validation_data=(X_test, Y_test), callbacks=callbacks_list)\n",
    "\n",
    "    # ensuring best val_precision reached during training\n",
    "    try_load_checkpoints(model, checkpoints_filepath)\n",
    "\n",
    "    # fits the model on clear training set, for nb_epoch-700 epochs\n",
    "    history_cont = model.fit(X_train, Y_train, batch_size=batch_size, nb_epoch=window,\n",
    "                                    verbose=0, validation_data=(X_test, Y_test), callbacks=callbacks_list)\n",
    "\n",
    "    # ensuring best val_precision reached during training\n",
    "    try_load_checkpoints(model, checkpoints_filepath)\n",
    "    \n",
    "    if plot_history:\n",
    "        print(\"History: \")\n",
    "        u.plot_history(history)\n",
    "        u.plot_history(history, 'precision')\n",
    "        print(\"Continuation of training with no pre-processing:\")\n",
    "        u.plot_history(history_cont)\n",
    "        u.plot_history(history_cont, 'precision')\n",
    "    if evaluation:\n",
    "        print('Evaluating model ' + str(index))\n",
    "        score = model.evaluate(X_test, Y_test, verbose=0)\n",
    "        print('Test accuracy:', score[1]*100, '%')\n",
    "        print('Test error:', (1-score[2])*100, '%')\n",
    "        \n",
    "    return history, history_cont"
   ]
  },
  {
   "cell_type": "code",
   "execution_count": 15,
   "metadata": {
    "collapsed": false
   },
   "outputs": [
    {
     "name": "stdout",
     "output_type": "stream",
     "text": [
      "Training model 0 ...\n",
      "Not pre-processing 1 epoch(s)\n",
      "Evaluating model 0\n",
      "Test accuracy: 97.86 %\n",
      "Test error: 1.66819595337 %\n",
      "Done.\n",
      "\n",
      "\n",
      "Training model 1 ...\n",
      "Not pre-processing 1 epoch(s)\n",
      "Evaluating model 1\n",
      "Test accuracy: 98.1 %\n",
      "Test error: 1.46587120056 %\n",
      "Done.\n",
      "\n",
      "\n",
      "Training model 2 ...\n",
      "Not pre-processing 1 epoch(s)\n",
      "Evaluating model 2\n",
      "Test accuracy: 97.98 %\n",
      "Test error: 1.6042367363 %\n",
      "Done.\n",
      "\n",
      "\n",
      "Training model 3 ...\n",
      "Not pre-processing 1 epoch(s)\n",
      "Evaluating model 3\n",
      "Test accuracy: 97.67 %\n",
      "Test error: 1.87847337723 %\n",
      "Done.\n",
      "\n",
      "\n",
      "Training model 4 ...\n",
      "Not pre-processing 1 epoch(s)\n",
      "Evaluating model 4\n",
      "Test accuracy: 97.78 %\n",
      "Test error: 1.82133356094 %\n",
      "Done.\n",
      "\n",
      "\n"
     ]
    }
   ],
   "source": [
    "for index in range(number_of_models):\n",
    "    print(\"Training model \" + str(index) + \" ...\")\n",
    "    if index == 0:\n",
    "        window_size = 20\n",
    "    else:\n",
    "        window_size = (-1)\n",
    "    history, history_cont = fit(models[index], \n",
    "                                str(index), \n",
    "                                seed=seeds[index],\n",
    "                                initial_epoch=0,\n",
    "                                verbose=0, \n",
    "                                window_size=window_size, \n",
    "                                plot_history=False)\n",
    "    print(\"Done.\\n\\n\")"
   ]
  },
  {
   "cell_type": "code",
   "execution_count": 16,
   "metadata": {
    "collapsed": false
   },
   "outputs": [],
   "source": [
    "merged_model = Sequential()\n",
    "merged_model.add(Merge(models, mode='ave'))\n",
    "\n",
    "merged_model.compile(loss='categorical_crossentropy',\n",
    "                     optimizer='adadelta',\n",
    "                     metrics=['accuracy', 'precision', 'recall'])"
   ]
  },
  {
   "cell_type": "code",
   "execution_count": 17,
   "metadata": {
    "collapsed": false
   },
   "outputs": [
    {
     "name": "stdout",
     "output_type": "stream",
     "text": [
      "Evaluating ensemble\n",
      "Test accuracy: 98.17 %\n",
      "Test error: 1.45464536667 %\n"
     ]
    }
   ],
   "source": [
    "print('Evaluating ensemble')\n",
    "score = merged_model.evaluate([np.asarray(X_test)] * number_of_models, \n",
    "                              Y_test, \n",
    "                              verbose=0)\n",
    "print('Test accuracy:', score[1]*100, '%')\n",
    "print('Test error:', (1-score[2])*100, '%')"
   ]
  }
 ],
 "metadata": {
  "anaconda-cloud": {},
  "kernelspec": {
   "display_name": "Python [conda root]",
   "language": "python",
   "name": "conda-root-py"
  },
  "language_info": {
   "codemirror_mode": {
    "name": "ipython",
    "version": 3
   },
   "file_extension": ".py",
   "mimetype": "text/x-python",
   "name": "python",
   "nbconvert_exporter": "python",
   "pygments_lexer": "ipython3",
   "version": "3.5.2"
  }
 },
 "nbformat": 4,
 "nbformat_minor": 1
}
