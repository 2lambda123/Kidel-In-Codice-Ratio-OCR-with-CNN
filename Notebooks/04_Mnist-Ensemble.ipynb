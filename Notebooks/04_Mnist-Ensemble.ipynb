{
 "cells": [
  {
   "cell_type": "code",
   "execution_count": null,
   "metadata": {
    "collapsed": true
   },
   "outputs": [],
   "source": [
    "import os.path\n",
    "from IPython.display import Image\n",
    "\n",
    "from util import Util\n",
    "u = Util()\n",
    "\n",
    "import random\n",
    "import numpy as np\n",
    "# Explicit random seed for reproducibility\n",
    "np.random.seed(1337)  "
   ]
  },
  {
   "cell_type": "code",
   "execution_count": null,
   "metadata": {
    "collapsed": true
   },
   "outputs": [],
   "source": [
    "from keras.callbacks import ModelCheckpoint\n",
    "from keras.models import Sequential\n",
    "from keras.layers import Dense, Dropout, Activation, Flatten\n",
    "from keras.layers import Convolution2D, MaxPooling2D\n",
    "from keras.utils import np_utils\n",
    "from keras.preprocessing.image import ImageDataGenerator\n",
    "from keras import backend as K"
   ]
  },
  {
   "cell_type": "code",
   "execution_count": null,
   "metadata": {
    "collapsed": true
   },
   "outputs": [],
   "source": [
    "from keras.datasets import mnist"
   ]
  },
  {
   "cell_type": "code",
   "execution_count": null,
   "metadata": {
    "collapsed": true
   },
   "outputs": [],
   "source": [
    "batch_size = 512\n",
    "nb_classes = 10\n",
    "nb_epoch = 800\n",
    "# checkpoint path\n",
    "checkpoints_dir = \"checkpoints\""
   ]
  },
  {
   "cell_type": "code",
   "execution_count": null,
   "metadata": {
    "collapsed": true
   },
   "outputs": [],
   "source": [
    "# input image dimensions\n",
    "img_rows, img_cols = 28, 28\n",
    "# number of convolutional filters to use\n",
    "nb_filters1 = 20\n",
    "nb_filters2 = 40\n",
    "# size of pooling area for max pooling\n",
    "pool_size1 = (2, 2)\n",
    "pool_size2 = (3, 3)\n",
    "# convolution kernel size\n",
    "kernel_size1 = (4, 4)\n",
    "kernel_size2 = (5, 5)\n",
    "# dense layer size\n",
    "dense_layer_size1 = 200\n",
    "# dropout rate\n",
    "dropout = 0.15\n",
    "# activation type\n",
    "activation = 'relu'"
   ]
  },
  {
   "cell_type": "code",
   "execution_count": null,
   "metadata": {
    "collapsed": true
   },
   "outputs": [],
   "source": [
    "# the data, shuffled and split between train and test sets\n",
    "(X_train, y_train), (X_test, y_test) = mnist.load_data()"
   ]
  },
  {
   "cell_type": "code",
   "execution_count": null,
   "metadata": {
    "collapsed": true
   },
   "outputs": [],
   "source": [
    "u.plot_images(X_train[0:9], y_train[0:9])"
   ]
  },
  {
   "cell_type": "code",
   "execution_count": null,
   "metadata": {
    "collapsed": true
   },
   "outputs": [],
   "source": [
    "if K.image_dim_ordering() == 'th':\n",
    "    X_train = X_train.reshape(X_train.shape[0], 1, img_rows, img_cols)\n",
    "    X_test = X_test.reshape(X_test.shape[0], 1, img_rows, img_cols)\n",
    "    input_shape = (1, img_rows, img_cols)\n",
    "else:\n",
    "    X_train = X_train.reshape(X_train.shape[0], img_rows, img_cols, 1)\n",
    "    X_test = X_test.reshape(X_test.shape[0], img_rows, img_cols, 1)\n",
    "    input_shape = (img_rows, img_cols, 1)"
   ]
  },
  {
   "cell_type": "code",
   "execution_count": null,
   "metadata": {
    "collapsed": true
   },
   "outputs": [],
   "source": [
    "X_train = X_train.astype('float32')\n",
    "X_test = X_test.astype('float32')\n",
    "X_train /= 255\n",
    "X_test /= 255\n",
    "print('X_train shape:', X_train.shape)\n",
    "print(X_train.shape[0], 'train samples')\n",
    "print(X_test.shape[0], 'test samples')"
   ]
  },
  {
   "cell_type": "code",
   "execution_count": null,
   "metadata": {
    "collapsed": true
   },
   "outputs": [],
   "source": [
    "# convert class vectors to binary class matrices\n",
    "Y_train = np_utils.to_categorical(y_train, nb_classes)\n",
    "Y_test = np_utils.to_categorical(y_test, nb_classes)"
   ]
  },
  {
   "cell_type": "code",
   "execution_count": null,
   "metadata": {
    "collapsed": true
   },
   "outputs": [],
   "source": [
    "datagen = ImageDataGenerator(\n",
    "    rotation_range=30,\n",
    "    width_shift_range=0.1,\n",
    "    height_shift_range=0.1,\n",
    "    zoom_range=0.1,\n",
    "    horizontal_flip=False)\n",
    "\n",
    "# compute quantities required for featurewise normalization\n",
    "# (std, mean, and principal components if ZCA whitening is applied)\n",
    "datagen.fit(X_train)"
   ]
  },
  {
   "cell_type": "code",
   "execution_count": null,
   "metadata": {
    "collapsed": true
   },
   "outputs": [],
   "source": [
    "def initialize_network(model, dropout1=dropout, dropout2=dropout, loss='categorical_crossentropy'):\n",
    "    model.add(Convolution2D(nb_filters1, kernel_size1[0], kernel_size1[1],\n",
    "                            border_mode='valid',\n",
    "                            input_shape=input_shape, name='covolution_1_' + str(nb_filters1) + '_filters'))\n",
    "    model.add(Activation(activation, name='activation_1_' + activation))\n",
    "    model.add(MaxPooling2D(pool_size=pool_size1, name='max_pooling_1_' + str(pool_size1) + '_pool_size'))\n",
    "    model.add(Convolution2D(nb_filters2, kernel_size2[0], kernel_size2[1]))\n",
    "    model.add(Activation(activation, name='activation_2_' + activation))\n",
    "    model.add(MaxPooling2D(pool_size=pool_size2, name='max_pooling_1_' + str(pool_size2) + '_pool_size'))\n",
    "    model.add(Dropout(dropout))\n",
    "\n",
    "    model.add(Flatten())\n",
    "    model.add(Dense(dense_layer_size1, name='fully_connected_1_' + str(dense_layer_size1) + '_neurons'))\n",
    "    model.add(Activation(activation, name='activation_3_' + activation))\n",
    "    model.add(Dropout(dropout))\n",
    "    model.add(Dense(nb_classes, name='output_' + str(nb_classes) + '_neurons'))\n",
    "    model.add(Activation('softmax', name='softmax'))\n",
    "\n",
    "    model.compile(loss=loss,\n",
    "                  optimizer='adadelta',\n",
    "                  metrics=['accuracy', 'precision', 'recall', 'mean_absolute_error'])\n",
    "    \n",
    "    # loading weights from checkpoints \n",
    "    if os.path.exists(checkpoints_filepath):\n",
    "        model.load_weights(checkpoints_filepath)\n",
    "    else: \n",
    "        print('Warning: ' + checkpoints_filepath + ' could not be loaded')"
   ]
  },
  {
   "cell_type": "code",
   "execution_count": null,
   "metadata": {
    "collapsed": true
   },
   "outputs": [],
   "source": [
    "model1 = Sequential()\n",
    "model2 = Sequential()\n",
    "model3 = Sequential()\n",
    "model4 = Sequential()\n",
    "model5 = Sequential()\n",
    "\n",
    "models = [model1, model2, model3, model4, model5]\n",
    "seeds = [1337, 22, 73, 42, 1990]\n",
    "\n",
    "for model in models:\n",
    "    initialize_network(model)"
   ]
  },
  {
   "cell_type": "code",
   "execution_count": null,
   "metadata": {
    "collapsed": true
   },
   "outputs": [],
   "source": [
    "def fit(model, checkpoints_name='test', seed=1337, verbose=1, window_size=(-1)):\n",
    "    if window_size == (-1):\n",
    "        window = random.randint(1,15)\n",
    "    else:\n",
    "        window = window_size\n",
    "    print(\"Window: \" + str(window))\n",
    "    checkpoints_filepath = os.path.join(checkpoints_dir, '04_MNIST_weights.best_' + checkpoints_file + '.hdf5')\n",
    "    # checkpoint\n",
    "    checkpoint = ModelCheckpoint(checkpoints_filepath, monitor='val_precision', verbose=1, save_best_only=True, mode='max')\n",
    "    callbacks_list = [checkpoint]\n",
    "\n",
    "    # fits the model on batches with real-time data augmentation, for nb_epoch-100 epochs\n",
    "    history = model.fit_generator(datagen.flow(X_train, Y_train, \n",
    "                                                      batch_size=batch_size, \n",
    "                                                      # save_to_dir='distorted_data', \n",
    "                                                      # save_format='png'\n",
    "                                                      seed=1337),\n",
    "                            samples_per_epoch=len(X_train), nb_epoch=(nb_epoch-window), verbose=0, \n",
    "                            validation_data=(X_test, Y_test), callbacks=callbacks_list)\n",
    "\n",
    "    # ensuring best val_precision reached during training\n",
    "    model.load_weights(checkpoints_filepath)\n",
    "\n",
    "    # fits the model on clear training set, for nb_epoch-700 epochs\n",
    "    history_cont = model.fit(X_train, Y_train, batch_size=batch_size, nb_epoch=window,\n",
    "                                    verbose=0, validation_data=(X_test, Y_test), callbacks=callbacks_list)\n",
    "\n",
    "    # ensuring best val_precision reached during training\n",
    "    model.load_weights(checkpoints_filepath)\n",
    "    return history, history_cont"
   ]
  },
  {
   "cell_type": "code",
   "execution_count": null,
   "metadata": {
    "collapsed": true
   },
   "outputs": [],
   "source": [
    "for index, model in enumerate(models):\n",
    "    print(\"Training model \" + str(index) + \" ...\")\n",
    "    if index == 0:\n",
    "        window_size = 20\n",
    "    else:\n",
    "        window_size = (-1)\n",
    "    history, history_cont = fit(model, str(index), seed=seeds[index], verbose=0, window_size=window_size)\n",
    "    print(\"Done.\")\n",
    "    print(\"History: \")\n",
    "    u.plot_history(history)\n",
    "    u.plot_history(history, 'precision')\n",
    "    print(\"Continuation of training with no pre-processing:\")\n",
    "    u.plot_history(history_cont)\n",
    "    u.plot_history(history_cont, 'precision')\n",
    "    print('evaluating model ' + str(index))\n",
    "    score = model.evaluate(X_test, Y_test, verbose=0)\n",
    "    print('Test accuracy:', score[1]*100, '%')\n",
    "    print('Test error:', (1-score[2])*100, '%')"
   ]
  },
  {
   "cell_type": "code",
   "execution_count": null,
   "metadata": {
    "collapsed": true
   },
   "outputs": [],
   "source": [
    "merged_model = Sequential()\n",
    "merged_model.add(Merge(models, mode='ave')"
   ]
  },
  {
   "cell_type": "code",
   "execution_count": null,
   "metadata": {
    "collapsed": true
   },
   "outputs": [],
   "source": [
    "print('Evaluating ensemble')\n",
    "score = merged_model.evaluate(X_test, Y_test, verbose=0)\n",
    "print('Test accuracy:', score[1]*100, '%')\n",
    "print('Test error:', (1-score[2])*100, '%')"
   ]
  }
 ],
 "metadata": {
  "anaconda-cloud": {},
  "kernelspec": {
   "display_name": "Python [conda root]",
   "language": "python",
   "name": "conda-root-py"
  },
  "language_info": {
   "codemirror_mode": {
    "name": "ipython",
    "version": 3
   },
   "file_extension": ".py",
   "mimetype": "text/x-python",
   "name": "python",
   "nbconvert_exporter": "python",
   "pygments_lexer": "ipython3",
   "version": "3.5.2"
  }
 },
 "nbformat": 4,
 "nbformat_minor": 1
}
