{
 "cells": [
  {
   "cell_type": "markdown",
   "metadata": {},
   "source": [
    "# In Codice Ratio Convolutional Neural Network - Test on words"
   ]
  },
  {
   "cell_type": "code",
   "execution_count": 1,
   "metadata": {
    "collapsed": false
   },
   "outputs": [
    {
     "name": "stderr",
     "output_type": "stream",
     "text": [
      "Using TensorFlow backend.\n"
     ]
    }
   ],
   "source": [
    "import os.path\n",
    "from IPython.display import Image\n",
    "import time\n",
    "\n",
    "from util import Util\n",
    "u = Util()\n",
    "import image_utils as iu\n",
    "import keras_image_utils as kiu\n",
    "\n",
    "import numpy as np\n",
    "# Explicit random seed for reproducibility\n",
    "np.random.seed(1337)"
   ]
  },
  {
   "cell_type": "code",
   "execution_count": 2,
   "metadata": {
    "collapsed": true
   },
   "outputs": [],
   "source": [
    "from keras.models import Sequential\n",
    "from keras.layers import Dense, Dropout, Activation, Flatten\n",
    "from keras.layers import Convolution2D, MaxPooling2D\n",
    "from keras.layers import Merge"
   ]
  },
  {
   "cell_type": "code",
   "execution_count": 3,
   "metadata": {
    "collapsed": true
   },
   "outputs": [],
   "source": [
    "import dataset_generator as dataset"
   ]
  },
  {
   "cell_type": "markdown",
   "metadata": {},
   "source": [
    "## Loading test sets"
   ]
  },
  {
   "cell_type": "code",
   "execution_count": 4,
   "metadata": {
    "collapsed": false
   },
   "outputs": [
    {
     "name": "stdout",
     "output_type": "stream",
     "text": [
      "Loaded test set for all the characters\n",
      "Loaded test set for good and bad segments\n",
      "Loaded test set for char 'a'\n",
      "Loaded test set for char 'c'\n",
      "Loaded test set for char 'd_mediana'\n",
      "Loaded test set for char 'e'\n",
      "Loaded test set for char 'i'\n",
      "Loaded test set for char 'm'\n",
      "Loaded test set for char 'n'\n",
      "Loaded test set for char 'o'\n",
      "Loaded test set for char 'r'\n",
      "Loaded test set for char 's_mediana'\n",
      "Loaded test set for char 't'\n",
      "Loaded test set for char 'u'\n",
      "Loaded test set for char 'd_alta'\n",
      "Loaded test set for char 's_alta'\n",
      "Loaded test set for char 'b'\n",
      "Loaded test set for char 'f'\n",
      "Loaded test set for char 'h'\n",
      "Loaded test set for char 'l'\n",
      "Loaded test set for char 'g'\n",
      "Loaded test set for char 'p'\n",
      "Loaded test set for char 'q'\n",
      "Loaded test set for char 's_bassa'\n"
     ]
    }
   ],
   "source": [
    "# letter list\n",
    "ALPHABET_ALL = dataset.ALPHABET_ALL\n",
    "\n",
    "(_, _, X_test_22, y_test_22, _) = dataset.generate_all_chars_with_class(verbose=0, plot=False)\n",
    "(input_shape, X_test_22, Y_test_22) = kiu.adjust_input_output(X_test_22, y_test_22, 22) \n",
    "print (\"Loaded test set for all the characters\")\n",
    "\n",
    "(_, _, X_test_seg, y_test_seg) = dataset.generate_dataset_for_segmentator(verbose=0, plot=False)\n",
    "(_, X_test_seg, Y_test_seg) = kiu.adjust_input_output(X_test_seg, y_test_seg, 2)\n",
    "print (\"Loaded test set for good and bad segments\")\n",
    "\n",
    "X_test_char = {}\n",
    "y_test_char = {}\n",
    "Y_test_char = {}\n",
    "for char in ALPHABET_ALL:\n",
    "    (_, _, X_test_char[char], y_test_char[char]) = dataset.generate_positive_and_negative_labeled(char, verbose=0)\n",
    "    (_, X_test_char[char], Y_test_char[char]) = kiu.adjust_input_output(X_test_char[char], y_test_char[char], 2)\n",
    "    print (\"Loaded test set for char '\" + char + \"'\")"
   ]
  },
  {
   "cell_type": "markdown",
   "metadata": {},
   "source": [
    "## Constants"
   ]
  },
  {
   "cell_type": "code",
   "execution_count": 5,
   "metadata": {
    "collapsed": true
   },
   "outputs": [],
   "source": [
    "# input image dimensions\n",
    "img_rows, img_cols = 34, 56\n",
    "\n",
    "# number of networks for ensamble learning\n",
    "number_of_models = 5\n",
    "\n",
    "# checkpoints dir\n",
    "checkpoints_dir = \"checkpoints\"\n",
    "\n",
    "# size of pooling area for max pooling\n",
    "pool_size1 = (2, 2)\n",
    "pool_size2 = (3, 3)\n",
    "# convolution kernel size\n",
    "kernel_size1 = (4, 4)\n",
    "kernel_size2 = (5, 5)\n",
    "# dropout rate\n",
    "dropout = 0.15\n",
    "# activation\n",
    "activation = 'relu'"
   ]
  },
  {
   "cell_type": "markdown",
   "metadata": {},
   "source": [
    "## Helper functions for model definition and load"
   ]
  },
  {
   "cell_type": "code",
   "execution_count": 6,
   "metadata": {
    "collapsed": true
   },
   "outputs": [],
   "source": [
    "def initialize_network_single_column(model, nb_classes, nb_filters1, nb_filters2, dense_layer_size1):\n",
    "    model.add(Convolution2D(nb_filters1, kernel_size1[0], kernel_size1[1],\n",
    "                            border_mode='valid',\n",
    "                            input_shape=input_shape, name='covolution_1_' + str(nb_filters1) + '_filters'))\n",
    "    model.add(Activation(activation, name='activation_1_' + activation))\n",
    "    model.add(MaxPooling2D(pool_size=pool_size1, name='max_pooling_1_' + str(pool_size1) + '_pool_size'))\n",
    "    model.add(Convolution2D(nb_filters2, kernel_size2[0], kernel_size2[1]))\n",
    "    model.add(Activation(activation, name='activation_2_' + activation))\n",
    "    model.add(MaxPooling2D(pool_size=pool_size2, name='max_pooling_1_' + str(pool_size2) + '_pool_size'))\n",
    "    model.add(Dropout(dropout))\n",
    "\n",
    "    model.add(Flatten())\n",
    "    model.add(Dense(dense_layer_size1, name='fully_connected_1_' + str(dense_layer_size1) + '_neurons'))\n",
    "    model.add(Activation(activation, name='activation_3_' + activation))\n",
    "    model.add(Dropout(dropout))\n",
    "    model.add(Dense(nb_classes, name='output_' + str(nb_classes) + '_neurons'))\n",
    "    model.add(Activation('softmax', name='softmax'))\n",
    "\n",
    "    model.compile(loss='categorical_crossentropy',\n",
    "                  optimizer='adadelta',\n",
    "                  metrics=['accuracy', 'precision', 'recall'])\n",
    "\n",
    "def try_load_checkpoints(model, checkpoints_filepath, warn=True):\n",
    "    # loading weights from checkpoints \n",
    "    if os.path.exists(checkpoints_filepath):\n",
    "        model.load_weights(checkpoints_filepath)\n",
    "    elif warn: \n",
    "        print('Warning: ' + checkpoints_filepath + ' could not be loaded')\n",
    "\n",
    "def initialize_network_multi_column(merged_model, models):\n",
    "    merged_model.add(Merge(models, mode='ave'))\n",
    "    merged_model.compile(loss='categorical_crossentropy',\n",
    "                         optimizer='adadelta',\n",
    "                         metrics=['accuracy', 'precision', 'recall'])\n",
    "\n",
    "def create_and_load_network(number_of_models, checkpoint_paths, nb_classes, \n",
    "                            nb_filters1, nb_filters2, dense_layer_size1):\n",
    "    # pseudo random generation of seeds\n",
    "    seeds = np.random.randint(10000, size=number_of_models)\n",
    "\n",
    "    # initializing all the models\n",
    "    models = [None] * number_of_models\n",
    "\n",
    "    for i in range(number_of_models):\n",
    "        models[i] = Sequential()\n",
    "        initialize_network_single_column(models[i], nb_classes, nb_filters1, nb_filters2, dense_layer_size1)\n",
    "        try_load_checkpoints(models[i], checkpoint_paths[i])\n",
    "        \n",
    "    # initializing merged model\n",
    "    merged_model = Sequential()\n",
    "    initialize_network_multi_column(merged_model, models)\n",
    "    \n",
    "    return (merged_model, models)"
   ]
  },
  {
   "cell_type": "markdown",
   "metadata": {},
   "source": [
    "## Model load"
   ]
  },
  {
   "cell_type": "code",
   "execution_count": 7,
   "metadata": {
    "collapsed": false,
    "scrolled": false
   },
   "outputs": [
    {
     "name": "stdout",
     "output_type": "stream",
     "text": [
      "Loaded 22 classes orc model with test error of  4.60439568125 %\n",
      "Loaded binary segmentator model with test error of  5.8471036873 %\n",
      "---\n",
      "Loaded binary model for 'a', with test error of  5.76923082017 %\n",
      "Loaded binary model for 'c', with test error of  7.44680889109 %\n",
      "Loaded binary model for 'd_mediana', with test error of  3.4482760676 %\n",
      "Loaded binary model for 'e', with test error of  3.34158415842 %\n",
      "Loaded binary model for 'i', with test error of  17.9824561404 %\n",
      "Loaded binary model for 'm', with test error of  9.44700471817 %\n",
      "Loaded binary model for 'n', with test error of  11.2903225593 %\n",
      "Loaded binary model for 'o', with test error of  7.35294129334 %\n",
      "Loaded binary model for 'r', with test error of  6.66666653421 %\n",
      "Loaded binary model for 's_mediana', with test error of  3.33333611488 %\n",
      "Loaded binary model for 't', with test error of  5.47945205479 %\n",
      "Loaded binary model for 'u', with test error of  15.5487804878 %\n",
      "Loaded binary model for 'd_alta', with test error of  2.32558139535 %\n",
      "Loaded binary model for 's_alta', with test error of  7.01754385965 %\n",
      "Loaded binary model for 'b', with test error of  6.25 %\n",
      "Loaded binary model for 'f', with test error of  5.0 %\n",
      "Loaded binary model for 'h', with test error of  19.4444444444 %\n",
      "Loaded binary model for 'l', with test error of  3.57142857143 %\n",
      "Loaded binary model for 'g', with test error of  2.0 %\n",
      "Loaded binary model for 'p', with test error of  5.55555555556 %\n",
      "Loaded binary model for 'q', with test error of  5.30303030303 %\n",
      "Loaded binary model for 's_bassa', with test error of  5.20833333333 %\n",
      "Average test error:  7.21739896831 %\n"
     ]
    }
   ],
   "source": [
    "# 22 classes ocr\n",
    "ocr_weigts_dir = os.path.join(checkpoints_dir, \"09_22-classes\")\n",
    "\n",
    "ocr_weights = [os.path.join(ocr_weigts_dir, \"09_ICR_weights.best_0.hdf5\"), \n",
    "               os.path.join(ocr_weigts_dir, \"09_ICR_weights.best_1.hdf5\"),\n",
    "               os.path.join(ocr_weigts_dir, \"09_ICR_weights.best_2.hdf5\"),\n",
    "               os.path.join(ocr_weigts_dir, \"09_ICR_weights.best_3.hdf5\"),\n",
    "               os.path.join(ocr_weigts_dir, \"09_ICR_weights.best_4.hdf5\")]\n",
    "(ocr_model, _) = create_and_load_network(5, ocr_weights, 22, 50, 100, 250)\n",
    "score = ocr_model.evaluate([np.asarray(X_test_22)] * number_of_models, Y_test_22, verbose=0)\n",
    "print (\"Loaded 22 classes orc model with test error of \", (1-score[2])*100, '%')\n",
    "\n",
    "# segmentator network (good cut / bad cut)\n",
    "segmentator_weigts_dir = os.path.join(checkpoints_dir, \"letter_not_letter\")\n",
    "\n",
    "segmentator_weights = [os.path.join(segmentator_weigts_dir, \"10_ICR_weights.best_0.hdf5\"), \n",
    "                       os.path.join(segmentator_weigts_dir, \"10_ICR_weights.best_1.hdf5\"),\n",
    "                       os.path.join(segmentator_weigts_dir, \"10_ICR_weights.best_2.hdf5\"),\n",
    "                       os.path.join(segmentator_weigts_dir, \"10_ICR_weights.best_3.hdf5\"),\n",
    "                       os.path.join(segmentator_weigts_dir, \"10_ICR_weights.best_4.hdf5\")]\n",
    "(segmentator_model, _) = create_and_load_network(5, segmentator_weights, 2, 50, 100, 250)\n",
    "score = segmentator_model.evaluate([np.asarray(X_test_seg)] * number_of_models, Y_test_seg, verbose=0)\n",
    "print (\"Loaded binary segmentator model with test error of \", (1-score[2])*100, '%')\n",
    "print (\"---\")\n",
    "\n",
    "# single letter segmentator / ocr \n",
    "single_letter_models = {}\n",
    "single_letter_weights_dir = {}\n",
    "single_letter_weights = {}\n",
    "errors = []\n",
    "for char in ALPHABET_ALL:\n",
    "    single_letter_weights_dir[char] = os.path.join(checkpoints_dir, char)\n",
    "\n",
    "    single_letter_weights[char] = [os.path.join(single_letter_weights_dir[char], \"0.hdf5\"), \n",
    "                                   os.path.join(single_letter_weights_dir[char], \"1.hdf5\"),\n",
    "                                   os.path.join(single_letter_weights_dir[char], \"2.hdf5\"),\n",
    "                                   os.path.join(single_letter_weights_dir[char], \"3.hdf5\"),\n",
    "                                   os.path.join(single_letter_weights_dir[char], \"4.hdf5\")]\n",
    "    (single_letter_models[char], _) = create_and_load_network(5, single_letter_weights[char], 2, 20, 40, 150)\n",
    "    score = single_letter_models[char].evaluate([np.asarray(X_test_char[char])] * number_of_models, Y_test_char[char], verbose=0)\n",
    "    print (\"Loaded binary model for '\" + char + \"', with test error of \", (1-score[2])*100, '%')\n",
    "    errors.append(1-score[2])\n",
    "print(\"Average test error: \", sum(errors) / float(len(errors)) * 100, \"%\")"
   ]
  },
  {
   "cell_type": "markdown",
   "metadata": {},
   "source": [
    "## Helper functions for prediction"
   ]
  },
  {
   "cell_type": "code",
   "execution_count": 43,
   "metadata": {
    "collapsed": false
   },
   "outputs": [],
   "source": [
    "def predict_pipeline1(data, count_letter=True):\n",
    "    start_time = time.time()\n",
    "    count = 0\n",
    "    for bad_cut in data:\n",
    "        flag = False\n",
    "        count += 1\n",
    "        bad_cuts = np.asarray([bad_cut])\n",
    "        if count_letter:\n",
    "            print (\"Predictions for the supposed letter number \" + str(count))\n",
    "        for char in ALPHABET_ALL:\n",
    "            predictions = single_letter_models[char].predict([bad_cuts] * number_of_models)\n",
    "            if (predictions[0][1] > predictions[0][0]):\n",
    "                print (\"Cut \" + str(count) + \" has been classified as good corresponding to char '\" +\\\n",
    "                       char + \"' with a confidence of \" + str(predictions[0][1] * 100) + \"%\")\n",
    "                flag = True\n",
    "        if not flag:\n",
    "            print (\"Bad cut\")\n",
    "        print (\"---\")\n",
    "    elapsed_time = time.time() - start_time\n",
    "    print(\"Elapsed time:\", elapsed_time)\n",
    "        \n",
    "def predict_pipeline2(data, count_letter=True):\n",
    "    start_time = time.time()\n",
    "    count = 0\n",
    "    for bad_cut in data:\n",
    "        count += 1\n",
    "        bad_cuts = np.asarray([bad_cut])\n",
    "        if count_letter:\n",
    "            print (\"Predictions for the supposed letter number \" + str(count))\n",
    "        predictions = segmentator_model.predict([bad_cuts] * number_of_models)\n",
    "        if (predictions[0][1] > predictions[0][0]):\n",
    "            predictions = ocr_model.predict([bad_cuts] * number_of_models)\n",
    "            ind = (-predictions[0]).argsort()[:3]\n",
    "            for i in ind:\n",
    "                print (\"Good cut corresponding to letter '\" + ALPHABET_ALL[i] + \\\n",
    "                   \"' with a confidence of \" + str(predictions[0][i] * 100) + \"%\")\n",
    "        else: \n",
    "            print (\"Bad cut with a confidence of \" + str(predictions[0][0] * 100) + \"%\")\n",
    "        print (\"---\")\n",
    "    elapsed_time = time.time() - start_time\n",
    "    print(\"Elapsed time:\", elapsed_time)\n",
    "        \n",
    "def predict_pipeline3(data, count_letter=True):\n",
    "    start_time = time.time()\n",
    "    count = 0\n",
    "    for bad_cut in data:\n",
    "        flag = False\n",
    "        count += 1\n",
    "        bad_cuts = np.asarray([bad_cut])\n",
    "        if count_letter:\n",
    "            print (\"Predictions for the supposed letter number \" + str(count))\n",
    "        for char in ALPHABET_ALL:\n",
    "            predictions = single_letter_models[char].predict([bad_cuts] * number_of_models)\n",
    "            if (predictions[0][1] > predictions[0][0]):\n",
    "                print (\"Good cut with a confidence of \" + str(predictions[0][1] * 100) + \"% by letter '\" + char + \"'\")\n",
    "                flag = True\n",
    "        if flag:\n",
    "            predictions = ocr_model.predict([bad_cuts] * number_of_models)\n",
    "            ind = (-predictions[0]).argsort()[:3]\n",
    "            for i in ind:\n",
    "                print (\"Good cut corresponding to letter '\" + ALPHABET_ALL[i] + \\\n",
    "                   \"' with a confidence of \" + str(predictions[0][i] * 100) + \"%\")\n",
    "        else: \n",
    "            print (\"Bad cut\")\n",
    "        print (\"---\")\n",
    "    elapsed_time = time.time() - start_time\n",
    "    print(\"Elapsed time:\", elapsed_time)\n",
    "\n",
    "def predict_pipeline4(data, count_letter=True):\n",
    "    start_time = time.time()\n",
    "    count = 0\n",
    "    for bad_cut in data:\n",
    "        count += 1\n",
    "        bad_cuts = np.asarray([bad_cut])\n",
    "        if count_letter:\n",
    "            print (\"Predictions for the supposed letter number \" + str(count))\n",
    "        predictions = segmentator_model.predict([bad_cuts] * number_of_models)\n",
    "        if (predictions[0][1] > predictions[0][0]):\n",
    "            for char in ALPHABET_ALL:\n",
    "                predictions = single_letter_models[char].predict([bad_cuts] * number_of_models)\n",
    "                if (predictions[0][1] > predictions[0][0]):\n",
    "                    print (\"Good cut with a confidence of \" + str(predictions[0][1] * 100) + \"% by letter '\" + char + \"'\")\n",
    "        else: \n",
    "            print (\"Bad cut with a confidence of \" + str(predictions[0][0] * 100) + \"%\")\n",
    "        print (\"---\")\n",
    "    elapsed_time = time.time() - start_time\n",
    "    print(\"Elapsed time:\", elapsed_time)"
   ]
  },
  {
   "cell_type": "markdown",
   "metadata": {},
   "source": [
    "## Experiment 1 (\"asseras\")"
   ]
  },
  {
   "cell_type": "code",
   "execution_count": 44,
   "metadata": {
    "collapsed": false
   },
   "outputs": [
    {
     "data": {
      "image/png": "[encoded data removed]",
      "text/plain": [
       "<matplotlib.figure.Figure at 0x2201816c3c8>"
      ]
     },
     "metadata": {},
     "output_type": "display_data"
    }
   ],
   "source": [
    "u.plot_image(iu.load_sample(\"not_code/words/asseras.png\"), (40, 106))"
   ]
  },
  {
   "cell_type": "markdown",
   "metadata": {},
   "source": [
    "### Bad cuts"
   ]
  },
  {
   "cell_type": "code",
   "execution_count": 45,
   "metadata": {
    "collapsed": false
   },
   "outputs": [
    {
     "data": {
      "image/png": "[encoded data removed]",
      "text/plain": [
       "<matplotlib.figure.Figure at 0x220147fd7b8>"
      ]
     },
     "metadata": {},
     "output_type": "display_data"
    }
   ],
   "source": [
    "asseras_bad_cuts = iu.open_many_samples( \\\n",
    "                  [\"not_code/words/bad_cuts/asseras/1.png\",\n",
    "                   \"not_code/words/bad_cuts/asseras/2.png\",\n",
    "                   \"not_code/words/bad_cuts/asseras/3.png\",\n",
    "                   \"not_code/words/bad_cuts/asseras/4.png\",\n",
    "                   \"not_code/words/bad_cuts/asseras/5.png\"])\n",
    "(asseras_bad_cuts, _) = kiu.adjust_input(np.asarray(asseras_bad_cuts))\n",
    "\n",
    "u.plot_some_images(asseras_bad_cuts, (img_cols, img_rows), grid_x=5, grid_y=1)"
   ]
  },
  {
   "cell_type": "markdown",
   "metadata": {},
   "source": [
    "#### Pipeline 1 (22 networks as segmentator and classifier)"
   ]
  },
  {
   "cell_type": "code",
   "execution_count": 46,
   "metadata": {
    "collapsed": false
   },
   "outputs": [
    {
     "name": "stdout",
     "output_type": "stream",
     "text": [
      "Predictions for the supposed letter number 1\n",
      "Bad cut\n",
      "---\n",
      "Predictions for the supposed letter number 2\n",
      "Cut 2 has been classified as good corresponding to char 'l' with a confidence of 98.24436903%\n",
      "---\n",
      "Predictions for the supposed letter number 3\n",
      "Cut 3 has been classified as good corresponding to char 's_mediana' with a confidence of 99.3959903717%\n",
      "Cut 3 has been classified as good corresponding to char 'd_alta' with a confidence of 52.2549033165%\n",
      "---\n",
      "Predictions for the supposed letter number 4\n",
      "Bad cut\n",
      "---\n",
      "Predictions for the supposed letter number 5\n",
      "Cut 5 has been classified as good corresponding to char 's_mediana' with a confidence of 86.8310153484%\n",
      "Cut 5 has been classified as good corresponding to char 's_alta' with a confidence of 88.0569458008%\n",
      "---\n",
      "Elapsed time: 0.6684665679931641\n"
     ]
    }
   ],
   "source": [
    "predict_pipeline1(asseras_bad_cuts)"
   ]
  },
  {
   "cell_type": "markdown",
   "metadata": {},
   "source": [
    "**Possible word:** -ls-s"
   ]
  },
  {
   "cell_type": "markdown",
   "metadata": {},
   "source": [
    "#### Pipeline 2 (segmentator + classifier)"
   ]
  },
  {
   "cell_type": "code",
   "execution_count": 47,
   "metadata": {
    "collapsed": false
   },
   "outputs": [
    {
     "name": "stdout",
     "output_type": "stream",
     "text": [
      "Predictions for the supposed letter number 1\n",
      "Bad cut with a confidence of 99.9959170818%\n",
      "---\n",
      "Predictions for the supposed letter number 2\n",
      "Bad cut with a confidence of 52.9310405254%\n",
      "---\n",
      "Predictions for the supposed letter number 3\n",
      "Bad cut with a confidence of 98.1395363808%\n",
      "---\n",
      "Predictions for the supposed letter number 4\n",
      "Bad cut with a confidence of 99.6289908886%\n",
      "---\n",
      "Predictions for the supposed letter number 5\n",
      "Good cut corresponding to letter 's_alta' with a confidence of 95.2699542046%\n",
      "Good cut corresponding to letter 'f' with a confidence of 4.72010560334%\n",
      "Good cut corresponding to letter 's_bassa' with a confidence of 0.00890376686584%\n",
      "---\n",
      "Elapsed time: 0.03605294227600098\n"
     ]
    }
   ],
   "source": [
    "predict_pipeline2(asseras_bad_cuts)"
   ]
  },
  {
   "cell_type": "markdown",
   "metadata": {},
   "source": [
    "**Possible word:** ----s"
   ]
  },
  {
   "cell_type": "markdown",
   "metadata": {},
   "source": [
    "#### Pipeline 3 (22 networks as segmentator + classifier)"
   ]
  },
  {
   "cell_type": "code",
   "execution_count": 48,
   "metadata": {
    "collapsed": false,
    "scrolled": false
   },
   "outputs": [
    {
     "name": "stdout",
     "output_type": "stream",
     "text": [
      "Predictions for the supposed letter number 1\n",
      "Bad cut\n",
      "---\n",
      "Predictions for the supposed letter number 2\n",
      "Good cut with a confidence of 98.24436903% by letter 'l'\n",
      "Good cut corresponding to letter 'l' with a confidence of 99.9999880791%\n",
      "Good cut corresponding to letter 's_alta' with a confidence of 1.0037138054e-05%\n",
      "Good cut corresponding to letter 'h' with a confidence of 6.2676763779e-08%\n",
      "---\n",
      "Predictions for the supposed letter number 3\n",
      "Good cut with a confidence of 99.3959903717% by letter 's_mediana'\n",
      "Good cut with a confidence of 52.2549033165% by letter 'd_alta'\n",
      "Good cut corresponding to letter 'd_alta' with a confidence of 96.7134594917%\n",
      "Good cut corresponding to letter 's_mediana' with a confidence of 2.20283605158%\n",
      "Good cut corresponding to letter 'b' with a confidence of 0.460295099765%\n",
      "---\n",
      "Predictions for the supposed letter number 4\n",
      "Bad cut\n",
      "---\n",
      "Predictions for the supposed letter number 5\n",
      "Good cut with a confidence of 86.8310153484% by letter 's_mediana'\n",
      "Good cut with a confidence of 88.0569458008% by letter 's_alta'\n",
      "Good cut corresponding to letter 's_alta' with a confidence of 95.2699542046%\n",
      "Good cut corresponding to letter 'f' with a confidence of 4.72010560334%\n",
      "Good cut corresponding to letter 's_bassa' with a confidence of 0.00890376686584%\n",
      "---\n",
      "Elapsed time: 0.5773351192474365\n"
     ]
    }
   ],
   "source": [
    "predict_pipeline3(asseras_bad_cuts)"
   ]
  },
  {
   "cell_type": "markdown",
   "metadata": {},
   "source": [
    "**Possible word:** -ld-s"
   ]
  },
  {
   "cell_type": "markdown",
   "metadata": {},
   "source": [
    "#### Pipeline 4 (segmentator + 22 networks as classifier)"
   ]
  },
  {
   "cell_type": "code",
   "execution_count": 49,
   "metadata": {
    "collapsed": false
   },
   "outputs": [
    {
     "name": "stdout",
     "output_type": "stream",
     "text": [
      "Predictions for the supposed letter number 1\n",
      "Bad cut with a confidence of 99.9959170818%\n",
      "---\n",
      "Predictions for the supposed letter number 2\n",
      "Bad cut with a confidence of 52.9310405254%\n",
      "---\n",
      "Predictions for the supposed letter number 3\n",
      "Bad cut with a confidence of 98.1395363808%\n",
      "---\n",
      "Predictions for the supposed letter number 4\n",
      "Bad cut with a confidence of 99.6289908886%\n",
      "---\n",
      "Predictions for the supposed letter number 5\n",
      "Good cut with a confidence of 86.8310153484% by letter 's_mediana'\n",
      "Good cut with a confidence of 88.0569458008% by letter 's_alta'\n",
      "---\n",
      "Elapsed time: 0.17174935340881348\n"
     ]
    }
   ],
   "source": [
    "predict_pipeline4(asseras_bad_cuts)"
   ]
  },
  {
   "cell_type": "markdown",
   "metadata": {},
   "source": [
    "**Possible word: ** -----"
   ]
  },
  {
   "cell_type": "markdown",
   "metadata": {},
   "source": [
    "### Good cuts"
   ]
  },
  {
   "cell_type": "code",
   "execution_count": 50,
   "metadata": {
    "collapsed": false
   },
   "outputs": [
    {
     "data": {
      "image/png": "[encoded data removed]",
      "text/plain": [
       "<matplotlib.figure.Figure at 0x2202c2254a8>"
      ]
     },
     "metadata": {},
     "output_type": "display_data"
    }
   ],
   "source": [
    "asseras_good_cuts = iu.open_many_samples( \\\n",
    "                    [\"not_code/words/good_cuts/asseras/a1.png\",\n",
    "                     \"not_code/words/good_cuts/asseras/f1.png\",\n",
    "                     \"not_code/words/good_cuts/asseras/f2.png\",\n",
    "                     \"not_code/words/good_cuts/asseras/e.png\",\n",
    "                     \"not_code/words/good_cuts/asseras/r.png\",\n",
    "                     \"not_code/words/good_cuts/asseras/a2.png\",\n",
    "                     \"not_code/words/good_cuts/asseras/s.png\"])\n",
    "(asseras_good_cuts, _) = kiu.adjust_input(np.asarray(asseras_good_cuts))\n",
    "\n",
    "u.plot_some_images(asseras_good_cuts, (img_cols, img_rows), grid_x=7, grid_y=1)"
   ]
  },
  {
   "cell_type": "markdown",
   "metadata": {},
   "source": [
    "#### Pipeline 1 (22 networks as segmentator and classifier)"
   ]
  },
  {
   "cell_type": "code",
   "execution_count": 51,
   "metadata": {
    "collapsed": false
   },
   "outputs": [
    {
     "name": "stdout",
     "output_type": "stream",
     "text": [
      "Predictions for the supposed letter number 1\n",
      "Cut 1 has been classified as good corresponding to char 'a' with a confidence of 91.9330716133%\n",
      "---\n",
      "Predictions for the supposed letter number 2\n",
      "Cut 2 has been classified as good corresponding to char 's_mediana' with a confidence of 83.8509678841%\n",
      "Cut 2 has been classified as good corresponding to char 's_alta' with a confidence of 92.3221588135%\n",
      "---\n",
      "Predictions for the supposed letter number 3\n",
      "Cut 3 has been classified as good corresponding to char 's_mediana' with a confidence of 72.6917982101%\n",
      "Cut 3 has been classified as good corresponding to char 's_alta' with a confidence of 83.8654994965%\n",
      "---\n",
      "Predictions for the supposed letter number 4\n",
      "Cut 4 has been classified as good corresponding to char 'e' with a confidence of 79.9372553825%\n",
      "Cut 4 has been classified as good corresponding to char 'o' with a confidence of 51.403772831%\n",
      "---\n",
      "Predictions for the supposed letter number 5\n",
      "Cut 5 has been classified as good corresponding to char 'r' with a confidence of 59.6445441246%\n",
      "---\n",
      "Predictions for the supposed letter number 6\n",
      "Cut 6 has been classified as good corresponding to char 'a' with a confidence of 91.4580821991%\n",
      "---\n",
      "Predictions for the supposed letter number 7\n",
      "Cut 7 has been classified as good corresponding to char 's_mediana' with a confidence of 82.5397372246%\n",
      "Cut 7 has been classified as good corresponding to char 's_alta' with a confidence of 98.3279705048%\n",
      "Cut 7 has been classified as good corresponding to char 'f' with a confidence of 82.1978211403%\n",
      "---\n",
      "Elapsed time: 0.6699733734130859\n"
     ]
    }
   ],
   "source": [
    "predict_pipeline1(asseras_good_cuts)"
   ]
  },
  {
   "cell_type": "markdown",
   "metadata": {},
   "source": [
    "**Possible word:** asseras"
   ]
  },
  {
   "cell_type": "markdown",
   "metadata": {},
   "source": [
    "#### Pipeline 2 (segmentator + classifier)"
   ]
  },
  {
   "cell_type": "code",
   "execution_count": 52,
   "metadata": {
    "collapsed": false
   },
   "outputs": [
    {
     "name": "stdout",
     "output_type": "stream",
     "text": [
      "Predictions for the supposed letter number 1\n",
      "Good cut corresponding to letter 'a' with a confidence of 99.9539852142%\n",
      "Good cut corresponding to letter 'i' with a confidence of 0.0380926794605%\n",
      "Good cut corresponding to letter 'o' with a confidence of 0.00474102635053%\n",
      "---\n",
      "Predictions for the supposed letter number 2\n",
      "Good cut corresponding to letter 's_alta' with a confidence of 97.454893589%\n",
      "Good cut corresponding to letter 'l' with a confidence of 2.23840679973%\n",
      "Good cut corresponding to letter 'f' with a confidence of 0.306030525826%\n",
      "---\n",
      "Predictions for the supposed letter number 3\n",
      "Good cut corresponding to letter 's_alta' with a confidence of 77.089202404%\n",
      "Good cut corresponding to letter 'l' with a confidence of 22.8763625026%\n",
      "Good cut corresponding to letter 'f' with a confidence of 0.0277649669442%\n",
      "---\n",
      "Predictions for the supposed letter number 4\n",
      "Good cut corresponding to letter 'e' with a confidence of 97.1935749054%\n",
      "Good cut corresponding to letter 'c' with a confidence of 2.25306395441%\n",
      "Good cut corresponding to letter 'o' with a confidence of 0.375064834952%\n",
      "---\n",
      "Predictions for the supposed letter number 5\n",
      "Good cut corresponding to letter 'r' with a confidence of 95.0437188148%\n",
      "Good cut corresponding to letter 'e' with a confidence of 3.74771468341%\n",
      "Good cut corresponding to letter 'u' with a confidence of 0.484552932903%\n",
      "---\n",
      "Predictions for the supposed letter number 6\n",
      "Good cut corresponding to letter 'a' with a confidence of 99.9455809593%\n",
      "Good cut corresponding to letter 'i' with a confidence of 0.0170315644937%\n",
      "Good cut corresponding to letter 'o' with a confidence of 0.0162280775839%\n",
      "---\n",
      "Predictions for the supposed letter number 7\n",
      "Good cut corresponding to letter 's_alta' with a confidence of 99.9614596367%\n",
      "Good cut corresponding to letter 'f' with a confidence of 0.0374857190764%\n",
      "Good cut corresponding to letter 'l' with a confidence of 0.00104744685814%\n",
      "---\n",
      "Elapsed time: 0.0976409912109375\n"
     ]
    }
   ],
   "source": [
    "predict_pipeline2(asseras_good_cuts)"
   ]
  },
  {
   "cell_type": "markdown",
   "metadata": {},
   "source": [
    "**Possible word:** asseras"
   ]
  },
  {
   "cell_type": "markdown",
   "metadata": {},
   "source": [
    "#### Pipeline 3 (22 networks as segmentator + classifier)"
   ]
  },
  {
   "cell_type": "code",
   "execution_count": 53,
   "metadata": {
    "collapsed": false
   },
   "outputs": [
    {
     "name": "stdout",
     "output_type": "stream",
     "text": [
      "Predictions for the supposed letter number 1\n",
      "Good cut with a confidence of 91.9330716133% by letter 'a'\n",
      "Good cut corresponding to letter 'a' with a confidence of 99.9539852142%\n",
      "Good cut corresponding to letter 'i' with a confidence of 0.0380926794605%\n",
      "Good cut corresponding to letter 'o' with a confidence of 0.00474102635053%\n",
      "---\n",
      "Predictions for the supposed letter number 2\n",
      "Good cut with a confidence of 83.8509678841% by letter 's_mediana'\n",
      "Good cut with a confidence of 92.3221588135% by letter 's_alta'\n",
      "Good cut corresponding to letter 's_alta' with a confidence of 97.454893589%\n",
      "Good cut corresponding to letter 'l' with a confidence of 2.23840679973%\n",
      "Good cut corresponding to letter 'f' with a confidence of 0.306030525826%\n",
      "---\n",
      "Predictions for the supposed letter number 3\n",
      "Good cut with a confidence of 72.6917982101% by letter 's_mediana'\n",
      "Good cut with a confidence of 83.8654994965% by letter 's_alta'\n",
      "Good cut corresponding to letter 's_alta' with a confidence of 77.089202404%\n",
      "Good cut corresponding to letter 'l' with a confidence of 22.8763625026%\n",
      "Good cut corresponding to letter 'f' with a confidence of 0.0277649669442%\n",
      "---\n",
      "Predictions for the supposed letter number 4\n",
      "Good cut with a confidence of 79.9372553825% by letter 'e'\n",
      "Good cut with a confidence of 51.403772831% by letter 'o'\n",
      "Good cut corresponding to letter 'e' with a confidence of 97.1935749054%\n",
      "Good cut corresponding to letter 'c' with a confidence of 2.25306395441%\n",
      "Good cut corresponding to letter 'o' with a confidence of 0.375064834952%\n",
      "---\n",
      "Predictions for the supposed letter number 5\n",
      "Good cut with a confidence of 59.6445441246% by letter 'r'\n",
      "Good cut corresponding to letter 'r' with a confidence of 95.0437188148%\n",
      "Good cut corresponding to letter 'e' with a confidence of 3.74771468341%\n",
      "Good cut corresponding to letter 'u' with a confidence of 0.484552932903%\n",
      "---\n",
      "Predictions for the supposed letter number 6\n",
      "Good cut with a confidence of 91.4580821991% by letter 'a'\n",
      "Good cut corresponding to letter 'a' with a confidence of 99.9455809593%\n",
      "Good cut corresponding to letter 'i' with a confidence of 0.0170315644937%\n",
      "Good cut corresponding to letter 'o' with a confidence of 0.0162280775839%\n",
      "---\n",
      "Predictions for the supposed letter number 7\n",
      "Good cut with a confidence of 82.5397372246% by letter 's_mediana'\n",
      "Good cut with a confidence of 98.3279705048% by letter 's_alta'\n",
      "Good cut with a confidence of 82.1978211403% by letter 'f'\n",
      "Good cut corresponding to letter 's_alta' with a confidence of 99.9614596367%\n",
      "Good cut corresponding to letter 'f' with a confidence of 0.0374857190764%\n",
      "Good cut corresponding to letter 'l' with a confidence of 0.00104744685814%\n",
      "---\n",
      "Elapsed time: 0.8447284698486328\n"
     ]
    }
   ],
   "source": [
    "predict_pipeline3(asseras_good_cuts)"
   ]
  },
  {
   "cell_type": "markdown",
   "metadata": {},
   "source": [
    "**Possible word:** asseras"
   ]
  },
  {
   "cell_type": "markdown",
   "metadata": {},
   "source": [
    "#### Pipeline 4 (segmentator + 22 networks as classifier)"
   ]
  },
  {
   "cell_type": "code",
   "execution_count": 54,
   "metadata": {
    "collapsed": false
   },
   "outputs": [
    {
     "name": "stdout",
     "output_type": "stream",
     "text": [
      "Predictions for the supposed letter number 1\n",
      "Good cut with a confidence of 91.9330716133% by letter 'a'\n",
      "---\n",
      "Predictions for the supposed letter number 2\n",
      "Good cut with a confidence of 83.8509678841% by letter 's_mediana'\n",
      "Good cut with a confidence of 92.3221588135% by letter 's_alta'\n",
      "---\n",
      "Predictions for the supposed letter number 3\n",
      "Good cut with a confidence of 72.6917982101% by letter 's_mediana'\n",
      "Good cut with a confidence of 83.8654994965% by letter 's_alta'\n",
      "---\n",
      "Predictions for the supposed letter number 4\n",
      "Good cut with a confidence of 79.9372553825% by letter 'e'\n",
      "Good cut with a confidence of 51.403772831% by letter 'o'\n",
      "---\n",
      "Predictions for the supposed letter number 5\n",
      "Good cut with a confidence of 59.6445441246% by letter 'r'\n",
      "---\n",
      "Predictions for the supposed letter number 6\n",
      "Good cut with a confidence of 91.4580821991% by letter 'a'\n",
      "---\n",
      "Predictions for the supposed letter number 7\n",
      "Good cut with a confidence of 82.5397372246% by letter 's_mediana'\n",
      "Good cut with a confidence of 98.3279705048% by letter 's_alta'\n",
      "Good cut with a confidence of 82.1978211403% by letter 'f'\n",
      "---\n",
      "Elapsed time: 0.9023094177246094\n"
     ]
    }
   ],
   "source": [
    "predict_pipeline4(asseras_good_cuts)"
   ]
  },
  {
   "cell_type": "markdown",
   "metadata": {},
   "source": [
    "**Possible word: ** asseras"
   ]
  },
  {
   "cell_type": "markdown",
   "metadata": {},
   "source": [
    "## Experiment 2 (\"unicu\")"
   ]
  },
  {
   "cell_type": "code",
   "execution_count": 55,
   "metadata": {
    "collapsed": false
   },
   "outputs": [
    {
     "data": {
      "image/png": "[encoded data removed]",
      "text/plain": [
       "<matplotlib.figure.Figure at 0x22014220f60>"
      ]
     },
     "metadata": {},
     "output_type": "display_data"
    }
   ],
   "source": [
    "u.plot_image(iu.load_sample(\"not_code/words/unicu2.png\"), (61, 98))"
   ]
  },
  {
   "cell_type": "markdown",
   "metadata": {},
   "source": [
    "### Bad cuts"
   ]
  },
  {
   "cell_type": "code",
   "execution_count": 56,
   "metadata": {
    "collapsed": false
   },
   "outputs": [
    {
     "data": {
      "image/png": "[encoded data removed]",
      "text/plain": [
       "<matplotlib.figure.Figure at 0x220bcbf5710>"
      ]
     },
     "metadata": {},
     "output_type": "display_data"
    }
   ],
   "source": [
    "unicu_bad_cuts = iu.open_many_samples( \\\n",
    "                [\"not_code/words/bad_cuts/unicu/1.png\",\n",
    "                 \"not_code/words/bad_cuts/unicu/2.png\",\n",
    "                 \"not_code/words/bad_cuts/unicu/3.png\",\n",
    "                 \"not_code/words/bad_cuts/unicu/4.png\",\n",
    "                 \"not_code/words/bad_cuts/unicu/5.png\"])\n",
    "(unicu_bad_cuts, _) = kiu.adjust_input(np.asarray(unicu_bad_cuts))\n",
    "\n",
    "u.plot_some_images(unicu_bad_cuts, (img_cols, img_rows), grid_x=5, grid_y=1)"
   ]
  },
  {
   "cell_type": "markdown",
   "metadata": {},
   "source": [
    "#### Pipeline 1 (22 networks as segmentator and classifier)"
   ]
  },
  {
   "cell_type": "code",
   "execution_count": 57,
   "metadata": {
    "collapsed": false
   },
   "outputs": [
    {
     "name": "stdout",
     "output_type": "stream",
     "text": [
      "Predictions for the supposed letter number 1\n",
      "Cut 1 has been classified as good corresponding to char 'i' with a confidence of 80.8076024055%\n",
      "---\n",
      "Predictions for the supposed letter number 2\n",
      "Cut 2 has been classified as good corresponding to char 'n' with a confidence of 71.514415741%\n",
      "Cut 2 has been classified as good corresponding to char 'u' with a confidence of 83.6339771748%\n",
      "---\n",
      "Predictions for the supposed letter number 3\n",
      "Cut 3 has been classified as good corresponding to char 'u' with a confidence of 79.0891766548%\n",
      "---\n",
      "Predictions for the supposed letter number 4\n",
      "Cut 4 has been classified as good corresponding to char 'c' with a confidence of 82.5015068054%\n",
      "---\n",
      "Predictions for the supposed letter number 5\n",
      "Cut 5 has been classified as good corresponding to char 'i' with a confidence of 86.4203810692%\n",
      "---\n",
      "Elapsed time: 0.5087378025054932\n"
     ]
    }
   ],
   "source": [
    "predict_pipeline1(unicu_bad_cuts)"
   ]
  },
  {
   "cell_type": "markdown",
   "metadata": {},
   "source": [
    "**Possible word:** iuuci"
   ]
  },
  {
   "cell_type": "markdown",
   "metadata": {},
   "source": [
    "#### Pipeline 2 (segmentator + classifier)"
   ]
  },
  {
   "cell_type": "code",
   "execution_count": 58,
   "metadata": {
    "collapsed": false
   },
   "outputs": [
    {
     "name": "stdout",
     "output_type": "stream",
     "text": [
      "Predictions for the supposed letter number 1\n",
      "Bad cut with a confidence of 83.9403033257%\n",
      "---\n",
      "Predictions for the supposed letter number 2\n",
      "Good cut corresponding to letter 'u' with a confidence of 50.4490017891%\n",
      "Good cut corresponding to letter 'n' with a confidence of 49.5443284512%\n",
      "Good cut corresponding to letter 'o' with a confidence of 0.00620228602202%\n",
      "---\n",
      "Predictions for the supposed letter number 3\n",
      "Good cut corresponding to letter 'u' with a confidence of 93.8818335533%\n",
      "Good cut corresponding to letter 'n' with a confidence of 3.68343293667%\n",
      "Good cut corresponding to letter 'e' with a confidence of 2.12449673563%\n",
      "---\n",
      "Predictions for the supposed letter number 4\n",
      "Bad cut with a confidence of 99.9994397163%\n",
      "---\n",
      "Predictions for the supposed letter number 5\n",
      "Bad cut with a confidence of 66.4269268513%\n",
      "---\n",
      "Elapsed time: 0.04206085205078125\n"
     ]
    }
   ],
   "source": [
    "predict_pipeline2(unicu_bad_cuts)"
   ]
  },
  {
   "cell_type": "markdown",
   "metadata": {},
   "source": [
    "**Possible word:** -uu--"
   ]
  },
  {
   "cell_type": "markdown",
   "metadata": {},
   "source": [
    "#### Pipeline 3 (22 networks as segmentator + classifier)"
   ]
  },
  {
   "cell_type": "code",
   "execution_count": 59,
   "metadata": {
    "collapsed": false,
    "scrolled": false
   },
   "outputs": [
    {
     "name": "stdout",
     "output_type": "stream",
     "text": [
      "Predictions for the supposed letter number 1\n",
      "Good cut with a confidence of 80.8076024055% by letter 'i'\n",
      "Good cut corresponding to letter 'i' with a confidence of 99.9758720398%\n",
      "Good cut corresponding to letter 'a' with a confidence of 0.0145749741932%\n",
      "Good cut corresponding to letter 't' with a confidence of 0.00618704798399%\n",
      "---\n",
      "Predictions for the supposed letter number 2\n",
      "Good cut with a confidence of 71.514415741% by letter 'n'\n",
      "Good cut with a confidence of 83.6339771748% by letter 'u'\n",
      "Good cut corresponding to letter 'u' with a confidence of 50.4490017891%\n",
      "Good cut corresponding to letter 'n' with a confidence of 49.5443284512%\n",
      "Good cut corresponding to letter 'o' with a confidence of 0.00620228602202%\n",
      "---\n",
      "Predictions for the supposed letter number 3\n",
      "Good cut with a confidence of 79.0891766548% by letter 'u'\n",
      "Good cut corresponding to letter 'u' with a confidence of 93.8818335533%\n",
      "Good cut corresponding to letter 'n' with a confidence of 3.68343293667%\n",
      "Good cut corresponding to letter 'e' with a confidence of 2.12449673563%\n",
      "---\n",
      "Predictions for the supposed letter number 4\n",
      "Good cut with a confidence of 82.5015068054% by letter 'c'\n",
      "Good cut corresponding to letter 'o' with a confidence of 81.9887340069%\n",
      "Good cut corresponding to letter 'a' with a confidence of 13.8822287321%\n",
      "Good cut corresponding to letter 's_mediana' with a confidence of 2.50529833138%\n",
      "---\n",
      "Predictions for the supposed letter number 5\n",
      "Good cut with a confidence of 86.4203810692% by letter 'i'\n",
      "Good cut corresponding to letter 'i' with a confidence of 99.9786674976%\n",
      "Good cut corresponding to letter 't' with a confidence of 0.00875977420947%\n",
      "Good cut corresponding to letter 'c' with a confidence of 0.00493840270792%\n",
      "---\n",
      "Elapsed time: 0.4555230140686035\n"
     ]
    }
   ],
   "source": [
    "predict_pipeline3(unicu_bad_cuts)"
   ]
  },
  {
   "cell_type": "markdown",
   "metadata": {},
   "source": [
    "**Possible word:** inuoi"
   ]
  },
  {
   "cell_type": "markdown",
   "metadata": {},
   "source": [
    "#### Pipeline 4 (segmentator + 22 networks as classifier)"
   ]
  },
  {
   "cell_type": "code",
   "execution_count": 60,
   "metadata": {
    "collapsed": false
   },
   "outputs": [
    {
     "name": "stdout",
     "output_type": "stream",
     "text": [
      "Predictions for the supposed letter number 1\n",
      "Bad cut with a confidence of 83.9403033257%\n",
      "---\n",
      "Predictions for the supposed letter number 2\n",
      "Good cut with a confidence of 71.514415741% by letter 'n'\n",
      "Good cut with a confidence of 83.6339771748% by letter 'u'\n",
      "---\n",
      "Predictions for the supposed letter number 3\n",
      "Good cut with a confidence of 79.0891766548% by letter 'u'\n",
      "---\n",
      "Predictions for the supposed letter number 4\n",
      "Bad cut with a confidence of 99.9994397163%\n",
      "---\n",
      "Predictions for the supposed letter number 5\n",
      "Bad cut with a confidence of 66.4269268513%\n",
      "---\n",
      "Elapsed time: 0.2388460636138916\n"
     ]
    }
   ],
   "source": [
    "predict_pipeline4(unicu_bad_cuts)"
   ]
  },
  {
   "cell_type": "markdown",
   "metadata": {},
   "source": [
    "**Possible word: ** -uu--"
   ]
  },
  {
   "cell_type": "markdown",
   "metadata": {},
   "source": [
    "### Good cuts"
   ]
  },
  {
   "cell_type": "code",
   "execution_count": 61,
   "metadata": {
    "collapsed": false
   },
   "outputs": [
    {
     "data": {
      "image/png": "[encoded data removed]",
      "text/plain": [
       "<matplotlib.figure.Figure at 0x220bcd66f60>"
      ]
     },
     "metadata": {},
     "output_type": "display_data"
    }
   ],
   "source": [
    "unicu_good_cuts = iu.open_many_samples( \\\n",
    "                [\"not_code/words/good_cuts/unicu/u1.png\",\n",
    "                 \"not_code/words/good_cuts/unicu/n.png\",\n",
    "                 \"not_code/words/good_cuts/unicu/i.png\",\n",
    "                 \"not_code/words/good_cuts/unicu/c.png\",\n",
    "                 \"not_code/words/good_cuts/unicu/u2.png\"])\n",
    "(unicu_good_cuts, _) = kiu.adjust_input(np.asarray(unicu_good_cuts))\n",
    "\n",
    "u.plot_some_images(unicu_good_cuts, (img_cols, img_rows), grid_x=5, grid_y=1)"
   ]
  },
  {
   "cell_type": "markdown",
   "metadata": {},
   "source": [
    "#### Pipeline 1 (22 networks as segmentator and classifier)"
   ]
  },
  {
   "cell_type": "code",
   "execution_count": 62,
   "metadata": {
    "collapsed": false
   },
   "outputs": [
    {
     "name": "stdout",
     "output_type": "stream",
     "text": [
      "Predictions for the supposed letter number 1\n",
      "Cut 1 has been classified as good corresponding to char 'u' with a confidence of 96.2060153484%\n",
      "---\n",
      "Predictions for the supposed letter number 2\n",
      "Cut 2 has been classified as good corresponding to char 'n' with a confidence of 98.1480956078%\n",
      "Cut 2 has been classified as good corresponding to char 'u' with a confidence of 76.3869464397%\n",
      "---\n",
      "Predictions for the supposed letter number 3\n",
      "Cut 3 has been classified as good corresponding to char 'i' with a confidence of 87.1889472008%\n",
      "---\n",
      "Predictions for the supposed letter number 4\n",
      "Cut 4 has been classified as good corresponding to char 'c' with a confidence of 96.5812563896%\n",
      "Cut 4 has been classified as good corresponding to char 'e' with a confidence of 64.7963047028%\n",
      "Cut 4 has been classified as good corresponding to char 'o' with a confidence of 62.8956735134%\n",
      "---\n",
      "Predictions for the supposed letter number 5\n",
      "Cut 5 has been classified as good corresponding to char 'u' with a confidence of 99.1837203503%\n",
      "Cut 5 has been classified as good corresponding to char 'q' with a confidence of 55.2794098854%\n",
      "---\n",
      "Elapsed time: 0.43144965171813965\n"
     ]
    }
   ],
   "source": [
    "predict_pipeline1(unicu_good_cuts)"
   ]
  },
  {
   "cell_type": "markdown",
   "metadata": {},
   "source": [
    "**Possible word:** unicu"
   ]
  },
  {
   "cell_type": "markdown",
   "metadata": {},
   "source": [
    "#### Pipeline 2 (segmentator + classifier)"
   ]
  },
  {
   "cell_type": "code",
   "execution_count": 63,
   "metadata": {
    "collapsed": false
   },
   "outputs": [
    {
     "name": "stdout",
     "output_type": "stream",
     "text": [
      "Predictions for the supposed letter number 1\n",
      "Good cut corresponding to letter 'u' with a confidence of 99.8327851295%\n",
      "Good cut corresponding to letter 'n' with a confidence of 0.167206279002%\n",
      "Good cut corresponding to letter 'b' with a confidence of 3.91778982589e-06%\n",
      "---\n",
      "Predictions for the supposed letter number 2\n",
      "Good cut corresponding to letter 'n' with a confidence of 99.0177452564%\n",
      "Good cut corresponding to letter 'u' with a confidence of 0.978748314083%\n",
      "Good cut corresponding to letter 'o' with a confidence of 0.00336958364642%\n",
      "---\n",
      "Predictions for the supposed letter number 3\n",
      "Good cut corresponding to letter 'i' with a confidence of 99.9894797802%\n",
      "Good cut corresponding to letter 'l' with a confidence of 0.00764848664403%\n",
      "Good cut corresponding to letter 't' with a confidence of 0.00252281261055%\n",
      "---\n",
      "Predictions for the supposed letter number 4\n",
      "Good cut corresponding to letter 'c' with a confidence of 99.3064045906%\n",
      "Good cut corresponding to letter 'e' with a confidence of 0.436677364632%\n",
      "Good cut corresponding to letter 'o' with a confidence of 0.255709374323%\n",
      "---\n",
      "Predictions for the supposed letter number 5\n",
      "Good cut corresponding to letter 'u' with a confidence of 100.0%\n",
      "Good cut corresponding to letter 'a' with a confidence of 3.42545902754e-06%\n",
      "Good cut corresponding to letter 'n' with a confidence of 2.51591760758e-06%\n",
      "---\n",
      "Elapsed time: 0.06459212303161621\n"
     ]
    }
   ],
   "source": [
    "predict_pipeline2(unicu_good_cuts)"
   ]
  },
  {
   "cell_type": "markdown",
   "metadata": {},
   "source": [
    "**Possible word:** unicu"
   ]
  },
  {
   "cell_type": "markdown",
   "metadata": {},
   "source": [
    "#### Pipeline 3 (22 networks as segmentator + classifier)"
   ]
  },
  {
   "cell_type": "code",
   "execution_count": 64,
   "metadata": {
    "collapsed": false
   },
   "outputs": [
    {
     "name": "stdout",
     "output_type": "stream",
     "text": [
      "Predictions for the supposed letter number 1\n",
      "Good cut with a confidence of 96.2060153484% by letter 'u'\n",
      "Good cut corresponding to letter 'u' with a confidence of 99.8327851295%\n",
      "Good cut corresponding to letter 'n' with a confidence of 0.167206279002%\n",
      "Good cut corresponding to letter 'b' with a confidence of 3.91778982589e-06%\n",
      "---\n",
      "Predictions for the supposed letter number 2\n",
      "Good cut with a confidence of 98.1480956078% by letter 'n'\n",
      "Good cut with a confidence of 76.3869464397% by letter 'u'\n",
      "Good cut corresponding to letter 'n' with a confidence of 99.0177452564%\n",
      "Good cut corresponding to letter 'u' with a confidence of 0.978748314083%\n",
      "Good cut corresponding to letter 'o' with a confidence of 0.00336958364642%\n",
      "---\n",
      "Predictions for the supposed letter number 3\n",
      "Good cut with a confidence of 87.1889472008% by letter 'i'\n",
      "Good cut corresponding to letter 'i' with a confidence of 99.9894797802%\n",
      "Good cut corresponding to letter 'l' with a confidence of 0.00764848664403%\n",
      "Good cut corresponding to letter 't' with a confidence of 0.00252281261055%\n",
      "---\n",
      "Predictions for the supposed letter number 4\n",
      "Good cut with a confidence of 96.5812563896% by letter 'c'\n",
      "Good cut with a confidence of 64.7963047028% by letter 'e'\n",
      "Good cut with a confidence of 62.8956735134% by letter 'o'\n",
      "Good cut corresponding to letter 'c' with a confidence of 99.3064045906%\n",
      "Good cut corresponding to letter 'e' with a confidence of 0.436677364632%\n",
      "Good cut corresponding to letter 'o' with a confidence of 0.255709374323%\n",
      "---\n",
      "Predictions for the supposed letter number 5\n",
      "Good cut with a confidence of 99.1837203503% by letter 'u'\n",
      "Good cut with a confidence of 55.2794098854% by letter 'q'\n",
      "Good cut corresponding to letter 'u' with a confidence of 100.0%\n",
      "Good cut corresponding to letter 'a' with a confidence of 3.42545902754e-06%\n",
      "Good cut corresponding to letter 'n' with a confidence of 2.51591760758e-06%\n",
      "---\n",
      "Elapsed time: 0.46067166328430176\n"
     ]
    }
   ],
   "source": [
    "predict_pipeline3(unicu_good_cuts)"
   ]
  },
  {
   "cell_type": "markdown",
   "metadata": {},
   "source": [
    "**Possible word:** unicu"
   ]
  },
  {
   "cell_type": "markdown",
   "metadata": {},
   "source": [
    "#### Pipeline 4 (segmentator + 22 networks as classifier)"
   ]
  },
  {
   "cell_type": "code",
   "execution_count": 65,
   "metadata": {
    "collapsed": false
   },
   "outputs": [
    {
     "name": "stdout",
     "output_type": "stream",
     "text": [
      "Predictions for the supposed letter number 1\n",
      "Good cut with a confidence of 96.2060153484% by letter 'u'\n",
      "---\n",
      "Predictions for the supposed letter number 2\n",
      "Good cut with a confidence of 98.1480956078% by letter 'n'\n",
      "Good cut with a confidence of 76.3869464397% by letter 'u'\n",
      "---\n",
      "Predictions for the supposed letter number 3\n",
      "Good cut with a confidence of 87.1889472008% by letter 'i'\n",
      "---\n",
      "Predictions for the supposed letter number 4\n",
      "Good cut with a confidence of 96.5812563896% by letter 'c'\n",
      "Good cut with a confidence of 64.7963047028% by letter 'e'\n",
      "Good cut with a confidence of 62.8956735134% by letter 'o'\n",
      "---\n",
      "Predictions for the supposed letter number 5\n",
      "Good cut with a confidence of 99.1837203503% by letter 'u'\n",
      "Good cut with a confidence of 55.2794098854% by letter 'q'\n",
      "---\n",
      "Elapsed time: 0.46818113327026367\n"
     ]
    }
   ],
   "source": [
    "predict_pipeline4(unicu_good_cuts)"
   ]
  },
  {
   "cell_type": "markdown",
   "metadata": {},
   "source": [
    "**Possible word: ** unicu"
   ]
  },
  {
   "cell_type": "markdown",
   "metadata": {},
   "source": [
    "## Experiment 3 (\"beneficiu\")"
   ]
  },
  {
   "cell_type": "code",
   "execution_count": 66,
   "metadata": {
    "collapsed": false
   },
   "outputs": [
    {
     "data": {
      "image/png": "[encoded data removed]",
      "text/plain": [
       "<matplotlib.figure.Figure at 0x220bcbf5b70>"
      ]
     },
     "metadata": {},
     "output_type": "display_data"
    }
   ],
   "source": [
    "u.plot_image(iu.load_sample(\"not_code/words/beneficiu.png\"), (61, 153))"
   ]
  },
  {
   "cell_type": "markdown",
   "metadata": {},
   "source": [
    "### Bad cuts"
   ]
  },
  {
   "cell_type": "code",
   "execution_count": 67,
   "metadata": {
    "collapsed": false
   },
   "outputs": [
    {
     "data": {
      "image/png": "[encoded data removed]",
      "text/plain": [
       "<matplotlib.figure.Figure at 0x2200d80e518>"
      ]
     },
     "metadata": {},
     "output_type": "display_data"
    }
   ],
   "source": [
    "beneficiu_bad_cuts = iu.open_many_samples( \\\n",
    "                    [\"not_code/words/bad_cuts/beneficiu/1.png\",\n",
    "                     \"not_code/words/bad_cuts/beneficiu/2.png\",\n",
    "                     \"not_code/words/bad_cuts/beneficiu/3.png\",\n",
    "                     \"not_code/words/bad_cuts/beneficiu/4.png\",\n",
    "                     \"not_code/words/bad_cuts/beneficiu/5.png\",\n",
    "                     \"not_code/words/bad_cuts/beneficiu/6.png\",\n",
    "                     \"not_code/words/bad_cuts/beneficiu/7.png\",\n",
    "                     \"not_code/words/bad_cuts/beneficiu/8.png\"])\n",
    "(beneficiu_bad_cuts, _) = kiu.adjust_input(np.asarray(beneficiu_bad_cuts))\n",
    "\n",
    "u.plot_some_images(beneficiu_bad_cuts, (img_cols, img_rows), grid_x=4, grid_y=2)"
   ]
  },
  {
   "cell_type": "markdown",
   "metadata": {},
   "source": [
    "#### Pipeline 1 (22 networks as segmentator and classifier)"
   ]
  },
  {
   "cell_type": "code",
   "execution_count": 68,
   "metadata": {
    "collapsed": false
   },
   "outputs": [
    {
     "name": "stdout",
     "output_type": "stream",
     "text": [
      "Predictions for the supposed letter number 1\n",
      "Cut 1 has been classified as good corresponding to char 's_mediana' with a confidence of 89.7515118122%\n",
      "Cut 1 has been classified as good corresponding to char 'b' with a confidence of 85.8027815819%\n",
      "---\n",
      "Predictions for the supposed letter number 2\n",
      "Cut 2 has been classified as good corresponding to char 'i' with a confidence of 73.2650399208%\n",
      "---\n",
      "Predictions for the supposed letter number 3\n",
      "Cut 3 has been classified as good corresponding to char 'i' with a confidence of 88.278067112%\n",
      "---\n",
      "Predictions for the supposed letter number 4\n",
      "Cut 4 has been classified as good corresponding to char 'e' with a confidence of 97.7854728699%\n",
      "Cut 4 has been classified as good corresponding to char 'o' with a confidence of 72.0082223415%\n",
      "---\n",
      "Predictions for the supposed letter number 5\n",
      "Cut 5 has been classified as good corresponding to char 's_mediana' with a confidence of 99.8350143433%\n",
      "Cut 5 has been classified as good corresponding to char 'f' with a confidence of 90.257871151%\n",
      "---\n",
      "Predictions for the supposed letter number 6\n",
      "Cut 6 has been classified as good corresponding to char 'c' with a confidence of 82.8729629517%\n",
      "---\n",
      "Predictions for the supposed letter number 7\n",
      "Cut 7 has been classified as good corresponding to char 'i' with a confidence of 84.2005610466%\n",
      "---\n",
      "Predictions for the supposed letter number 8\n",
      "Cut 8 has been classified as good corresponding to char 'i' with a confidence of 92.2721743584%\n",
      "---\n",
      "Elapsed time: 0.708388090133667\n"
     ]
    }
   ],
   "source": [
    "predict_pipeline1(beneficiu_bad_cuts)"
   ]
  },
  {
   "cell_type": "markdown",
   "metadata": {},
   "source": [
    "**Possible word:** siiescii"
   ]
  },
  {
   "cell_type": "markdown",
   "metadata": {},
   "source": [
    "#### Pipeline 2 (segmentator + classifier)"
   ]
  },
  {
   "cell_type": "code",
   "execution_count": 69,
   "metadata": {
    "collapsed": false
   },
   "outputs": [
    {
     "name": "stdout",
     "output_type": "stream",
     "text": [
      "Predictions for the supposed letter number 1\n",
      "Bad cut with a confidence of 99.9998927116%\n",
      "---\n",
      "Predictions for the supposed letter number 2\n",
      "Bad cut with a confidence of 78.9120316505%\n",
      "---\n",
      "Predictions for the supposed letter number 3\n",
      "Bad cut with a confidence of 67.4514889717%\n",
      "---\n",
      "Predictions for the supposed letter number 4\n",
      "Good cut corresponding to letter 'e' with a confidence of 99.9559521675%\n",
      "Good cut corresponding to letter 'o' with a confidence of 0.0432997388998%\n",
      "Good cut corresponding to letter 'c' with a confidence of 0.000737727259548%\n",
      "---\n",
      "Predictions for the supposed letter number 5\n",
      "Good cut corresponding to letter 'f' with a confidence of 99.9757766724%\n",
      "Good cut corresponding to letter 's_alta' with a confidence of 0.0241572299274%\n",
      "Good cut corresponding to letter 'b' with a confidence of 4.61786157757e-05%\n",
      "---\n",
      "Predictions for the supposed letter number 6\n",
      "Bad cut with a confidence of 99.9706625938%\n",
      "---\n",
      "Predictions for the supposed letter number 7\n",
      "Bad cut with a confidence of 79.6034812927%\n",
      "---\n",
      "Predictions for the supposed letter number 8\n",
      "Good cut corresponding to letter 'i' with a confidence of 99.9849677086%\n",
      "Good cut corresponding to letter 'l' with a confidence of 0.00719634481356%\n",
      "Good cut corresponding to letter 't' with a confidence of 0.00679021322867%\n",
      "---\n",
      "Elapsed time: 0.07661199569702148\n"
     ]
    }
   ],
   "source": [
    "predict_pipeline2(beneficiu_bad_cuts)"
   ]
  },
  {
   "cell_type": "markdown",
   "metadata": {},
   "source": [
    "**Possible word:** ---ef--i"
   ]
  },
  {
   "cell_type": "markdown",
   "metadata": {},
   "source": [
    "#### Pipeline 3 (22 networks as segmentator + classifier)"
   ]
  },
  {
   "cell_type": "code",
   "execution_count": 70,
   "metadata": {
    "collapsed": false,
    "scrolled": false
   },
   "outputs": [
    {
     "name": "stdout",
     "output_type": "stream",
     "text": [
      "Predictions for the supposed letter number 1\n",
      "Good cut with a confidence of 89.7515118122% by letter 's_mediana'\n",
      "Good cut with a confidence of 85.8027815819% by letter 'b'\n",
      "Good cut corresponding to letter 'b' with a confidence of 99.5801329613%\n",
      "Good cut corresponding to letter 'h' with a confidence of 0.418522907421%\n",
      "Good cut corresponding to letter 'f' with a confidence of 0.00134383126351%\n",
      "---\n",
      "Predictions for the supposed letter number 2\n",
      "Good cut with a confidence of 73.2650399208% by letter 'i'\n",
      "Good cut corresponding to letter 'i' with a confidence of 99.966686964%\n",
      "Good cut corresponding to letter 'a' with a confidence of 0.0256100436673%\n",
      "Good cut corresponding to letter 't' with a confidence of 0.00342105995514%\n",
      "---\n",
      "Predictions for the supposed letter number 3\n",
      "Good cut with a confidence of 88.278067112% by letter 'i'\n",
      "Good cut corresponding to letter 'i' with a confidence of 99.9939143658%\n",
      "Good cut corresponding to letter 'a' with a confidence of 0.00526739640918%\n",
      "Good cut corresponding to letter 'l' with a confidence of 0.000400481167162%\n",
      "---\n",
      "Predictions for the supposed letter number 4\n",
      "Good cut with a confidence of 97.7854728699% by letter 'e'\n",
      "Good cut with a confidence of 72.0082223415% by letter 'o'\n",
      "Good cut corresponding to letter 'e' with a confidence of 99.9559521675%\n",
      "Good cut corresponding to letter 'o' with a confidence of 0.0432997388998%\n",
      "Good cut corresponding to letter 'c' with a confidence of 0.000737727259548%\n",
      "---\n",
      "Predictions for the supposed letter number 5\n",
      "Good cut with a confidence of 99.8350143433% by letter 's_mediana'\n",
      "Good cut with a confidence of 90.257871151% by letter 'f'\n",
      "Good cut corresponding to letter 'f' with a confidence of 99.9757766724%\n",
      "Good cut corresponding to letter 's_alta' with a confidence of 0.0241572299274%\n",
      "Good cut corresponding to letter 'b' with a confidence of 4.61786157757e-05%\n",
      "---\n",
      "Predictions for the supposed letter number 6\n",
      "Good cut with a confidence of 82.8729629517% by letter 'c'\n",
      "Good cut corresponding to letter 'o' with a confidence of 48.5558331013%\n",
      "Good cut corresponding to letter 'a' with a confidence of 46.1081117392%\n",
      "Good cut corresponding to letter 'e' with a confidence of 4.89107146859%\n",
      "---\n",
      "Predictions for the supposed letter number 7\n",
      "Good cut with a confidence of 84.2005610466% by letter 'i'\n",
      "Good cut corresponding to letter 'i' with a confidence of 99.9905467033%\n",
      "Good cut corresponding to letter 't' with a confidence of 0.00401205397793%\n",
      "Good cut corresponding to letter 'a' with a confidence of 0.00371164060198%\n",
      "---\n",
      "Predictions for the supposed letter number 8\n",
      "Good cut with a confidence of 92.2721743584% by letter 'i'\n",
      "Good cut corresponding to letter 'i' with a confidence of 99.9849677086%\n",
      "Good cut corresponding to letter 'l' with a confidence of 0.00719634481356%\n",
      "Good cut corresponding to letter 't' with a confidence of 0.00679021322867%\n",
      "---\n",
      "Elapsed time: 0.8296899795532227\n"
     ]
    }
   ],
   "source": [
    "predict_pipeline3(beneficiu_bad_cuts)"
   ]
  },
  {
   "cell_type": "markdown",
   "metadata": {},
   "source": [
    "**Possible word:** biiefoii"
   ]
  },
  {
   "cell_type": "markdown",
   "metadata": {},
   "source": [
    "#### Pipeline 4 (segmentator + 22 networks as classifier)"
   ]
  },
  {
   "cell_type": "code",
   "execution_count": 71,
   "metadata": {
    "collapsed": false
   },
   "outputs": [
    {
     "name": "stdout",
     "output_type": "stream",
     "text": [
      "Predictions for the supposed letter number 1\n",
      "Bad cut with a confidence of 99.9998927116%\n",
      "---\n",
      "Predictions for the supposed letter number 2\n",
      "Bad cut with a confidence of 78.9120316505%\n",
      "---\n",
      "Predictions for the supposed letter number 3\n",
      "Bad cut with a confidence of 67.4514889717%\n",
      "---\n",
      "Predictions for the supposed letter number 4\n",
      "Good cut with a confidence of 97.7854728699% by letter 'e'\n",
      "Good cut with a confidence of 72.0082223415% by letter 'o'\n",
      "---\n",
      "Predictions for the supposed letter number 5\n",
      "Good cut with a confidence of 99.8350143433% by letter 's_mediana'\n",
      "Good cut with a confidence of 90.257871151% by letter 'f'\n",
      "---\n",
      "Predictions for the supposed letter number 6\n",
      "Bad cut with a confidence of 99.9706625938%\n",
      "---\n",
      "Predictions for the supposed letter number 7\n",
      "Bad cut with a confidence of 79.6034812927%\n",
      "---\n",
      "Predictions for the supposed letter number 8\n",
      "Good cut with a confidence of 92.2721743584% by letter 'i'\n",
      "---\n",
      "Elapsed time: 0.36803197860717773\n"
     ]
    }
   ],
   "source": [
    "predict_pipeline4(beneficiu_bad_cuts)"
   ]
  },
  {
   "cell_type": "markdown",
   "metadata": {},
   "source": [
    "**Possible word: ** ---ef--i"
   ]
  },
  {
   "cell_type": "markdown",
   "metadata": {},
   "source": [
    "### Good cuts"
   ]
  },
  {
   "cell_type": "code",
   "execution_count": 72,
   "metadata": {
    "collapsed": false
   },
   "outputs": [
    {
     "data": {
      "image/png": "[encoded data removed]",
      "text/plain": [
       "<matplotlib.figure.Figure at 0x22017f5f4e0>"
      ]
     },
     "metadata": {},
     "output_type": "display_data"
    }
   ],
   "source": [
    "beneficiu_good_cuts = iu.open_many_samples( \\\n",
    "                    [\"not_code/words/good_cuts/beneficiu/b.png\",\n",
    "                     \"not_code/words/good_cuts/beneficiu/e1.png\",\n",
    "                     \"not_code/words/good_cuts/beneficiu/n.png\",\n",
    "                     \"not_code/words/good_cuts/beneficiu/e2.png\",\n",
    "                     \"not_code/words/good_cuts/beneficiu/f.png\",\n",
    "                     \"not_code/words/good_cuts/beneficiu/i1.png\",\n",
    "                     \"not_code/words/good_cuts/beneficiu/c.png\",\n",
    "                     \"not_code/words/good_cuts/beneficiu/i2.png\",\n",
    "                     \"not_code/words/good_cuts/beneficiu/u.png\"])\n",
    "(beneficiu_good_cuts, _) = kiu.adjust_input(np.asarray(beneficiu_good_cuts))\n",
    "\n",
    "u.plot_some_images(beneficiu_good_cuts, (img_cols, img_rows), grid_x=3, grid_y=3)"
   ]
  },
  {
   "cell_type": "markdown",
   "metadata": {},
   "source": [
    "#### Pipeline 1 (22 networks as segmentator and classifier)"
   ]
  },
  {
   "cell_type": "code",
   "execution_count": 73,
   "metadata": {
    "collapsed": false
   },
   "outputs": [
    {
     "name": "stdout",
     "output_type": "stream",
     "text": [
      "Predictions for the supposed letter number 1\n",
      "Cut 1 has been classified as good corresponding to char 'b' with a confidence of 96.2968468666%\n",
      "Cut 1 has been classified as good corresponding to char 'h' with a confidence of 95.1756775379%\n",
      "---\n",
      "Predictions for the supposed letter number 2\n",
      "Cut 2 has been classified as good corresponding to char 'e' with a confidence of 99.0915298462%\n",
      "Cut 2 has been classified as good corresponding to char 'o' with a confidence of 72.757101059%\n",
      "---\n",
      "Predictions for the supposed letter number 3\n",
      "Cut 3 has been classified as good corresponding to char 'n' with a confidence of 81.7161262035%\n",
      "Cut 3 has been classified as good corresponding to char 'u' with a confidence of 87.449246645%\n",
      "---\n",
      "Predictions for the supposed letter number 4\n",
      "Cut 4 has been classified as good corresponding to char 'e' with a confidence of 97.0624148846%\n",
      "Cut 4 has been classified as good corresponding to char 'o' with a confidence of 68.0127263069%\n",
      "---\n",
      "Predictions for the supposed letter number 5\n",
      "Cut 5 has been classified as good corresponding to char 's_mediana' with a confidence of 99.703091383%\n",
      "Cut 5 has been classified as good corresponding to char 's_alta' with a confidence of 98.1592357159%\n",
      "Cut 5 has been classified as good corresponding to char 'f' with a confidence of 90.327167511%\n",
      "---\n",
      "Predictions for the supposed letter number 6\n",
      "Cut 6 has been classified as good corresponding to char 'i' with a confidence of 75.7170200348%\n",
      "---\n",
      "Predictions for the supposed letter number 7\n",
      "Cut 7 has been classified as good corresponding to char 'c' with a confidence of 97.9001879692%\n",
      "---\n",
      "Predictions for the supposed letter number 8\n",
      "Cut 8 has been classified as good corresponding to char 'i' with a confidence of 81.1952292919%\n",
      "---\n",
      "Predictions for the supposed letter number 9\n",
      "Cut 9 has been classified as good corresponding to char 'i' with a confidence of 77.549380064%\n",
      "Cut 9 has been classified as good corresponding to char 'u' with a confidence of 98.096716404%\n",
      "---\n",
      "Elapsed time: 0.7724268436431885\n"
     ]
    }
   ],
   "source": [
    "predict_pipeline1(beneficiu_good_cuts)"
   ]
  },
  {
   "cell_type": "markdown",
   "metadata": {},
   "source": [
    "**Possible word:** beuesiciu"
   ]
  },
  {
   "cell_type": "markdown",
   "metadata": {},
   "source": [
    "#### Pipeline 2 (segmentator + classifier)"
   ]
  },
  {
   "cell_type": "code",
   "execution_count": 74,
   "metadata": {
    "collapsed": false
   },
   "outputs": [
    {
     "name": "stdout",
     "output_type": "stream",
     "text": [
      "Predictions for the supposed letter number 1\n",
      "Good cut corresponding to letter 'b' with a confidence of 98.3484447002%\n",
      "Good cut corresponding to letter 'h' with a confidence of 1.65152195841%\n",
      "Good cut corresponding to letter 'l' with a confidence of 3.59929885008e-05%\n",
      "---\n",
      "Predictions for the supposed letter number 2\n",
      "Good cut corresponding to letter 'e' with a confidence of 99.9595344067%\n",
      "Good cut corresponding to letter 'o' with a confidence of 0.0318640668411%\n",
      "Good cut corresponding to letter 'c' with a confidence of 0.00851618387969%\n",
      "---\n",
      "Predictions for the supposed letter number 3\n",
      "Good cut corresponding to letter 'n' with a confidence of 70.486342907%\n",
      "Good cut corresponding to letter 'u' with a confidence of 29.4608056545%\n",
      "Good cut corresponding to letter 'o' with a confidence of 0.0492571678478%\n",
      "---\n",
      "Predictions for the supposed letter number 4\n",
      "Good cut corresponding to letter 'e' with a confidence of 99.8720526695%\n",
      "Good cut corresponding to letter 'o' with a confidence of 0.126007047947%\n",
      "Good cut corresponding to letter 'c' with a confidence of 0.00191974777408%\n",
      "---\n",
      "Predictions for the supposed letter number 5\n",
      "Good cut corresponding to letter 's_alta' with a confidence of 97.9280292988%\n",
      "Good cut corresponding to letter 'f' with a confidence of 2.06609535962%\n",
      "Good cut corresponding to letter 's_bassa' with a confidence of 0.00587685281062%\n",
      "---\n",
      "Predictions for the supposed letter number 6\n",
      "Bad cut with a confidence of 98.6966431141%\n",
      "---\n",
      "Predictions for the supposed letter number 7\n",
      "Good cut corresponding to letter 'c' with a confidence of 99.9794363976%\n",
      "Good cut corresponding to letter 'e' with a confidence of 0.0156642083311%\n",
      "Good cut corresponding to letter 'o' with a confidence of 0.0044489348511%\n",
      "---\n",
      "Predictions for the supposed letter number 8\n",
      "Bad cut with a confidence of 85.2430641651%\n",
      "---\n",
      "Predictions for the supposed letter number 9\n",
      "Good cut corresponding to letter 'u' with a confidence of 99.9996542931%\n",
      "Good cut corresponding to letter 'n' with a confidence of 0.000336227753905%\n",
      "Good cut corresponding to letter 'a' with a confidence of 1.02175441441e-05%\n",
      "---\n",
      "Elapsed time: 0.09186339378356934\n"
     ]
    }
   ],
   "source": [
    "predict_pipeline2(beneficiu_good_cuts)"
   ]
  },
  {
   "cell_type": "markdown",
   "metadata": {},
   "source": [
    "**Possible word:** benes-c-u or benef-c-u with a lower chance"
   ]
  },
  {
   "cell_type": "markdown",
   "metadata": {},
   "source": [
    "#### Pipeline 3 (22 networks as segmentator + classifier)"
   ]
  },
  {
   "cell_type": "code",
   "execution_count": 75,
   "metadata": {
    "collapsed": false
   },
   "outputs": [
    {
     "name": "stdout",
     "output_type": "stream",
     "text": [
      "Predictions for the supposed letter number 1\n",
      "Good cut with a confidence of 96.2968468666% by letter 'b'\n",
      "Good cut with a confidence of 95.1756775379% by letter 'h'\n",
      "Good cut corresponding to letter 'b' with a confidence of 98.3484447002%\n",
      "Good cut corresponding to letter 'h' with a confidence of 1.65152195841%\n",
      "Good cut corresponding to letter 'l' with a confidence of 3.59929885008e-05%\n",
      "---\n",
      "Predictions for the supposed letter number 2\n",
      "Good cut with a confidence of 99.0915298462% by letter 'e'\n",
      "Good cut with a confidence of 72.757101059% by letter 'o'\n",
      "Good cut corresponding to letter 'e' with a confidence of 99.9595344067%\n",
      "Good cut corresponding to letter 'o' with a confidence of 0.0318640668411%\n",
      "Good cut corresponding to letter 'c' with a confidence of 0.00851618387969%\n",
      "---\n",
      "Predictions for the supposed letter number 3\n",
      "Good cut with a confidence of 81.7161262035% by letter 'n'\n",
      "Good cut with a confidence of 87.449246645% by letter 'u'\n",
      "Good cut corresponding to letter 'n' with a confidence of 70.486342907%\n",
      "Good cut corresponding to letter 'u' with a confidence of 29.4608056545%\n",
      "Good cut corresponding to letter 'o' with a confidence of 0.0492571678478%\n",
      "---\n",
      "Predictions for the supposed letter number 4\n",
      "Good cut with a confidence of 97.0624148846% by letter 'e'\n",
      "Good cut with a confidence of 68.0127263069% by letter 'o'\n",
      "Good cut corresponding to letter 'e' with a confidence of 99.8720526695%\n",
      "Good cut corresponding to letter 'o' with a confidence of 0.126007047947%\n",
      "Good cut corresponding to letter 'c' with a confidence of 0.00191974777408%\n",
      "---\n",
      "Predictions for the supposed letter number 5\n",
      "Good cut with a confidence of 99.703091383% by letter 's_mediana'\n",
      "Good cut with a confidence of 98.1592357159% by letter 's_alta'\n",
      "Good cut with a confidence of 90.327167511% by letter 'f'\n",
      "Good cut corresponding to letter 's_alta' with a confidence of 97.9280292988%\n",
      "Good cut corresponding to letter 'f' with a confidence of 2.06609535962%\n",
      "Good cut corresponding to letter 's_bassa' with a confidence of 0.00587685281062%\n",
      "---\n",
      "Predictions for the supposed letter number 6\n",
      "Good cut with a confidence of 75.7170200348% by letter 'i'\n",
      "Good cut corresponding to letter 'i' with a confidence of 99.9795138836%\n",
      "Good cut corresponding to letter 't' with a confidence of 0.0175894834683%\n",
      "Good cut corresponding to letter 'e' with a confidence of 0.00154567569552%\n",
      "---\n",
      "Predictions for the supposed letter number 7\n",
      "Good cut with a confidence of 97.9001879692% by letter 'c'\n",
      "Good cut corresponding to letter 'c' with a confidence of 99.9794363976%\n",
      "Good cut corresponding to letter 'e' with a confidence of 0.0156642083311%\n",
      "Good cut corresponding to letter 'o' with a confidence of 0.0044489348511%\n",
      "---\n",
      "Predictions for the supposed letter number 8\n",
      "Good cut with a confidence of 81.1952292919% by letter 'i'\n",
      "Good cut corresponding to letter 'i' with a confidence of 99.9457538128%\n",
      "Good cut corresponding to letter 'l' with a confidence of 0.0225214243983%\n",
      "Good cut corresponding to letter 'c' with a confidence of 0.0214401443372%\n",
      "---\n",
      "Predictions for the supposed letter number 9\n",
      "Good cut with a confidence of 77.549380064% by letter 'i'\n",
      "Good cut with a confidence of 98.096716404% by letter 'u'\n",
      "Good cut corresponding to letter 'u' with a confidence of 99.9996542931%\n",
      "Good cut corresponding to letter 'n' with a confidence of 0.000336227753905%\n",
      "Good cut corresponding to letter 'a' with a confidence of 1.02175441441e-05%\n",
      "---\n",
      "Elapsed time: 0.9228370189666748\n"
     ]
    }
   ],
   "source": [
    "predict_pipeline3(beneficiu_good_cuts)"
   ]
  },
  {
   "cell_type": "markdown",
   "metadata": {},
   "source": [
    "**Possible word:** benesiciu or beneficiu with a lower chance"
   ]
  },
  {
   "cell_type": "markdown",
   "metadata": {},
   "source": [
    "#### Pipeline 4 (segmentator + 22 networks as classifier)"
   ]
  },
  {
   "cell_type": "code",
   "execution_count": 76,
   "metadata": {
    "collapsed": false
   },
   "outputs": [
    {
     "name": "stdout",
     "output_type": "stream",
     "text": [
      "Predictions for the supposed letter number 1\n",
      "Good cut with a confidence of 96.2968468666% by letter 'b'\n",
      "Good cut with a confidence of 95.1756775379% by letter 'h'\n",
      "---\n",
      "Predictions for the supposed letter number 2\n",
      "Good cut with a confidence of 99.0915298462% by letter 'e'\n",
      "Good cut with a confidence of 72.757101059% by letter 'o'\n",
      "---\n",
      "Predictions for the supposed letter number 3\n",
      "Good cut with a confidence of 81.7161262035% by letter 'n'\n",
      "Good cut with a confidence of 87.449246645% by letter 'u'\n",
      "---\n",
      "Predictions for the supposed letter number 4\n",
      "Good cut with a confidence of 97.0624148846% by letter 'e'\n",
      "Good cut with a confidence of 68.0127263069% by letter 'o'\n",
      "---\n",
      "Predictions for the supposed letter number 5\n",
      "Good cut with a confidence of 99.703091383% by letter 's_mediana'\n",
      "Good cut with a confidence of 98.1592357159% by letter 's_alta'\n",
      "Good cut with a confidence of 90.327167511% by letter 'f'\n",
      "---\n",
      "Predictions for the supposed letter number 6\n",
      "Bad cut with a confidence of 98.6966431141%\n",
      "---\n",
      "Predictions for the supposed letter number 7\n",
      "Good cut with a confidence of 97.9001879692% by letter 'c'\n",
      "---\n",
      "Predictions for the supposed letter number 8\n",
      "Bad cut with a confidence of 85.2430641651%\n",
      "---\n",
      "Predictions for the supposed letter number 9\n",
      "Good cut with a confidence of 77.549380064% by letter 'i'\n",
      "Good cut with a confidence of 98.096716404% by letter 'u'\n",
      "---\n",
      "Elapsed time: 0.7215473651885986\n"
     ]
    }
   ],
   "source": [
    "predict_pipeline4(beneficiu_good_cuts)"
   ]
  },
  {
   "cell_type": "markdown",
   "metadata": {},
   "source": [
    "**Possible word: ** beues-c-u"
   ]
  },
  {
   "cell_type": "markdown",
   "metadata": {},
   "source": [
    "## Results\n",
    "Overall the pipeline 2 (segmentator + classifier) seems to give the best results. Pipeline 1 and 3 behave correctly when cuts are good, but they are totally unaware of bad cuts, giving false positives with almost 100% confidence. Pipeline 2 on the other hand gives sometimes false negatives on good cuts of the letter \"i\", but that's because of the training set of the segmentator network, that has been trained with bad cuts of letter \"m\", \"n\" and \"u\" almost identical to a good cut of an \"i\". Polishing the dataset should give a better false positive over false negative ratio. "
   ]
  }
 ],
 "metadata": {
  "anaconda-cloud": {},
  "kernelspec": {
   "display_name": "Python [conda root]",
   "language": "python",
   "name": "conda-root-py"
  },
  "language_info": {
   "codemirror_mode": {
    "name": "ipython",
    "version": 3
   },
   "file_extension": ".py",
   "mimetype": "text/x-python",
   "name": "python",
   "nbconvert_exporter": "python",
   "pygments_lexer": "ipython3",
   "version": "3.5.2"
  }
 },
 "nbformat": 4,
 "nbformat_minor": 1
}
