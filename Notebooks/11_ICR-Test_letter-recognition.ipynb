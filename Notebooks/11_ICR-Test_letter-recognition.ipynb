{
 "cells": [
  {
   "cell_type": "markdown",
   "metadata": {},
   "source": [
    "# In Codice Ratio Convolutional Neural Network - Test on words"
   ]
  },
  {
   "cell_type": "code",
   "execution_count": 1,
   "metadata": {
    "collapsed": false
   },
   "outputs": [
    {
     "name": "stderr",
     "output_type": "stream",
     "text": [
      "Using TensorFlow backend.\n"
     ]
    }
   ],
   "source": [
    "import os.path\n",
    "from IPython.display import Image\n",
    "\n",
    "from util import Util\n",
    "u = Util()\n",
    "import image_utils as iu\n",
    "\n",
    "import numpy as np\n",
    "# Explicit random seed for reproducibility\n",
    "np.random.seed(1337)"
   ]
  },
  {
   "cell_type": "code",
   "execution_count": 2,
   "metadata": {
    "collapsed": true
   },
   "outputs": [],
   "source": [
    "from keras.callbacks import ModelCheckpoint, Callback\n",
    "from keras.models import Sequential\n",
    "from keras.layers import Dense, Dropout, Activation, Flatten\n",
    "from keras.layers import Convolution2D, MaxPooling2D\n",
    "from keras.utils import np_utils\n",
    "from keras.preprocessing.image import ImageDataGenerator\n",
    "from keras.layers import Merge\n",
    "from keras import backend as K"
   ]
  },
  {
   "cell_type": "code",
   "execution_count": 3,
   "metadata": {
    "collapsed": true
   },
   "outputs": [],
   "source": [
    "import dataset_generator as dataset"
   ]
  },
  {
   "cell_type": "markdown",
   "metadata": {},
   "source": [
    "### Helper function to adjust input"
   ]
  },
  {
   "cell_type": "code",
   "execution_count": 4,
   "metadata": {
    "collapsed": false
   },
   "outputs": [],
   "source": [
    "def adjust_input(X):\n",
    "    if K.image_dim_ordering() == 'th':\n",
    "        X = X.reshape(X.shape[0], 1, img_rows, img_cols)\n",
    "        input_shape = (1, img_rows, img_cols)\n",
    "    else:\n",
    "        X = X.reshape(X.shape[0], img_rows, img_cols, 1)\n",
    "        input_shape = (img_rows, img_cols, 1)\n",
    "    X = X.astype('float32')\n",
    "    X /= 255\n",
    "    \n",
    "    return (X, input_shape)\n",
    "\n",
    "def adjust_input_output(X, y, num_classes=2):\n",
    "    # convert class vectors to binary class matrices\n",
    "    Y = np_utils.to_categorical(y, num_classes)\n",
    "    (X, input_shape) = adjust_input(X)\n",
    "    \n",
    "    return (input_shape, X, Y)"
   ]
  },
  {
   "cell_type": "code",
   "execution_count": 5,
   "metadata": {
    "collapsed": false
   },
   "outputs": [],
   "source": [
    "# input image dimensions\n",
    "img_rows, img_cols = 34, 56\n",
    "\n",
    "(_, _, X_test_22, y_test_22, _) = dataset.generate_all_chars_with_class(verbose=0, plot=False)\n",
    "(_, _, X_test_seg, y_test_seg) = dataset.generate_dataset_for_segmentator(verbose=0, plot=False)\n",
    "\n",
    "(input_shape, X_test_22, Y_test_22) = adjust_input_output(X_test_22, y_test_22, 22) \n",
    "(_, X_test_seg, Y_test_seg) = adjust_input_output(X_test_seg, y_test_seg, 2) "
   ]
  },
  {
   "cell_type": "markdown",
   "metadata": {},
   "source": [
    "## Constants"
   ]
  },
  {
   "cell_type": "code",
   "execution_count": 6,
   "metadata": {
    "collapsed": true
   },
   "outputs": [],
   "source": [
    "ALPHABET_ALL = [\"a\",\"c\",\"d_mediana\",\"e\",\"i\",\"m\",\"n\",\"o\",\"r\",\"s_mediana\",\"t\",\"u\",\\\n",
    "                \"d_alta\",\"s_alta\",\"b\",\"f\",\"h\",\"l\",\"g\",\"p\",\"q\",\"s_bassa\"]\n",
    "\n",
    "# number of networks for ensamble learning\n",
    "number_of_models = 5\n",
    "\n",
    "# checkpoints dir\n",
    "checkpoints_dir = \"checkpoints\"\n",
    "\n",
    "# size of pooling area for max pooling\n",
    "pool_size1 = (2, 2)\n",
    "pool_size2 = (3, 3)\n",
    "# convolution kernel size\n",
    "kernel_size1 = (4, 4)\n",
    "kernel_size2 = (5, 5)\n",
    "# dropout rate\n",
    "dropout = 0.15\n",
    "# activation\n",
    "activation = 'relu'"
   ]
  },
  {
   "cell_type": "markdown",
   "metadata": {},
   "source": [
    "## Helper functions for model definition and load"
   ]
  },
  {
   "cell_type": "code",
   "execution_count": 7,
   "metadata": {
    "collapsed": true
   },
   "outputs": [],
   "source": [
    "def initialize_network_single_column(model, nb_classes, nb_filters1, nb_filters2, dense_layer_size1):\n",
    "    model.add(Convolution2D(nb_filters1, kernel_size1[0], kernel_size1[1],\n",
    "                            border_mode='valid',\n",
    "                            input_shape=input_shape, name='covolution_1_' + str(nb_filters1) + '_filters'))\n",
    "    model.add(Activation(activation, name='activation_1_' + activation))\n",
    "    model.add(MaxPooling2D(pool_size=pool_size1, name='max_pooling_1_' + str(pool_size1) + '_pool_size'))\n",
    "    model.add(Convolution2D(nb_filters2, kernel_size2[0], kernel_size2[1]))\n",
    "    model.add(Activation(activation, name='activation_2_' + activation))\n",
    "    model.add(MaxPooling2D(pool_size=pool_size2, name='max_pooling_1_' + str(pool_size2) + '_pool_size'))\n",
    "    model.add(Dropout(dropout))\n",
    "\n",
    "    model.add(Flatten())\n",
    "    model.add(Dense(dense_layer_size1, name='fully_connected_1_' + str(dense_layer_size1) + '_neurons'))\n",
    "    model.add(Activation(activation, name='activation_3_' + activation))\n",
    "    model.add(Dropout(dropout))\n",
    "    model.add(Dense(nb_classes, name='output_' + str(nb_classes) + '_neurons'))\n",
    "    model.add(Activation('softmax', name='softmax'))\n",
    "\n",
    "    model.compile(loss='categorical_crossentropy',\n",
    "                  optimizer='adadelta',\n",
    "                  metrics=['accuracy', 'precision', 'recall'])\n",
    "\n",
    "def try_load_checkpoints(model, checkpoints_filepath, warn=True):\n",
    "    # loading weights from checkpoints \n",
    "    if os.path.exists(checkpoints_filepath):\n",
    "        model.load_weights(checkpoints_filepath)\n",
    "    elif warn: \n",
    "        print('Warning: ' + checkpoints_filepath + ' could not be loaded')\n",
    "\n",
    "def initialize_network_multi_column(merged_model, models):\n",
    "    merged_model.add(Merge(models, mode='ave'))\n",
    "    merged_model.compile(loss='categorical_crossentropy',\n",
    "                         optimizer='adadelta',\n",
    "                         metrics=['accuracy', 'precision', 'recall'])\n",
    "\n",
    "def create_and_load_network(number_of_models, checkpoint_paths, nb_classes, \n",
    "                            nb_filters1, nb_filters2, dense_layer_size1):\n",
    "    # pseudo random generation of seeds\n",
    "    seeds = np.random.randint(10000, size=number_of_models)\n",
    "\n",
    "    # initializing all the models\n",
    "    models = [None] * number_of_models\n",
    "\n",
    "    for i in range(number_of_models):\n",
    "        models[i] = Sequential()\n",
    "        initialize_network_single_column(models[i], nb_classes, nb_filters1, nb_filters2, dense_layer_size1)\n",
    "        try_load_checkpoints(models[i], checkpoint_paths[i])\n",
    "        \n",
    "    # initializing merged model\n",
    "    merged_model = Sequential()\n",
    "    initialize_network_multi_column(merged_model, models)\n",
    "    \n",
    "    return (merged_model, models)"
   ]
  },
  {
   "cell_type": "markdown",
   "metadata": {},
   "source": [
    "## Model load"
   ]
  },
  {
   "cell_type": "code",
   "execution_count": 8,
   "metadata": {
    "collapsed": false
   },
   "outputs": [
    {
     "name": "stdout",
     "output_type": "stream",
     "text": [
      "Loaded 22 classes orc model\n",
      "Evaluating ensemble\n",
      "Test accuracy: 95.155839279 %\n",
      "Test error: 4.60439568125 %\n",
      "Loaded binary segmentator model\n",
      "Evaluating ensemble\n",
      "Test accuracy: 93.4960798332 %\n",
      "Test error: 6.50392016681 %\n",
      "---\n",
      "Loaded binary model for 'a'\n",
      "Loaded binary model for 'c'\n",
      "Loaded binary model for 'd_mediana'\n",
      "Loaded binary model for 'e'\n",
      "Loaded binary model for 'i'\n",
      "Loaded binary model for 'm'\n",
      "Loaded binary model for 'n'\n",
      "Loaded binary model for 'o'\n",
      "Loaded binary model for 'r'\n",
      "Loaded binary model for 's_mediana'\n",
      "Loaded binary model for 't'\n",
      "Loaded binary model for 'u'\n",
      "Loaded binary model for 'd_alta'\n",
      "Loaded binary model for 's_alta'\n",
      "Loaded binary model for 'b'\n",
      "Loaded binary model for 'f'\n",
      "Loaded binary model for 'h'\n",
      "Loaded binary model for 'l'\n",
      "Loaded binary model for 'g'\n",
      "Loaded binary model for 'p'\n",
      "Loaded binary model for 'q'\n",
      "Loaded binary model for 's_bassa'\n"
     ]
    }
   ],
   "source": [
    "# 22 classes ocr\n",
    "ocr_weigts_dir = os.path.join(checkpoints_dir, \"09_22-classes\")\n",
    "\n",
    "ocr_weights = [os.path.join(ocr_weigts_dir, \"09_ICR_weights.best_0.hdf5\"), \n",
    "               os.path.join(ocr_weigts_dir, \"09_ICR_weights.best_1.hdf5\"),\n",
    "               os.path.join(ocr_weigts_dir, \"09_ICR_weights.best_2.hdf5\"),\n",
    "               os.path.join(ocr_weigts_dir, \"09_ICR_weights.best_3.hdf5\"),\n",
    "               os.path.join(ocr_weigts_dir, \"09_ICR_weights.best_4.hdf5\")]\n",
    "(ocr_model, _) = create_and_load_network(5, ocr_weights, 22, 50, 100, 250)\n",
    "print (\"Loaded 22 classes orc model\")\n",
    "print('Evaluating ensemble')\n",
    "score = ocr_model.evaluate([np.asarray(X_test_22)] * number_of_models, Y_test_22, verbose=0)\n",
    "print('Test accuracy:', score[1]*100, '%')\n",
    "print('Test error:', (1-score[2])*100, '%')\n",
    "\n",
    "# segmentator network (good cut / bad cut)\n",
    "segmentator_weigts_dir = os.path.join(checkpoints_dir, \"letter_not_letter\")\n",
    "\n",
    "segmentator_weights = [os.path.join(segmentator_weigts_dir, \"10_ICR_weights.best_0.hdf5\"), \n",
    "                       os.path.join(segmentator_weigts_dir, \"10_ICR_weights.best_1.hdf5\"),\n",
    "                       os.path.join(segmentator_weigts_dir, \"10_ICR_weights.best_2.hdf5\"),\n",
    "                       os.path.join(segmentator_weigts_dir, \"10_ICR_weights.best_3.hdf5\"),\n",
    "                       os.path.join(segmentator_weigts_dir, \"10_ICR_weights.best_4.hdf5\")]\n",
    "(segmentator_model, _) = create_and_load_network(5, segmentator_weights, 2, 30, 50, 200)\n",
    "print (\"Loaded binary segmentator model\")\n",
    "print('Evaluating ensemble')\n",
    "score = segmentator_model.evaluate([np.asarray(X_test_seg)] * number_of_models, Y_test_seg, verbose=0)\n",
    "print('Test accuracy:', score[1]*100, '%')\n",
    "print('Test error:', (1-score[2])*100, '%')\n",
    "print (\"---\")\n",
    "\n",
    "# single letter segmentator / ocr \n",
    "single_letter_models = {}\n",
    "single_letter_weights_dir = {}\n",
    "single_letter_weights = {}\n",
    "for char in ALPHABET_ALL:\n",
    "    single_letter_weights_dir[char] = os.path.join(checkpoints_dir, char + \"2\")\n",
    "\n",
    "    single_letter_weights[char] = [os.path.join(single_letter_weights_dir[char], \"0.hdf5\"), \n",
    "                                   os.path.join(single_letter_weights_dir[char], \"1.hdf5\"),\n",
    "                                   os.path.join(single_letter_weights_dir[char], \"2.hdf5\"),\n",
    "                                   os.path.join(single_letter_weights_dir[char], \"3.hdf5\"),\n",
    "                                   os.path.join(single_letter_weights_dir[char], \"4.hdf5\")]\n",
    "    (single_letter_models[char], _) = create_and_load_network(5, single_letter_weights[char], 2, 20, 40, 150)\n",
    "    print (\"Loaded binary model for '\" + char + \"'\")"
   ]
  },
  {
   "cell_type": "markdown",
   "metadata": {},
   "source": [
    "## Helper functions for prediction"
   ]
  },
  {
   "cell_type": "code",
   "execution_count": 31,
   "metadata": {
    "collapsed": true
   },
   "outputs": [],
   "source": [
    "def predict_pipeline1(data):\n",
    "    count = 0\n",
    "    for bad_cut in data:\n",
    "        flag = False\n",
    "        count += 1\n",
    "        bad_cuts = np.asarray([bad_cut])\n",
    "        print (\"Predictions for the supposed letter number \" + str(count))\n",
    "        for char in ALPHABET_ALL:\n",
    "            predictions = single_letter_models[char].predict([bad_cuts] * number_of_models)\n",
    "            if (predictions[0][1] > predictions[0][0]):\n",
    "                print (\"Cut \" + str(count) + \" has been classified as good corresponding to char '\" +\\\n",
    "                       char + \"' with a confidence of \" + str(predictions[0][1] * 100) + \"%\")\n",
    "                flag = True\n",
    "        if not flag:\n",
    "            print (\"Bad cut\")\n",
    "        print (\"---\")\n",
    "        \n",
    "def predict_pipeline2(data):\n",
    "    count = 0\n",
    "    for bad_cut in data:\n",
    "        count += 1\n",
    "        bad_cuts = np.asarray([bad_cut])\n",
    "        print (\"Predictions for the supposed letter number \" + str(count))\n",
    "        predictions = segmentator_model.predict([bad_cuts] * number_of_models)\n",
    "        if (predictions[0][1] > predictions[0][0]):\n",
    "            predictions = ocr_model.predict([bad_cuts] * number_of_models)\n",
    "            ind = (-predictions[0]).argsort()[:3]\n",
    "            for i in ind:\n",
    "                print (\"Good cut corresponding to letter '\" + ALPHABET_ALL[i] + \\\n",
    "                   \"' with a confidence of \" + str(predictions[0][i] * 100) + \"%\")\n",
    "        else: \n",
    "            print (\"Bad cut with a confidence of \" + str(predictions[0][0] * 100) + \"%\")\n",
    "        print (\"---\")\n",
    "        \n",
    "def predict_pipeline3(data):\n",
    "    count = 0\n",
    "    for bad_cut in data:\n",
    "        flag = False\n",
    "        count += 1\n",
    "        bad_cuts = np.asarray([bad_cut])\n",
    "        print (\"Predictions for the supposed letter number \" + str(count))\n",
    "        for char in ALPHABET_ALL:\n",
    "            predictions = single_letter_models[char].predict([bad_cuts] * number_of_models)\n",
    "            if (predictions[0][1] > predictions[0][0]):\n",
    "                print (\"Good cut with a confidence of \" + str(predictions[0][1] * 100) + \"% by letter '\" + char + \"'\")\n",
    "                flag = True\n",
    "        if flag:\n",
    "            predictions = ocr_model.predict([bad_cuts] * number_of_models)\n",
    "            ind = (-predictions[0]).argsort()[:3]\n",
    "            for i in ind:\n",
    "                print (\"Good cut corresponding to letter '\" + ALPHABET_ALL[i] + \\\n",
    "                   \"' with a confidence of \" + str(predictions[0][i] * 100) + \"%\")\n",
    "        else: \n",
    "            print (\"Bad cut\")\n",
    "        print (\"---\")"
   ]
  },
  {
   "cell_type": "markdown",
   "metadata": {},
   "source": [
    "## Experiment 1 (\"afferas\")"
   ]
  },
  {
   "cell_type": "code",
   "execution_count": 21,
   "metadata": {
    "collapsed": false
   },
   "outputs": [
    {
     "data": {
      "image/png": "[encoded data removed]",
      "text/plain": [
       "<matplotlib.figure.Figure at 0x17dad546be0>"
      ]
     },
     "metadata": {},
     "output_type": "display_data"
    }
   ],
   "source": [
    "u.plot_image(iu.load_sample(\"not_code/words/afferas2.png\"), (40, 106))"
   ]
  },
  {
   "cell_type": "markdown",
   "metadata": {},
   "source": [
    "### Bad cuts"
   ]
  },
  {
   "cell_type": "code",
   "execution_count": 22,
   "metadata": {
    "collapsed": false
   },
   "outputs": [
    {
     "data": {
      "image/png": "[encoded data removed]",
      "text/plain": [
       "<matplotlib.figure.Figure at 0x17dbed104a8>"
      ]
     },
     "metadata": {},
     "output_type": "display_data"
    }
   ],
   "source": [
    "afferas_bad_cuts = iu.open_many_samples( \\\n",
    "                  [\"not_code/words/bad_cuts/afferas/1.png\",\n",
    "                   \"not_code/words/bad_cuts/afferas/2.png\",\n",
    "                   \"not_code/words/bad_cuts/afferas/3.png\",\n",
    "                   \"not_code/words/bad_cuts/afferas/4.png\",\n",
    "                   \"not_code/words/bad_cuts/afferas/5.png\"])\n",
    "(afferas_bad_cuts, _) = adjust_input(np.asarray(afferas_bad_cuts))\n",
    "\n",
    "u.plot_some_images(afferas_bad_cuts, (56, 34), grid_x=5, grid_y=1)"
   ]
  },
  {
   "cell_type": "markdown",
   "metadata": {},
   "source": [
    "#### Pipeline 1 (22 networks as segmentator and classifier)"
   ]
  },
  {
   "cell_type": "code",
   "execution_count": 23,
   "metadata": {
    "collapsed": false
   },
   "outputs": [
    {
     "name": "stdout",
     "output_type": "stream",
     "text": [
      "Predictions for the supposed letter number 1\n",
      "Cut 1 has been classified as good corresponding to char 's_mediana' with a confidence of 76.0028541088%\n",
      "---\n",
      "Predictions for the supposed letter number 2\n",
      "Cut 2 has been classified as good corresponding to char 'l' with a confidence of 97.8198885918%\n",
      "---\n",
      "Predictions for the supposed letter number 3\n",
      "Cut 3 has been classified as good corresponding to char 's_mediana' with a confidence of 99.505507946%\n",
      "---\n",
      "Predictions for the supposed letter number 4\n",
      "Bad cut\n",
      "---\n",
      "Predictions for the supposed letter number 5\n",
      "Cut 5 has been classified as good corresponding to char 's_mediana' with a confidence of 94.7523236275%\n",
      "Cut 5 has been classified as good corresponding to char 's_alta' with a confidence of 61.3462090492%\n",
      "---\n"
     ]
    }
   ],
   "source": [
    "predict_pipeline1(afferas_bad_cuts)"
   ]
  },
  {
   "cell_type": "markdown",
   "metadata": {},
   "source": [
    "#### Pipeline 2 (segmentator + classifier)"
   ]
  },
  {
   "cell_type": "code",
   "execution_count": 32,
   "metadata": {
    "collapsed": false
   },
   "outputs": [
    {
     "name": "stdout",
     "output_type": "stream",
     "text": [
      "Predictions for the supposed letter number 1\n",
      "Bad cut with a confidence of 99.9990284443%\n",
      "---\n",
      "Predictions for the supposed letter number 2\n",
      "Bad cut with a confidence of 53.2761394978%\n",
      "---\n",
      "Predictions for the supposed letter number 3\n",
      "Bad cut with a confidence of 93.2435631752%\n",
      "---\n",
      "Predictions for the supposed letter number 4\n",
      "Bad cut with a confidence of 94.3567276001%\n",
      "---\n",
      "Predictions for the supposed letter number 5\n",
      "Good cut corresponding to letter 's_alta' with a confidence of 95.2699542046%\n",
      "Good cut corresponding to letter 'f' with a confidence of 4.72010560334%\n",
      "Good cut corresponding to letter 's_bassa' with a confidence of 0.00890376686584%\n",
      "---\n"
     ]
    }
   ],
   "source": [
    "predict_pipeline2(afferas_bad_cuts)"
   ]
  },
  {
   "cell_type": "markdown",
   "metadata": {},
   "source": [
    "#### Pipeline 3 (22 networks as segmentator + classifier)"
   ]
  },
  {
   "cell_type": "code",
   "execution_count": 33,
   "metadata": {
    "collapsed": false
   },
   "outputs": [
    {
     "name": "stdout",
     "output_type": "stream",
     "text": [
      "Predictions for the supposed letter number 1\n",
      "Good cut with a confidence of 76.0028541088% by letter 's_mediana'\n",
      "Good cut corresponding to letter 'b' with a confidence of 92.1378970146%\n",
      "Good cut corresponding to letter 'h' with a confidence of 7.86172300577%\n",
      "Good cut corresponding to letter 'q' with a confidence of 0.000168871667938%\n",
      "---\n",
      "Predictions for the supposed letter number 2\n",
      "Good cut with a confidence of 97.8198885918% by letter 'l'\n",
      "Good cut corresponding to letter 'l' with a confidence of 99.9999880791%\n",
      "Good cut corresponding to letter 's_alta' with a confidence of 1.0037138054e-05%\n",
      "Good cut corresponding to letter 'h' with a confidence of 6.2676763779e-08%\n",
      "---\n",
      "Predictions for the supposed letter number 3\n",
      "Good cut with a confidence of 99.505507946% by letter 's_mediana'\n",
      "Good cut corresponding to letter 'd_alta' with a confidence of 96.7134594917%\n",
      "Good cut corresponding to letter 's_mediana' with a confidence of 2.20283605158%\n",
      "Good cut corresponding to letter 'b' with a confidence of 0.460295099765%\n",
      "---\n",
      "Predictions for the supposed letter number 4\n",
      "Bad cut\n",
      "---\n",
      "Predictions for the supposed letter number 5\n",
      "Good cut with a confidence of 94.7523236275% by letter 's_mediana'\n",
      "Good cut with a confidence of 61.3462090492% by letter 's_alta'\n",
      "Good cut corresponding to letter 's_alta' with a confidence of 95.2699542046%\n",
      "Good cut corresponding to letter 'f' with a confidence of 4.72010560334%\n",
      "Good cut corresponding to letter 's_bassa' with a confidence of 0.00890376686584%\n",
      "---\n"
     ]
    }
   ],
   "source": [
    "predict_pipeline3(afferas_bad_cuts)"
   ]
  },
  {
   "cell_type": "markdown",
   "metadata": {},
   "source": [
    "### Good cuts"
   ]
  },
  {
   "cell_type": "code",
   "execution_count": 26,
   "metadata": {
    "collapsed": false
   },
   "outputs": [
    {
     "data": {
      "image/png": "[encoded data removed]",
      "text/plain": [
       "<matplotlib.figure.Figure at 0x17da95e6b38>"
      ]
     },
     "metadata": {},
     "output_type": "display_data"
    }
   ],
   "source": [
    "afferas_good_cuts = iu.open_many_samples( \\\n",
    "                    [\"not_code/words/good_cuts/afferas/a1.png\",\n",
    "                     \"not_code/words/good_cuts/afferas/f1.png\",\n",
    "                     \"not_code/words/good_cuts/afferas/f2.png\",\n",
    "                     \"not_code/words/good_cuts/afferas/e.png\",\n",
    "                     \"not_code/words/good_cuts/afferas/r.png\",\n",
    "                     \"not_code/words/good_cuts/afferas/a2.png\",\n",
    "                     \"not_code/words/good_cuts/afferas/s.png\"])\n",
    "(afferas_good_cuts, _) = adjust_input(np.asarray(afferas_good_cuts))\n",
    "\n",
    "u.plot_some_images(afferas_good_cuts, (56, 34), grid_x=7, grid_y=1)"
   ]
  },
  {
   "cell_type": "markdown",
   "metadata": {},
   "source": [
    "#### Pipeline 1 (22 networks as segmentator and classifier)"
   ]
  },
  {
   "cell_type": "code",
   "execution_count": 27,
   "metadata": {
    "collapsed": false
   },
   "outputs": [
    {
     "name": "stdout",
     "output_type": "stream",
     "text": [
      "Predictions for the supposed letter number 1\n",
      "Cut 1 has been classified as good corresponding to char 'a' with a confidence of 83.2198321819%\n",
      "---\n",
      "Predictions for the supposed letter number 2\n",
      "Cut 2 has been classified as good corresponding to char 's_mediana' with a confidence of 84.6229910851%\n",
      "Cut 2 has been classified as good corresponding to char 's_alta' with a confidence of 86.5796089172%\n",
      "---\n",
      "Predictions for the supposed letter number 3\n",
      "Cut 3 has been classified as good corresponding to char 's_mediana' with a confidence of 84.2514634132%\n",
      "---\n",
      "Predictions for the supposed letter number 4\n",
      "Cut 4 has been classified as good corresponding to char 'e' with a confidence of 56.4199745655%\n",
      "---\n",
      "Predictions for the supposed letter number 5\n",
      "Cut 5 has been classified as good corresponding to char 'r' with a confidence of 70.5377936363%\n",
      "---\n",
      "Predictions for the supposed letter number 6\n",
      "Cut 6 has been classified as good corresponding to char 'a' with a confidence of 88.8050854206%\n",
      "---\n",
      "Predictions for the supposed letter number 7\n",
      "Cut 7 has been classified as good corresponding to char 's_mediana' with a confidence of 91.5615200996%\n",
      "Cut 7 has been classified as good corresponding to char 's_alta' with a confidence of 98.2626259327%\n",
      "Cut 7 has been classified as good corresponding to char 'f' with a confidence of 76.0049700737%\n",
      "---\n"
     ]
    }
   ],
   "source": [
    "predict_pipeline1(afferas_good_cuts)"
   ]
  },
  {
   "cell_type": "markdown",
   "metadata": {},
   "source": [
    "#### Pipeline 2 (segmentator + classifier)"
   ]
  },
  {
   "cell_type": "code",
   "execution_count": 34,
   "metadata": {
    "collapsed": false
   },
   "outputs": [
    {
     "name": "stdout",
     "output_type": "stream",
     "text": [
      "Predictions for the supposed letter number 1\n",
      "Good cut corresponding to letter 'a' with a confidence of 99.9539852142%\n",
      "Good cut corresponding to letter 'i' with a confidence of 0.0380926794605%\n",
      "Good cut corresponding to letter 'o' with a confidence of 0.00474102635053%\n",
      "---\n",
      "Predictions for the supposed letter number 2\n",
      "Good cut corresponding to letter 's_alta' with a confidence of 97.454893589%\n",
      "Good cut corresponding to letter 'l' with a confidence of 2.23840679973%\n",
      "Good cut corresponding to letter 'f' with a confidence of 0.306030525826%\n",
      "---\n",
      "Predictions for the supposed letter number 3\n",
      "Good cut corresponding to letter 's_alta' with a confidence of 77.089202404%\n",
      "Good cut corresponding to letter 'l' with a confidence of 22.8763625026%\n",
      "Good cut corresponding to letter 'f' with a confidence of 0.0277649669442%\n",
      "---\n",
      "Predictions for the supposed letter number 4\n",
      "Good cut corresponding to letter 'e' with a confidence of 97.1935749054%\n",
      "Good cut corresponding to letter 'c' with a confidence of 2.25306395441%\n",
      "Good cut corresponding to letter 'o' with a confidence of 0.375064834952%\n",
      "---\n",
      "Predictions for the supposed letter number 5\n",
      "Good cut corresponding to letter 'r' with a confidence of 95.0437188148%\n",
      "Good cut corresponding to letter 'e' with a confidence of 3.74771468341%\n",
      "Good cut corresponding to letter 'u' with a confidence of 0.484552932903%\n",
      "---\n",
      "Predictions for the supposed letter number 6\n",
      "Good cut corresponding to letter 'a' with a confidence of 99.9455809593%\n",
      "Good cut corresponding to letter 'i' with a confidence of 0.0170315644937%\n",
      "Good cut corresponding to letter 'o' with a confidence of 0.0162280775839%\n",
      "---\n",
      "Predictions for the supposed letter number 7\n",
      "Good cut corresponding to letter 's_alta' with a confidence of 99.9614596367%\n",
      "Good cut corresponding to letter 'f' with a confidence of 0.0374857190764%\n",
      "Good cut corresponding to letter 'l' with a confidence of 0.00104744685814%\n",
      "---\n"
     ]
    }
   ],
   "source": [
    "predict_pipeline2(afferas_good_cuts)"
   ]
  },
  {
   "cell_type": "markdown",
   "metadata": {},
   "source": [
    "#### Pipeline 3 (22 networks as segmentator + classifier)"
   ]
  },
  {
   "cell_type": "code",
   "execution_count": 36,
   "metadata": {
    "collapsed": false
   },
   "outputs": [
    {
     "name": "stdout",
     "output_type": "stream",
     "text": [
      "Predictions for the supposed letter number 1\n",
      "Good cut with a confidence of 83.2198321819% by letter 'a'\n",
      "Good cut corresponding to letter 'a' with a confidence of 99.9539852142%\n",
      "Good cut corresponding to letter 'i' with a confidence of 0.0380926794605%\n",
      "Good cut corresponding to letter 'o' with a confidence of 0.00474102635053%\n",
      "---\n",
      "Predictions for the supposed letter number 2\n",
      "Good cut with a confidence of 84.6229910851% by letter 's_mediana'\n",
      "Good cut with a confidence of 86.5796089172% by letter 's_alta'\n",
      "Good cut corresponding to letter 's_alta' with a confidence of 97.454893589%\n",
      "Good cut corresponding to letter 'l' with a confidence of 2.23840679973%\n",
      "Good cut corresponding to letter 'f' with a confidence of 0.306030525826%\n",
      "---\n",
      "Predictions for the supposed letter number 3\n",
      "Good cut with a confidence of 84.2514634132% by letter 's_mediana'\n",
      "Good cut corresponding to letter 's_alta' with a confidence of 77.089202404%\n",
      "Good cut corresponding to letter 'l' with a confidence of 22.8763625026%\n",
      "Good cut corresponding to letter 'f' with a confidence of 0.0277649669442%\n",
      "---\n",
      "Predictions for the supposed letter number 4\n",
      "Good cut with a confidence of 56.4199745655% by letter 'e'\n",
      "Good cut corresponding to letter 'e' with a confidence of 97.1935749054%\n",
      "Good cut corresponding to letter 'c' with a confidence of 2.25306395441%\n",
      "Good cut corresponding to letter 'o' with a confidence of 0.375064834952%\n",
      "---\n",
      "Predictions for the supposed letter number 5\n",
      "Good cut with a confidence of 70.5377936363% by letter 'r'\n",
      "Good cut corresponding to letter 'r' with a confidence of 95.0437188148%\n",
      "Good cut corresponding to letter 'e' with a confidence of 3.74771468341%\n",
      "Good cut corresponding to letter 'u' with a confidence of 0.484552932903%\n",
      "---\n",
      "Predictions for the supposed letter number 6\n",
      "Good cut with a confidence of 88.8050854206% by letter 'a'\n",
      "Good cut corresponding to letter 'a' with a confidence of 99.9455809593%\n",
      "Good cut corresponding to letter 'i' with a confidence of 0.0170315644937%\n",
      "Good cut corresponding to letter 'o' with a confidence of 0.0162280775839%\n",
      "---\n",
      "Predictions for the supposed letter number 7\n",
      "Good cut with a confidence of 91.5615200996% by letter 's_mediana'\n",
      "Good cut with a confidence of 98.2626259327% by letter 's_alta'\n",
      "Good cut with a confidence of 76.0049700737% by letter 'f'\n",
      "Good cut corresponding to letter 's_alta' with a confidence of 99.9614596367%\n",
      "Good cut corresponding to letter 'f' with a confidence of 0.0374857190764%\n",
      "Good cut corresponding to letter 'l' with a confidence of 0.00104744685814%\n",
      "---\n"
     ]
    }
   ],
   "source": [
    "predict_pipeline3(afferas_good_cuts)"
   ]
  },
  {
   "cell_type": "code",
   "execution_count": null,
   "metadata": {
    "collapsed": false
   },
   "outputs": [],
   "source": []
  },
  {
   "cell_type": "code",
   "execution_count": null,
   "metadata": {
    "collapsed": true
   },
   "outputs": [],
   "source": []
  }
 ],
 "metadata": {
  "anaconda-cloud": {},
  "kernelspec": {
   "display_name": "Python [conda root]",
   "language": "python",
   "name": "conda-root-py"
  },
  "language_info": {
   "codemirror_mode": {
    "name": "ipython",
    "version": 3
   },
   "file_extension": ".py",
   "mimetype": "text/x-python",
   "name": "python",
   "nbconvert_exporter": "python",
   "pygments_lexer": "ipython3",
   "version": "3.5.2"
  }
 },
 "nbformat": 4,
 "nbformat_minor": 1
}
