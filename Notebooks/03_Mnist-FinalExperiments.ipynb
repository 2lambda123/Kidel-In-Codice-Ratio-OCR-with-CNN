{
 "cells": [
  {
   "cell_type": "markdown",
   "metadata": {
    "collapsed": false
   },
   "source": [
    "# MNIST Convolutional Neural Network - Final Experiments\n",
    "The previous experiment gave better results compared to the previous one, with a higher accuracy on the test set. \n",
    "However we still had lower results compared to the network we studied, with errors of 0.21% and 0.23%, while ours has around 0.55%. \n",
    "\n",
    "From internal tests, increasing the dropout and reducing the number of epochs did not help (as we will show in this notebook using checkpoints we saved), so out last resort is to use image pre-processing to increase the dataset size and make it more generic. We're going to apply some rotation with a window of 30 degrees and both vertical and horizontal shifts with a range of 10% (so about 3 pixels) and see how it behaves compared to our best result. "
   ]
  },
  {
   "cell_type": "markdown",
   "metadata": {},
   "source": [
    "## Imports"
   ]
  },
  {
   "cell_type": "code",
   "execution_count": 1,
   "metadata": {
    "collapsed": false
   },
   "outputs": [
    {
     "name": "stderr",
     "output_type": "stream",
     "text": [
      "Using TensorFlow backend.\n"
     ]
    }
   ],
   "source": [
    "import os.path\n",
    "from IPython.display import Image\n",
    "\n",
    "from util import Util\n",
    "u = Util()\n",
    "\n",
    "import numpy as np\n",
    "# Explicit random seed for reproducibility\n",
    "np.random.seed(1337)  "
   ]
  },
  {
   "cell_type": "code",
   "execution_count": 2,
   "metadata": {
    "collapsed": false
   },
   "outputs": [],
   "source": [
    "from keras.callbacks import ModelCheckpoint\n",
    "from keras.models import Sequential\n",
    "from keras.layers import Dense, Dropout, Activation, Flatten\n",
    "from keras.layers import Convolution2D, MaxPooling2D\n",
    "from keras.utils import np_utils\n",
    "from keras.preprocessing.image import ImageDataGenerator\n",
    "from keras import backend as K"
   ]
  },
  {
   "cell_type": "code",
   "execution_count": 3,
   "metadata": {
    "collapsed": true
   },
   "outputs": [],
   "source": [
    "from keras.datasets import mnist"
   ]
  },
  {
   "cell_type": "markdown",
   "metadata": {},
   "source": [
    "## Definitions"
   ]
  },
  {
   "cell_type": "code",
   "execution_count": 4,
   "metadata": {
    "collapsed": true
   },
   "outputs": [],
   "source": [
    "batch_size = 512\n",
    "nb_classes = 10\n",
    "nb_epoch = 800\n",
    "# checkpoint path\n",
    "checkpoints_filepath_800 = \"checkpoints/02_MNIST_relu_weights.best.hdf5\"\n",
    "checkpoints_filepath_56 = \"checkpoints/02_MNIST_relu_weights.best_56_epochs.hdf5\"\n",
    "checkpoints_filepath_new = \"checkpoints/03_MNIST_weights.best.hdf5\""
   ]
  },
  {
   "cell_type": "code",
   "execution_count": 5,
   "metadata": {
    "collapsed": true
   },
   "outputs": [],
   "source": [
    "# input image dimensions\n",
    "img_rows, img_cols = 28, 28\n",
    "# number of convolutional filters to use\n",
    "nb_filters1 = 20\n",
    "nb_filters2 = 40\n",
    "# size of pooling area for max pooling\n",
    "pool_size1 = (2, 2)\n",
    "pool_size2 = (3, 3)\n",
    "# convolution kernel size\n",
    "kernel_size1 = (4, 4)\n",
    "kernel_size2 = (5, 5)\n",
    "# dense layer size\n",
    "dense_layer_size1 = 150\n",
    "# dropout rate\n",
    "dropout = 0.15\n",
    "# activation type\n",
    "activation = 'relu'"
   ]
  },
  {
   "cell_type": "markdown",
   "metadata": {},
   "source": [
    "## Data load"
   ]
  },
  {
   "cell_type": "code",
   "execution_count": 6,
   "metadata": {
    "collapsed": false
   },
   "outputs": [],
   "source": [
    "# the data, shuffled and split between train and test sets\n",
    "(X_train, y_train), (X_test, y_test) = mnist.load_data()"
   ]
  },
  {
   "cell_type": "code",
   "execution_count": 7,
   "metadata": {
    "collapsed": false
   },
   "outputs": [
    {
     "data": {
      "image/png": "[encoded data removed]",
      "text/plain": [
       "<matplotlib.figure.Figure at 0x16dfc479ef0>"
      ]
     },
     "metadata": {},
     "output_type": "display_data"
    }
   ],
   "source": [
    "u.plot_images(X_train[0:9], y_train[0:9])"
   ]
  },
  {
   "cell_type": "code",
   "execution_count": 8,
   "metadata": {
    "collapsed": false
   },
   "outputs": [],
   "source": [
    "if K.image_dim_ordering() == 'th':\n",
    "    X_train = X_train.reshape(X_train.shape[0], 1, img_rows, img_cols)\n",
    "    X_test = X_test.reshape(X_test.shape[0], 1, img_rows, img_cols)\n",
    "    input_shape = (1, img_rows, img_cols)\n",
    "else:\n",
    "    X_train = X_train.reshape(X_train.shape[0], img_rows, img_cols, 1)\n",
    "    X_test = X_test.reshape(X_test.shape[0], img_rows, img_cols, 1)\n",
    "    input_shape = (img_rows, img_cols, 1)"
   ]
  },
  {
   "cell_type": "code",
   "execution_count": 9,
   "metadata": {
    "collapsed": false
   },
   "outputs": [
    {
     "name": "stdout",
     "output_type": "stream",
     "text": [
      "X_train shape: (60000, 28, 28, 1)\n",
      "60000 train samples\n",
      "10000 test samples\n"
     ]
    }
   ],
   "source": [
    "X_train = X_train.astype('float32')\n",
    "X_test = X_test.astype('float32')\n",
    "X_train /= 255\n",
    "X_test /= 255\n",
    "print('X_train shape:', X_train.shape)\n",
    "print(X_train.shape[0], 'train samples')\n",
    "print(X_test.shape[0], 'test samples')"
   ]
  },
  {
   "cell_type": "code",
   "execution_count": 10,
   "metadata": {
    "collapsed": true
   },
   "outputs": [],
   "source": [
    "# convert class vectors to binary class matrices\n",
    "Y_train = np_utils.to_categorical(y_train, nb_classes)\n",
    "Y_test = np_utils.to_categorical(y_test, nb_classes)"
   ]
  },
  {
   "cell_type": "markdown",
   "metadata": {},
   "source": [
    "## Image preprocessing\n",
    "As said in the introduction, we're going to apply random transformations: rotation with a window of 30 degrees and both vertical and horizontal shifts with a range of 10% (so about 3 pixels). We avoid flips and rotations that would basically alter the meaning of the symbol."
   ]
  },
  {
   "cell_type": "code",
   "execution_count": 11,
   "metadata": {
    "collapsed": false
   },
   "outputs": [],
   "source": [
    "datagen = ImageDataGenerator(\n",
    "    rotation_range=30,\n",
    "    width_shift_range=0.1,\n",
    "    height_shift_range=0.1,\n",
    "    zoom_range=0.1,\n",
    "    horizontal_flip=False)\n",
    "\n",
    "# compute quantities required for featurewise normalization\n",
    "# (std, mean, and principal components if ZCA whitening is applied)\n",
    "datagen.fit(X_train)"
   ]
  },
  {
   "cell_type": "markdown",
   "metadata": {},
   "source": [
    "## Model definition"
   ]
  },
  {
   "cell_type": "code",
   "execution_count": 12,
   "metadata": {
    "collapsed": false
   },
   "outputs": [
    {
     "name": "stdout",
     "output_type": "stream",
     "text": [
      "Warning: file not found. This notebook requires the file containing the weights\n"
     ]
    }
   ],
   "source": [
    "model_800 = Sequential()\n",
    "model_56 = Sequential()\n",
    "\n",
    "model_new = Sequential()\n",
    "\n",
    "def initialize_network(model, checkpoints_filepath, dropout1=dropout, dropout2=dropout):\n",
    "    model.add(Convolution2D(nb_filters1, kernel_size1[0], kernel_size1[1],\n",
    "                            border_mode='valid',\n",
    "                            input_shape=input_shape, name='covolution_1_' + str(nb_filters1) + '_filters'))\n",
    "    model.add(Activation(activation, name='activation_1_' + activation))\n",
    "    model.add(MaxPooling2D(pool_size=pool_size1, name='max_pooling_1_' + str(pool_size1) + '_pool_size'))\n",
    "    model.add(Convolution2D(nb_filters2, kernel_size2[0], kernel_size2[1]))\n",
    "    model.add(Activation(activation, name='activation_2_' + activation))\n",
    "    model.add(MaxPooling2D(pool_size=pool_size2, name='max_pooling_1_' + str(pool_size2) + '_pool_size'))\n",
    "    model.add(Dropout(dropout))\n",
    "\n",
    "    model.add(Flatten())\n",
    "    model.add(Dense(dense_layer_size1, name='fully_connected_1_' + str(dense_layer_size1) + '_neurons'))\n",
    "    model.add(Activation(activation, name='activation_3_' + activation))\n",
    "    model.add(Dropout(dropout))\n",
    "    model.add(Dense(nb_classes, name='output_' + str(nb_classes) + '_neurons'))\n",
    "    model.add(Activation('softmax', name='softmax'))\n",
    "\n",
    "    # loading weights from checkpoints \n",
    "    if os.path.exists(checkpoints_filepath):\n",
    "        model.load_weights(checkpoints_filepath)\n",
    "    else:\n",
    "        print (\"Warning: file not found. This notebook requires the file containing the weights\")\n",
    "\n",
    "    model.compile(loss='categorical_crossentropy',\n",
    "                  optimizer='adadelta',\n",
    "                  metrics=['accuracy', 'precision', 'recall', 'mean_absolute_error'])\n",
    "    \n",
    "initialize_network(model_800, checkpoints_filepath_800)\n",
    "initialize_network(model_56, checkpoints_filepath_56)\n",
    "\n",
    "initialize_network(model_new, checkpoints_filepath_new)"
   ]
  },
  {
   "cell_type": "markdown",
   "metadata": {},
   "source": [
    "## Training and evaluation"
   ]
  },
  {
   "cell_type": "code",
   "execution_count": 13,
   "metadata": {
    "collapsed": false,
    "scrolled": true
   },
   "outputs": [
    {
     "name": "stdout",
     "output_type": "stream",
     "text": [
      "evaluating 800 epochs model\n",
      " 9984/10000 [============================>.] - ETA: 0sTest score: 0.0357797718857\n",
      "Test accuracy: 0.9944\n",
      "Test error: 0.550322589874 %\n",
      "Test MAE: 0.00137426248779\n",
      "evaluating 56 epochs model\n",
      " 9984/10000 [============================>.] - ETA: 0sTest score: 0.0291260985197\n",
      "Test accuracy: 0.9927\n",
      "Test error: 0.690967769623 %\n",
      "Test MAE: 0.00215386607419\n"
     ]
    }
   ],
   "source": [
    "# evaluation\n",
    "print('evaluating 800 epochs model')\n",
    "score = model_800.evaluate(X_test, Y_test, verbose=1)\n",
    "print('Test score:', score[0])\n",
    "print('Test accuracy:', score[1])\n",
    "print('Test error:', (1-score[2])*100, '%')\n",
    "print('Test MAE:', score[4])\n",
    "\n",
    "print('evaluating 56 epochs model')\n",
    "score = model_56.evaluate(X_test, Y_test, verbose=1)\n",
    "print('Test score:', score[0])\n",
    "print('Test accuracy:', score[1])\n",
    "print('Test error:', (1-score[2])*100, '%')\n",
    "print('Test MAE:', score[4])"
   ]
  },
  {
   "cell_type": "code",
   "execution_count": 14,
   "metadata": {
    "collapsed": false
   },
   "outputs": [
    {
     "name": "stdout",
     "output_type": "stream",
     "text": [
      "Epoch 00000: val_precision improved from -inf to 0.92299, saving model to checkpoints/03_MNIST_weights.best.hdf5\n",
      "Epoch 00001: val_precision improved from 0.92299 to 0.95309, saving model to checkpoints/03_MNIST_weights.best.hdf5\n",
      "Epoch 00002: val_precision improved from 0.95309 to 0.95347, saving model to checkpoints/03_MNIST_weights.best.hdf5\n",
      "Epoch 00003: val_precision improved from 0.95347 to 0.97033, saving model to checkpoints/03_MNIST_weights.best.hdf5\n",
      "Epoch 00004: val_precision improved from 0.97033 to 0.97067, saving model to checkpoints/03_MNIST_weights.best.hdf5\n",
      "Epoch 00005: val_precision improved from 0.97067 to 0.97790, saving model to checkpoints/03_MNIST_weights.best.hdf5\n",
      "Epoch 00006: val_precision improved from 0.97790 to 0.97957, saving model to checkpoints/03_MNIST_weights.best.hdf5\n",
      "Epoch 00007: val_precision did not improve\n",
      "Epoch 00008: val_precision improved from 0.97957 to 0.98052, saving model to checkpoints/03_MNIST_weights.best.hdf5\n",
      "Epoch 00009: val_precision improved from 0.98052 to 0.98269, saving model to checkpoints/03_MNIST_weights.best.hdf5\n",
      "Epoch 00010: val_precision improved from 0.98269 to 0.98288, saving model to checkpoints/03_MNIST_weights.best.hdf5\n",
      "Epoch 00011: val_precision improved from 0.98288 to 0.98315, saving model to checkpoints/03_MNIST_weights.best.hdf5\n",
      "Epoch 00012: val_precision improved from 0.98315 to 0.98382, saving model to checkpoints/03_MNIST_weights.best.hdf5\n",
      "Epoch 00013: val_precision improved from 0.98382 to 0.98421, saving model to checkpoints/03_MNIST_weights.best.hdf5\n",
      "Epoch 00014: val_precision improved from 0.98421 to 0.98475, saving model to checkpoints/03_MNIST_weights.best.hdf5\n",
      "Epoch 00015: val_precision improved from 0.98475 to 0.98628, saving model to checkpoints/03_MNIST_weights.best.hdf5\n",
      "Epoch 00016: val_precision did not improve\n",
      "Epoch 00017: val_precision did not improve\n",
      "Epoch 00018: val_precision did not improve\n",
      "Epoch 00019: val_precision did not improve\n",
      "Epoch 00020: val_precision improved from 0.98628 to 0.98678, saving model to checkpoints/03_MNIST_weights.best.hdf5\n",
      "Epoch 00021: val_precision improved from 0.98678 to 0.98709, saving model to checkpoints/03_MNIST_weights.best.hdf5\n",
      "Epoch 00022: val_precision improved from 0.98709 to 0.98882, saving model to checkpoints/03_MNIST_weights.best.hdf5\n",
      "Epoch 00023: val_precision did not improve\n",
      "Epoch 00024: val_precision did not improve\n",
      "Epoch 00025: val_precision did not improve\n",
      "Epoch 00026: val_precision did not improve\n",
      "Epoch 00027: val_precision did not improve\n",
      "Epoch 00028: val_precision did not improve\n",
      "Epoch 00029: val_precision did not improve\n",
      "Epoch 00030: val_precision did not improve\n",
      "Epoch 00031: val_precision did not improve\n",
      "Epoch 00032: val_precision did not improve\n",
      "Epoch 00033: val_precision did not improve\n",
      "Epoch 00034: val_precision improved from 0.98882 to 0.98882, saving model to checkpoints/03_MNIST_weights.best.hdf5\n",
      "Epoch 00035: val_precision improved from 0.98882 to 0.98905, saving model to checkpoints/03_MNIST_weights.best.hdf5\n",
      "Epoch 00036: val_precision did not improve\n",
      "Epoch 00037: val_precision did not improve\n",
      "Epoch 00038: val_precision improved from 0.98905 to 0.98975, saving model to checkpoints/03_MNIST_weights.best.hdf5\n",
      "Epoch 00039: val_precision improved from 0.98975 to 0.98976, saving model to checkpoints/03_MNIST_weights.best.hdf5\n",
      "Epoch 00040: val_precision did not improve\n",
      "Epoch 00041: val_precision did not improve\n",
      "Epoch 00042: val_precision did not improve\n",
      "Epoch 00043: val_precision did not improve\n",
      "Epoch 00044: val_precision improved from 0.98976 to 0.98986, saving model to checkpoints/03_MNIST_weights.best.hdf5\n",
      "Epoch 00045: val_precision improved from 0.98986 to 0.99015, saving model to checkpoints/03_MNIST_weights.best.hdf5\n",
      "Epoch 00046: val_precision did not improve\n",
      "Epoch 00047: val_precision did not improve\n",
      "Epoch 00048: val_precision improved from 0.99015 to 0.99107, saving model to checkpoints/03_MNIST_weights.best.hdf5\n",
      "Epoch 00049: val_precision did not improve\n",
      "Epoch 00050: val_precision did not improve\n",
      "Epoch 00051: val_precision did not improve\n",
      "Epoch 00052: val_precision did not improve\n",
      "Epoch 00053: val_precision did not improve\n",
      "Epoch 00054: val_precision did not improve\n",
      "Epoch 00055: val_precision did not improve\n",
      "Epoch 00056: val_precision did not improve\n",
      "Epoch 00057: val_precision improved from 0.99107 to 0.99147, saving model to checkpoints/03_MNIST_weights.best.hdf5\n",
      "Epoch 00058: val_precision did not improve\n",
      "Epoch 00059: val_precision did not improve\n",
      "Epoch 00060: val_precision did not improve\n",
      "Epoch 00061: val_precision improved from 0.99147 to 0.99167, saving model to checkpoints/03_MNIST_weights.best.hdf5\n",
      "Epoch 00062: val_precision did not improve\n",
      "Epoch 00063: val_precision improved from 0.99167 to 0.99168, saving model to checkpoints/03_MNIST_weights.best.hdf5\n",
      "Epoch 00064: val_precision did not improve\n",
      "Epoch 00065: val_precision did not improve\n",
      "Epoch 00066: val_precision did not improve\n",
      "Epoch 00067: val_precision did not improve\n",
      "Epoch 00068: val_precision did not improve\n",
      "Epoch 00069: val_precision did not improve\n",
      "Epoch 00070: val_precision did not improve\n",
      "Epoch 00071: val_precision did not improve\n",
      "Epoch 00072: val_precision did not improve\n",
      "Epoch 00073: val_precision improved from 0.99168 to 0.99216, saving model to checkpoints/03_MNIST_weights.best.hdf5\n",
      "Epoch 00074: val_precision improved from 0.99216 to 0.99257, saving model to checkpoints/03_MNIST_weights.best.hdf5\n",
      "Epoch 00075: val_precision did not improve\n",
      "Epoch 00076: val_precision did not improve\n",
      "Epoch 00077: val_precision did not improve\n",
      "Epoch 00078: val_precision did not improve\n",
      "Epoch 00079: val_precision improved from 0.99257 to 0.99277, saving model to checkpoints/03_MNIST_weights.best.hdf5\n",
      "Epoch 00080: val_precision did not improve\n",
      "Epoch 00081: val_precision did not improve\n",
      "Epoch 00082: val_precision did not improve\n",
      "Epoch 00083: val_precision did not improve\n",
      "Epoch 00084: val_precision did not improve\n",
      "Epoch 00085: val_precision did not improve\n",
      "Epoch 00086: val_precision did not improve\n",
      "Epoch 00087: val_precision did not improve\n",
      "Epoch 00088: val_precision did not improve\n",
      "Epoch 00089: val_precision did not improve\n",
      "Epoch 00090: val_precision did not improve\n",
      "Epoch 00091: val_precision did not improve\n",
      "Epoch 00092: val_precision did not improve\n",
      "Epoch 00093: val_precision did not improve\n",
      "Epoch 00094: val_precision improved from 0.99277 to 0.99278, saving model to checkpoints/03_MNIST_weights.best.hdf5\n",
      "Epoch 00095: val_precision did not improve\n",
      "Epoch 00096: val_precision did not improve\n",
      "Epoch 00097: val_precision did not improve\n",
      "Epoch 00098: val_precision did not improve\n",
      "Epoch 00099: val_precision did not improve\n",
      "Epoch 00100: val_precision did not improve\n",
      "Epoch 00101: val_precision did not improve\n",
      "Epoch 00102: val_precision did not improve\n",
      "Epoch 00103: val_precision did not improve\n",
      "Epoch 00104: val_precision did not improve\n",
      "Epoch 00105: val_precision did not improve\n",
      "Epoch 00106: val_precision did not improve\n",
      "Epoch 00107: val_precision did not improve\n",
      "Epoch 00108: val_precision did not improve\n",
      "Epoch 00109: val_precision did not improve\n",
      "Epoch 00110: val_precision did not improve\n",
      "Epoch 00111: val_precision did not improve\n",
      "Epoch 00112: val_precision did not improve\n",
      "Epoch 00113: val_precision did not improve\n",
      "Epoch 00114: val_precision did not improve\n",
      "Epoch 00115: val_precision did not improve\n",
      "Epoch 00116: val_precision did not improve\n",
      "Epoch 00117: val_precision did not improve\n",
      "Epoch 00118: val_precision did not improve\n",
      "Epoch 00119: val_precision improved from 0.99278 to 0.99288, saving model to checkpoints/03_MNIST_weights.best.hdf5\n",
      "Epoch 00120: val_precision did not improve\n",
      "Epoch 00121: val_precision did not improve\n",
      "Epoch 00122: val_precision did not improve\n",
      "Epoch 00123: val_precision did not improve\n",
      "Epoch 00124: val_precision did not improve\n",
      "Epoch 00125: val_precision did not improve\n",
      "Epoch 00126: val_precision did not improve\n",
      "Epoch 00127: val_precision did not improve\n",
      "Epoch 00128: val_precision improved from 0.99288 to 0.99308, saving model to checkpoints/03_MNIST_weights.best.hdf5\n",
      "Epoch 00129: val_precision did not improve\n",
      "Epoch 00130: val_precision did not improve\n",
      "Epoch 00131: val_precision did not improve\n",
      "Epoch 00132: val_precision did not improve\n",
      "Epoch 00133: val_precision did not improve\n",
      "Epoch 00134: val_precision did not improve\n",
      "Epoch 00135: val_precision did not improve\n",
      "Epoch 00136: val_precision did not improve\n",
      "Epoch 00137: val_precision did not improve\n",
      "Epoch 00138: val_precision did not improve\n",
      "Epoch 00139: val_precision did not improve\n",
      "Epoch 00140: val_precision did not improve\n",
      "Epoch 00141: val_precision did not improve\n",
      "Epoch 00142: val_precision did not improve\n",
      "Epoch 00143: val_precision did not improve\n",
      "Epoch 00144: val_precision did not improve\n",
      "Epoch 00145: val_precision did not improve\n",
      "Epoch 00146: val_precision did not improve\n",
      "Epoch 00147: val_precision did not improve\n",
      "Epoch 00148: val_precision did not improve\n",
      "Epoch 00149: val_precision did not improve\n",
      "Epoch 00150: val_precision did not improve\n",
      "Epoch 00151: val_precision did not improve\n",
      "Epoch 00152: val_precision did not improve\n",
      "Epoch 00153: val_precision did not improve\n",
      "Epoch 00154: val_precision did not improve\n",
      "Epoch 00155: val_precision did not improve\n",
      "Epoch 00156: val_precision did not improve\n",
      "Epoch 00157: val_precision did not improve\n",
      "Epoch 00158: val_precision did not improve\n",
      "Epoch 00159: val_precision did not improve\n",
      "Epoch 00160: val_precision did not improve\n",
      "Epoch 00161: val_precision did not improve\n",
      "Epoch 00162: val_precision did not improve\n",
      "Epoch 00163: val_precision did not improve\n",
      "Epoch 00164: val_precision did not improve\n",
      "Epoch 00165: val_precision did not improve\n",
      "Epoch 00166: val_precision did not improve\n",
      "Epoch 00167: val_precision did not improve\n",
      "Epoch 00168: val_precision did not improve\n",
      "Epoch 00169: val_precision did not improve\n",
      "Epoch 00170: val_precision did not improve\n",
      "Epoch 00171: val_precision did not improve\n",
      "Epoch 00172: val_precision improved from 0.99308 to 0.99318, saving model to checkpoints/03_MNIST_weights.best.hdf5\n",
      "Epoch 00173: val_precision did not improve\n",
      "Epoch 00174: val_precision did not improve\n",
      "Epoch 00175: val_precision did not improve\n",
      "Epoch 00176: val_precision improved from 0.99318 to 0.99377, saving model to checkpoints/03_MNIST_weights.best.hdf5\n",
      "Epoch 00177: val_precision did not improve\n",
      "Epoch 00178: val_precision did not improve\n",
      "Epoch 00179: val_precision did not improve\n",
      "Epoch 00180: val_precision did not improve\n",
      "Epoch 00181: val_precision did not improve\n",
      "Epoch 00182: val_precision did not improve\n",
      "Epoch 00183: val_precision did not improve\n",
      "Epoch 00184: val_precision did not improve\n",
      "Epoch 00185: val_precision did not improve\n",
      "Epoch 00186: val_precision did not improve\n",
      "Epoch 00187: val_precision did not improve\n",
      "Epoch 00188: val_precision did not improve\n",
      "Epoch 00189: val_precision did not improve\n",
      "Epoch 00190: val_precision did not improve\n",
      "Epoch 00191: val_precision did not improve\n",
      "Epoch 00192: val_precision did not improve\n",
      "Epoch 00193: val_precision did not improve\n",
      "Epoch 00194: val_precision did not improve\n",
      "Epoch 00195: val_precision did not improve\n",
      "Epoch 00196: val_precision did not improve\n",
      "Epoch 00197: val_precision did not improve\n",
      "Epoch 00198: val_precision did not improve\n",
      "Epoch 00199: val_precision did not improve\n",
      "Epoch 00200: val_precision did not improve\n",
      "Epoch 00201: val_precision did not improve\n",
      "Epoch 00202: val_precision did not improve\n",
      "Epoch 00203: val_precision did not improve\n",
      "Epoch 00204: val_precision did not improve\n",
      "Epoch 00205: val_precision did not improve\n",
      "Epoch 00206: val_precision did not improve\n",
      "Epoch 00207: val_precision did not improve\n",
      "Epoch 00208: val_precision did not improve\n",
      "Epoch 00209: val_precision did not improve\n",
      "Epoch 00210: val_precision did not improve\n",
      "Epoch 00211: val_precision did not improve\n",
      "Epoch 00212: val_precision did not improve\n",
      "Epoch 00213: val_precision did not improve\n",
      "Epoch 00214: val_precision did not improve\n",
      "Epoch 00215: val_precision did not improve\n",
      "Epoch 00216: val_precision did not improve\n",
      "Epoch 00217: val_precision did not improve\n",
      "Epoch 00218: val_precision did not improve\n",
      "Epoch 00219: val_precision did not improve\n",
      "Epoch 00220: val_precision did not improve\n",
      "Epoch 00221: val_precision did not improve\n",
      "Epoch 00222: val_precision did not improve\n",
      "Epoch 00223: val_precision did not improve\n",
      "Epoch 00224: val_precision did not improve\n",
      "Epoch 00225: val_precision did not improve\n",
      "Epoch 00226: val_precision did not improve\n",
      "Epoch 00227: val_precision did not improve\n",
      "Epoch 00228: val_precision did not improve\n",
      "Epoch 00229: val_precision did not improve\n",
      "Epoch 00230: val_precision did not improve\n",
      "Epoch 00231: val_precision did not improve\n",
      "Epoch 00232: val_precision did not improve\n",
      "Epoch 00233: val_precision did not improve\n",
      "Epoch 00234: val_precision did not improve\n",
      "Epoch 00235: val_precision did not improve\n",
      "Epoch 00236: val_precision did not improve\n",
      "Epoch 00237: val_precision did not improve\n",
      "Epoch 00238: val_precision did not improve\n",
      "Epoch 00239: val_precision did not improve\n",
      "Epoch 00240: val_precision did not improve\n",
      "Epoch 00241: val_precision did not improve\n",
      "Epoch 00242: val_precision did not improve\n",
      "Epoch 00243: val_precision did not improve\n",
      "Epoch 00244: val_precision did not improve\n",
      "Epoch 00245: val_precision did not improve\n",
      "Epoch 00246: val_precision did not improve\n",
      "Epoch 00247: val_precision did not improve\n",
      "Epoch 00248: val_precision did not improve\n",
      "Epoch 00249: val_precision did not improve\n",
      "Epoch 00250: val_precision did not improve\n",
      "Epoch 00251: val_precision did not improve\n",
      "Epoch 00252: val_precision did not improve\n",
      "Epoch 00253: val_precision did not improve\n",
      "Epoch 00254: val_precision did not improve\n",
      "Epoch 00255: val_precision did not improve\n",
      "Epoch 00256: val_precision did not improve\n",
      "Epoch 00257: val_precision did not improve\n",
      "Epoch 00258: val_precision did not improve\n",
      "Epoch 00259: val_precision did not improve\n",
      "Epoch 00260: val_precision did not improve\n",
      "Epoch 00261: val_precision did not improve\n",
      "Epoch 00262: val_precision did not improve\n",
      "Epoch 00263: val_precision did not improve\n",
      "Epoch 00264: val_precision did not improve\n",
      "Epoch 00265: val_precision did not improve\n",
      "Epoch 00266: val_precision did not improve\n",
      "Epoch 00267: val_precision did not improve\n",
      "Epoch 00268: val_precision did not improve\n",
      "Epoch 00269: val_precision did not improve\n",
      "Epoch 00270: val_precision did not improve\n",
      "Epoch 00271: val_precision did not improve\n",
      "Epoch 00272: val_precision did not improve\n",
      "Epoch 00273: val_precision did not improve\n",
      "Epoch 00274: val_precision did not improve\n",
      "Epoch 00275: val_precision did not improve\n",
      "Epoch 00276: val_precision did not improve\n",
      "Epoch 00277: val_precision did not improve\n",
      "Epoch 00278: val_precision did not improve\n",
      "Epoch 00279: val_precision did not improve\n",
      "Epoch 00280: val_precision did not improve\n",
      "Epoch 00281: val_precision did not improve\n",
      "Epoch 00282: val_precision did not improve\n",
      "Epoch 00283: val_precision did not improve\n",
      "Epoch 00284: val_precision did not improve\n",
      "Epoch 00285: val_precision did not improve\n",
      "Epoch 00286: val_precision did not improve\n",
      "Epoch 00287: val_precision improved from 0.99377 to 0.99379, saving model to checkpoints/03_MNIST_weights.best.hdf5\n",
      "Epoch 00288: val_precision did not improve\n",
      "Epoch 00289: val_precision did not improve\n",
      "Epoch 00290: val_precision did not improve\n",
      "Epoch 00291: val_precision did not improve\n",
      "Epoch 00292: val_precision did not improve\n",
      "Epoch 00293: val_precision did not improve\n",
      "Epoch 00294: val_precision did not improve\n",
      "Epoch 00295: val_precision did not improve\n",
      "Epoch 00296: val_precision did not improve\n",
      "Epoch 00297: val_precision did not improve\n",
      "Epoch 00298: val_precision did not improve\n",
      "Epoch 00299: val_precision did not improve\n",
      "Epoch 00300: val_precision did not improve\n",
      "Epoch 00301: val_precision did not improve\n",
      "Epoch 00302: val_precision did not improve\n",
      "Epoch 00303: val_precision did not improve\n",
      "Epoch 00304: val_precision did not improve\n",
      "Epoch 00305: val_precision did not improve\n",
      "Epoch 00306: val_precision did not improve\n",
      "Epoch 00307: val_precision did not improve\n",
      "Epoch 00308: val_precision did not improve\n",
      "Epoch 00309: val_precision did not improve\n",
      "Epoch 00310: val_precision improved from 0.99379 to 0.99389, saving model to checkpoints/03_MNIST_weights.best.hdf5\n",
      "Epoch 00311: val_precision did not improve\n",
      "Epoch 00312: val_precision did not improve\n",
      "Epoch 00313: val_precision did not improve\n",
      "Epoch 00314: val_precision did not improve\n",
      "Epoch 00315: val_precision improved from 0.99389 to 0.99399, saving model to checkpoints/03_MNIST_weights.best.hdf5\n",
      "Epoch 00316: val_precision did not improve\n",
      "Epoch 00317: val_precision did not improve\n",
      "Epoch 00318: val_precision did not improve\n",
      "Epoch 00319: val_precision did not improve\n",
      "Epoch 00320: val_precision did not improve\n",
      "Epoch 00321: val_precision did not improve\n",
      "Epoch 00322: val_precision did not improve\n",
      "Epoch 00323: val_precision did not improve\n",
      "Epoch 00324: val_precision did not improve\n",
      "Epoch 00325: val_precision did not improve\n",
      "Epoch 00326: val_precision did not improve\n",
      "Epoch 00327: val_precision did not improve\n",
      "Epoch 00328: val_precision did not improve\n",
      "Epoch 00329: val_precision did not improve\n",
      "Epoch 00330: val_precision did not improve\n",
      "Epoch 00331: val_precision did not improve\n",
      "Epoch 00332: val_precision did not improve\n",
      "Epoch 00333: val_precision did not improve\n",
      "Epoch 00334: val_precision did not improve\n",
      "Epoch 00335: val_precision did not improve\n",
      "Epoch 00336: val_precision did not improve\n",
      "Epoch 00337: val_precision did not improve\n",
      "Epoch 00338: val_precision did not improve\n",
      "Epoch 00339: val_precision did not improve\n",
      "Epoch 00340: val_precision did not improve\n",
      "Epoch 00341: val_precision did not improve\n",
      "Epoch 00342: val_precision did not improve\n",
      "Epoch 00343: val_precision did not improve\n",
      "Epoch 00344: val_precision did not improve\n",
      "Epoch 00345: val_precision did not improve\n",
      "Epoch 00346: val_precision did not improve\n",
      "Epoch 00347: val_precision did not improve\n",
      "Epoch 00348: val_precision did not improve\n",
      "Epoch 00349: val_precision did not improve\n",
      "Epoch 00350: val_precision did not improve\n",
      "Epoch 00351: val_precision did not improve\n",
      "Epoch 00352: val_precision did not improve\n",
      "Epoch 00353: val_precision did not improve\n",
      "Epoch 00354: val_precision did not improve\n",
      "Epoch 00355: val_precision did not improve\n",
      "Epoch 00356: val_precision did not improve\n",
      "Epoch 00357: val_precision did not improve\n",
      "Epoch 00358: val_precision did not improve\n",
      "Epoch 00359: val_precision did not improve\n",
      "Epoch 00360: val_precision did not improve\n",
      "Epoch 00361: val_precision did not improve\n",
      "Epoch 00362: val_precision improved from 0.99399 to 0.99439, saving model to checkpoints/03_MNIST_weights.best.hdf5\n",
      "Epoch 00363: val_precision did not improve\n",
      "Epoch 00364: val_precision did not improve\n",
      "Epoch 00365: val_precision did not improve\n",
      "Epoch 00366: val_precision did not improve\n",
      "Epoch 00367: val_precision did not improve\n",
      "Epoch 00368: val_precision did not improve\n",
      "Epoch 00369: val_precision did not improve\n",
      "Epoch 00370: val_precision did not improve\n",
      "Epoch 00371: val_precision did not improve\n",
      "Epoch 00372: val_precision did not improve\n",
      "Epoch 00373: val_precision did not improve\n",
      "Epoch 00374: val_precision did not improve\n",
      "Epoch 00375: val_precision did not improve\n",
      "Epoch 00376: val_precision did not improve\n",
      "Epoch 00377: val_precision did not improve\n",
      "Epoch 00378: val_precision did not improve\n",
      "Epoch 00379: val_precision did not improve\n",
      "Epoch 00380: val_precision did not improve\n",
      "Epoch 00381: val_precision did not improve\n",
      "Epoch 00382: val_precision did not improve\n",
      "Epoch 00383: val_precision did not improve\n",
      "Epoch 00384: val_precision did not improve\n",
      "Epoch 00385: val_precision did not improve\n",
      "Epoch 00386: val_precision did not improve\n",
      "Epoch 00387: val_precision did not improve\n",
      "Epoch 00388: val_precision did not improve\n",
      "Epoch 00389: val_precision did not improve\n",
      "Epoch 00390: val_precision did not improve\n",
      "Epoch 00391: val_precision did not improve\n",
      "Epoch 00392: val_precision did not improve\n",
      "Epoch 00393: val_precision did not improve\n",
      "Epoch 00394: val_precision did not improve\n",
      "Epoch 00395: val_precision did not improve\n",
      "Epoch 00396: val_precision did not improve\n",
      "Epoch 00397: val_precision did not improve\n",
      "Epoch 00398: val_precision did not improve\n",
      "Epoch 00399: val_precision did not improve\n",
      "Epoch 00400: val_precision did not improve\n",
      "Epoch 00401: val_precision did not improve\n",
      "Epoch 00402: val_precision did not improve\n",
      "Epoch 00403: val_precision did not improve\n",
      "Epoch 00404: val_precision did not improve\n",
      "Epoch 00405: val_precision did not improve\n",
      "Epoch 00406: val_precision did not improve\n",
      "Epoch 00407: val_precision did not improve\n",
      "Epoch 00408: val_precision did not improve\n",
      "Epoch 00409: val_precision did not improve\n",
      "Epoch 00410: val_precision did not improve\n",
      "Epoch 00411: val_precision did not improve\n",
      "Epoch 00412: val_precision did not improve\n",
      "Epoch 00413: val_precision did not improve\n",
      "Epoch 00414: val_precision did not improve\n",
      "Epoch 00415: val_precision did not improve\n",
      "Epoch 00416: val_precision did not improve\n",
      "Epoch 00417: val_precision did not improve\n",
      "Epoch 00418: val_precision did not improve\n",
      "Epoch 00419: val_precision did not improve\n",
      "Epoch 00420: val_precision did not improve\n",
      "Epoch 00421: val_precision did not improve\n",
      "Epoch 00422: val_precision did not improve\n",
      "Epoch 00423: val_precision did not improve\n",
      "Epoch 00424: val_precision did not improve\n",
      "Epoch 00425: val_precision did not improve\n",
      "Epoch 00426: val_precision did not improve\n",
      "Epoch 00427: val_precision did not improve\n",
      "Epoch 00428: val_precision did not improve\n",
      "Epoch 00429: val_precision did not improve\n",
      "Epoch 00430: val_precision did not improve\n",
      "Epoch 00431: val_precision did not improve\n",
      "Epoch 00432: val_precision did not improve\n",
      "Epoch 00433: val_precision did not improve\n",
      "Epoch 00434: val_precision did not improve\n",
      "Epoch 00435: val_precision did not improve\n",
      "Epoch 00436: val_precision did not improve\n",
      "Epoch 00437: val_precision did not improve\n",
      "Epoch 00438: val_precision did not improve\n",
      "Epoch 00439: val_precision did not improve\n",
      "Epoch 00440: val_precision did not improve\n",
      "Epoch 00441: val_precision did not improve\n",
      "Epoch 00442: val_precision improved from 0.99439 to 0.99449, saving model to checkpoints/03_MNIST_weights.best.hdf5\n",
      "Epoch 00443: val_precision did not improve\n",
      "Epoch 00444: val_precision did not improve\n",
      "Epoch 00445: val_precision did not improve\n",
      "Epoch 00446: val_precision did not improve\n",
      "Epoch 00447: val_precision did not improve\n",
      "Epoch 00448: val_precision did not improve\n",
      "Epoch 00449: val_precision did not improve\n",
      "Epoch 00450: val_precision did not improve\n",
      "Epoch 00451: val_precision did not improve\n",
      "Epoch 00452: val_precision did not improve\n",
      "Epoch 00453: val_precision did not improve\n",
      "Epoch 00454: val_precision did not improve\n",
      "Epoch 00455: val_precision did not improve\n",
      "Epoch 00456: val_precision did not improve\n",
      "Epoch 00457: val_precision did not improve\n",
      "Epoch 00458: val_precision did not improve\n",
      "Epoch 00459: val_precision did not improve\n",
      "Epoch 00460: val_precision did not improve\n",
      "Epoch 00461: val_precision did not improve\n",
      "Epoch 00462: val_precision did not improve\n",
      "Epoch 00463: val_precision did not improve\n",
      "Epoch 00464: val_precision did not improve\n",
      "Epoch 00465: val_precision did not improve\n",
      "Epoch 00466: val_precision did not improve\n",
      "Epoch 00467: val_precision did not improve\n",
      "Epoch 00468: val_precision did not improve\n",
      "Epoch 00469: val_precision did not improve\n",
      "Epoch 00470: val_precision did not improve\n",
      "Epoch 00471: val_precision did not improve\n",
      "Epoch 00472: val_precision did not improve\n",
      "Epoch 00473: val_precision did not improve\n",
      "Epoch 00474: val_precision did not improve\n",
      "Epoch 00475: val_precision did not improve\n",
      "Epoch 00476: val_precision did not improve\n",
      "Epoch 00477: val_precision did not improve\n",
      "Epoch 00478: val_precision did not improve\n",
      "Epoch 00479: val_precision did not improve\n",
      "Epoch 00480: val_precision did not improve\n",
      "Epoch 00481: val_precision improved from 0.99449 to 0.99449, saving model to checkpoints/03_MNIST_weights.best.hdf5\n",
      "Epoch 00482: val_precision did not improve\n",
      "Epoch 00483: val_precision did not improve\n",
      "Epoch 00484: val_precision did not improve\n",
      "Epoch 00485: val_precision did not improve\n",
      "Epoch 00486: val_precision did not improve\n",
      "Epoch 00487: val_precision did not improve\n",
      "Epoch 00488: val_precision did not improve\n",
      "Epoch 00489: val_precision did not improve\n",
      "Epoch 00490: val_precision did not improve\n",
      "Epoch 00491: val_precision did not improve\n",
      "Epoch 00492: val_precision did not improve\n",
      "Epoch 00493: val_precision did not improve\n",
      "Epoch 00494: val_precision did not improve\n",
      "Epoch 00495: val_precision did not improve\n",
      "Epoch 00496: val_precision did not improve\n",
      "Epoch 00497: val_precision did not improve\n",
      "Epoch 00498: val_precision did not improve\n",
      "Epoch 00499: val_precision did not improve\n",
      "Epoch 00500: val_precision did not improve\n",
      "Epoch 00501: val_precision did not improve\n",
      "Epoch 00502: val_precision did not improve\n",
      "Epoch 00503: val_precision did not improve\n",
      "Epoch 00504: val_precision did not improve\n",
      "Epoch 00505: val_precision did not improve\n",
      "Epoch 00506: val_precision did not improve\n",
      "Epoch 00507: val_precision did not improve\n",
      "Epoch 00508: val_precision did not improve\n",
      "Epoch 00509: val_precision did not improve\n",
      "Epoch 00510: val_precision did not improve\n",
      "Epoch 00511: val_precision did not improve\n",
      "Epoch 00512: val_precision did not improve\n",
      "Epoch 00513: val_precision did not improve\n",
      "Epoch 00514: val_precision did not improve\n",
      "Epoch 00515: val_precision did not improve\n",
      "Epoch 00516: val_precision did not improve\n",
      "Epoch 00517: val_precision did not improve\n",
      "Epoch 00518: val_precision did not improve\n",
      "Epoch 00519: val_precision did not improve\n",
      "Epoch 00520: val_precision did not improve\n",
      "Epoch 00521: val_precision did not improve\n",
      "Epoch 00522: val_precision did not improve\n",
      "Epoch 00523: val_precision did not improve\n",
      "Epoch 00524: val_precision did not improve\n",
      "Epoch 00525: val_precision did not improve\n",
      "Epoch 00526: val_precision did not improve\n",
      "Epoch 00527: val_precision did not improve\n",
      "Epoch 00528: val_precision did not improve\n",
      "Epoch 00529: val_precision did not improve\n",
      "Epoch 00530: val_precision did not improve\n",
      "Epoch 00531: val_precision did not improve\n",
      "Epoch 00532: val_precision did not improve\n",
      "Epoch 00533: val_precision did not improve\n",
      "Epoch 00534: val_precision did not improve\n",
      "Epoch 00535: val_precision did not improve\n",
      "Epoch 00536: val_precision did not improve\n",
      "Epoch 00537: val_precision did not improve\n",
      "Epoch 00538: val_precision did not improve\n",
      "Epoch 00539: val_precision did not improve\n",
      "Epoch 00540: val_precision did not improve\n",
      "Epoch 00541: val_precision did not improve\n",
      "Epoch 00542: val_precision did not improve\n",
      "Epoch 00543: val_precision did not improve\n",
      "Epoch 00544: val_precision did not improve\n",
      "Epoch 00545: val_precision did not improve\n",
      "Epoch 00546: val_precision did not improve\n",
      "Epoch 00547: val_precision did not improve\n",
      "Epoch 00548: val_precision did not improve\n",
      "Epoch 00549: val_precision did not improve\n",
      "Epoch 00550: val_precision did not improve\n",
      "Epoch 00551: val_precision did not improve\n",
      "Epoch 00552: val_precision did not improve\n",
      "Epoch 00553: val_precision did not improve\n",
      "Epoch 00554: val_precision did not improve\n",
      "Epoch 00555: val_precision did not improve\n",
      "Epoch 00556: val_precision did not improve\n",
      "Epoch 00557: val_precision did not improve\n",
      "Epoch 00558: val_precision did not improve\n",
      "Epoch 00559: val_precision improved from 0.99449 to 0.99479, saving model to checkpoints/03_MNIST_weights.best.hdf5\n",
      "Epoch 00560: val_precision did not improve\n",
      "Epoch 00561: val_precision did not improve\n",
      "Epoch 00562: val_precision did not improve\n",
      "Epoch 00563: val_precision did not improve\n",
      "Epoch 00564: val_precision did not improve\n",
      "Epoch 00565: val_precision did not improve\n",
      "Epoch 00566: val_precision did not improve\n",
      "Epoch 00567: val_precision did not improve\n",
      "Epoch 00568: val_precision did not improve\n",
      "Epoch 00569: val_precision did not improve\n",
      "Epoch 00570: val_precision did not improve\n",
      "Epoch 00571: val_precision did not improve\n",
      "Epoch 00572: val_precision did not improve\n",
      "Epoch 00573: val_precision did not improve\n",
      "Epoch 00574: val_precision did not improve\n",
      "Epoch 00575: val_precision did not improve\n",
      "Epoch 00576: val_precision did not improve\n",
      "Epoch 00577: val_precision did not improve\n",
      "Epoch 00578: val_precision did not improve\n",
      "Epoch 00579: val_precision did not improve\n",
      "Epoch 00580: val_precision did not improve\n",
      "Epoch 00581: val_precision did not improve\n",
      "Epoch 00582: val_precision did not improve\n",
      "Epoch 00583: val_precision did not improve\n",
      "Epoch 00584: val_precision did not improve\n",
      "Epoch 00585: val_precision did not improve\n",
      "Epoch 00586: val_precision did not improve\n",
      "Epoch 00587: val_precision did not improve\n",
      "Epoch 00588: val_precision did not improve\n",
      "Epoch 00589: val_precision did not improve\n",
      "Epoch 00590: val_precision did not improve\n",
      "Epoch 00591: val_precision did not improve\n",
      "Epoch 00592: val_precision did not improve\n",
      "Epoch 00593: val_precision did not improve\n",
      "Epoch 00594: val_precision did not improve\n",
      "Epoch 00595: val_precision did not improve\n",
      "Epoch 00596: val_precision did not improve\n",
      "Epoch 00597: val_precision did not improve\n",
      "Epoch 00598: val_precision did not improve\n",
      "Epoch 00599: val_precision did not improve\n",
      "Epoch 00600: val_precision did not improve\n",
      "Epoch 00601: val_precision did not improve\n",
      "Epoch 00602: val_precision did not improve\n",
      "Epoch 00603: val_precision did not improve\n",
      "Epoch 00604: val_precision did not improve\n",
      "Epoch 00605: val_precision did not improve\n",
      "Epoch 00606: val_precision did not improve\n",
      "Epoch 00607: val_precision did not improve\n",
      "Epoch 00608: val_precision did not improve\n",
      "Epoch 00609: val_precision did not improve\n",
      "Epoch 00610: val_precision improved from 0.99479 to 0.99489, saving model to checkpoints/03_MNIST_weights.best.hdf5\n",
      "Epoch 00611: val_precision did not improve\n",
      "Epoch 00612: val_precision did not improve\n",
      "Epoch 00613: val_precision did not improve\n",
      "Epoch 00614: val_precision did not improve\n",
      "Epoch 00615: val_precision did not improve\n",
      "Epoch 00616: val_precision did not improve\n",
      "Epoch 00617: val_precision did not improve\n",
      "Epoch 00618: val_precision did not improve\n",
      "Epoch 00619: val_precision did not improve\n",
      "Epoch 00620: val_precision did not improve\n",
      "Epoch 00621: val_precision did not improve\n",
      "Epoch 00622: val_precision did not improve\n",
      "Epoch 00623: val_precision did not improve\n",
      "Epoch 00624: val_precision did not improve\n",
      "Epoch 00625: val_precision did not improve\n",
      "Epoch 00626: val_precision did not improve\n",
      "Epoch 00627: val_precision did not improve\n",
      "Epoch 00628: val_precision did not improve\n",
      "Epoch 00629: val_precision did not improve\n",
      "Epoch 00630: val_precision did not improve\n",
      "Epoch 00631: val_precision did not improve\n",
      "Epoch 00632: val_precision did not improve\n",
      "Epoch 00633: val_precision did not improve\n",
      "Epoch 00634: val_precision did not improve\n",
      "Epoch 00635: val_precision did not improve\n",
      "Epoch 00636: val_precision did not improve\n",
      "Epoch 00637: val_precision did not improve\n",
      "Epoch 00638: val_precision did not improve\n",
      "Epoch 00639: val_precision did not improve\n",
      "Epoch 00640: val_precision did not improve\n",
      "Epoch 00641: val_precision did not improve\n",
      "Epoch 00642: val_precision did not improve\n",
      "Epoch 00643: val_precision did not improve\n",
      "Epoch 00644: val_precision did not improve\n",
      "Epoch 00645: val_precision did not improve\n",
      "Epoch 00646: val_precision did not improve\n",
      "Epoch 00647: val_precision did not improve\n",
      "Epoch 00648: val_precision did not improve\n",
      "Epoch 00649: val_precision did not improve\n",
      "Epoch 00650: val_precision did not improve\n",
      "Epoch 00651: val_precision did not improve\n",
      "Epoch 00652: val_precision did not improve\n",
      "Epoch 00653: val_precision did not improve\n",
      "Epoch 00654: val_precision did not improve\n",
      "Epoch 00655: val_precision did not improve\n",
      "Epoch 00656: val_precision did not improve\n",
      "Epoch 00657: val_precision did not improve\n",
      "Epoch 00658: val_precision did not improve\n",
      "Epoch 00659: val_precision did not improve\n",
      "Epoch 00660: val_precision did not improve\n",
      "Epoch 00661: val_precision did not improve\n",
      "Epoch 00662: val_precision did not improve\n",
      "Epoch 00663: val_precision did not improve\n",
      "Epoch 00664: val_precision did not improve\n",
      "Epoch 00665: val_precision did not improve\n",
      "Epoch 00666: val_precision did not improve\n",
      "Epoch 00667: val_precision did not improve\n",
      "Epoch 00668: val_precision did not improve\n",
      "Epoch 00669: val_precision did not improve\n",
      "Epoch 00670: val_precision did not improve\n",
      "Epoch 00671: val_precision did not improve\n",
      "Epoch 00672: val_precision did not improve\n",
      "Epoch 00673: val_precision did not improve\n",
      "Epoch 00674: val_precision did not improve\n",
      "Epoch 00675: val_precision did not improve\n",
      "Epoch 00676: val_precision did not improve\n",
      "Epoch 00677: val_precision did not improve\n",
      "Epoch 00678: val_precision did not improve\n",
      "Epoch 00679: val_precision did not improve\n",
      "Epoch 00680: val_precision did not improve\n",
      "Epoch 00681: val_precision did not improve\n",
      "Epoch 00682: val_precision did not improve\n",
      "Epoch 00683: val_precision did not improve\n",
      "Epoch 00684: val_precision did not improve\n",
      "Epoch 00685: val_precision did not improve\n",
      "Epoch 00686: val_precision did not improve\n",
      "Epoch 00687: val_precision did not improve\n",
      "Epoch 00688: val_precision did not improve\n",
      "Epoch 00689: val_precision did not improve\n",
      "Epoch 00690: val_precision did not improve\n",
      "Epoch 00691: val_precision did not improve\n",
      "Epoch 00692: val_precision did not improve\n",
      "Epoch 00693: val_precision did not improve\n",
      "Epoch 00694: val_precision did not improve\n",
      "Epoch 00695: val_precision did not improve\n",
      "Epoch 00696: val_precision did not improve\n",
      "Epoch 00697: val_precision did not improve\n",
      "Epoch 00698: val_precision did not improve\n",
      "Epoch 00699: val_precision did not improve\n",
      "Epoch 00700: val_precision did not improve\n",
      "Epoch 00701: val_precision did not improve\n",
      "Epoch 00702: val_precision did not improve\n",
      "Epoch 00703: val_precision did not improve\n",
      "Epoch 00704: val_precision did not improve\n",
      "Epoch 00705: val_precision did not improve\n",
      "Epoch 00706: val_precision did not improve\n",
      "Epoch 00707: val_precision did not improve\n",
      "Epoch 00708: val_precision did not improve\n",
      "Epoch 00709: val_precision did not improve\n",
      "Epoch 00710: val_precision did not improve\n",
      "Epoch 00711: val_precision did not improve\n",
      "Epoch 00712: val_precision did not improve\n",
      "Epoch 00713: val_precision did not improve\n",
      "Epoch 00714: val_precision did not improve\n",
      "Epoch 00715: val_precision did not improve\n",
      "Epoch 00716: val_precision did not improve\n",
      "Epoch 00717: val_precision did not improve\n",
      "Epoch 00718: val_precision did not improve\n",
      "Epoch 00719: val_precision did not improve\n",
      "Epoch 00720: val_precision did not improve\n",
      "Epoch 00721: val_precision did not improve\n",
      "Epoch 00722: val_precision did not improve\n",
      "Epoch 00723: val_precision did not improve\n",
      "Epoch 00724: val_precision did not improve\n",
      "Epoch 00725: val_precision did not improve\n",
      "Epoch 00726: val_precision did not improve\n",
      "Epoch 00727: val_precision did not improve\n",
      "Epoch 00728: val_precision did not improve\n",
      "Epoch 00729: val_precision did not improve\n",
      "Epoch 00730: val_precision did not improve\n",
      "Epoch 00731: val_precision did not improve\n",
      "Epoch 00732: val_precision did not improve\n",
      "Epoch 00733: val_precision did not improve\n",
      "Epoch 00734: val_precision did not improve\n",
      "Epoch 00735: val_precision did not improve\n",
      "Epoch 00736: val_precision did not improve\n",
      "Epoch 00737: val_precision did not improve\n",
      "Epoch 00738: val_precision did not improve\n",
      "Epoch 00739: val_precision did not improve\n",
      "Epoch 00740: val_precision did not improve\n",
      "Epoch 00741: val_precision did not improve\n",
      "Epoch 00742: val_precision did not improve\n",
      "Epoch 00743: val_precision did not improve\n",
      "Epoch 00744: val_precision did not improve\n",
      "Epoch 00745: val_precision did not improve\n",
      "Epoch 00746: val_precision did not improve\n",
      "Epoch 00747: val_precision did not improve\n",
      "Epoch 00748: val_precision did not improve\n",
      "Epoch 00749: val_precision did not improve\n",
      "Epoch 00750: val_precision did not improve\n",
      "Epoch 00751: val_precision did not improve\n",
      "Epoch 00752: val_precision did not improve\n",
      "Epoch 00753: val_precision did not improve\n",
      "Epoch 00754: val_precision did not improve\n",
      "Epoch 00755: val_precision did not improve\n",
      "Epoch 00756: val_precision did not improve\n",
      "Epoch 00757: val_precision did not improve\n",
      "Epoch 00758: val_precision did not improve\n",
      "Epoch 00759: val_precision did not improve\n",
      "Epoch 00760: val_precision did not improve\n",
      "Epoch 00761: val_precision did not improve\n",
      "Epoch 00762: val_precision did not improve\n",
      "Epoch 00763: val_precision did not improve\n",
      "Epoch 00764: val_precision did not improve\n",
      "Epoch 00765: val_precision did not improve\n",
      "Epoch 00766: val_precision did not improve\n",
      "Epoch 00767: val_precision did not improve\n",
      "Epoch 00768: val_precision did not improve\n",
      "Epoch 00769: val_precision did not improve\n",
      "Epoch 00770: val_precision did not improve\n",
      "Epoch 00771: val_precision did not improve\n",
      "Epoch 00772: val_precision did not improve\n",
      "Epoch 00773: val_precision did not improve\n",
      "Epoch 00774: val_precision did not improve\n",
      "Epoch 00775: val_precision did not improve\n",
      "Epoch 00776: val_precision did not improve\n",
      "Epoch 00777: val_precision did not improve\n",
      "Epoch 00778: val_precision did not improve\n",
      "Epoch 00779: val_precision did not improve\n",
      "Epoch 00780: val_precision did not improve\n",
      "Epoch 00781: val_precision did not improve\n",
      "Epoch 00782: val_precision did not improve\n",
      "Epoch 00783: val_precision did not improve\n",
      "Epoch 00784: val_precision did not improve\n",
      "Epoch 00785: val_precision did not improve\n",
      "Epoch 00786: val_precision did not improve\n",
      "Epoch 00787: val_precision did not improve\n",
      "Epoch 00788: val_precision did not improve\n",
      "Epoch 00789: val_precision did not improve\n",
      "Epoch 00790: val_precision did not improve\n",
      "Epoch 00791: val_precision did not improve\n",
      "Epoch 00792: val_precision did not improve\n",
      "Epoch 00793: val_precision did not improve\n",
      "Epoch 00794: val_precision did not improve\n",
      "Epoch 00795: val_precision did not improve\n",
      "Epoch 00796: val_precision did not improve\n",
      "Epoch 00797: val_precision did not improve\n",
      "Epoch 00798: val_precision did not improve\n",
      "Epoch 00799: val_precision did not improve\n"
     ]
    }
   ],
   "source": [
    "# checkpoint\n",
    "checkpoint_new = ModelCheckpoint(checkpoints_filepath_new, monitor='val_precision', verbose=1, save_best_only=True, mode='max')\n",
    "callbacks_list_new = [checkpoint_new]\n",
    "\n",
    "if os.path.exists('distorted_data/0.png'):\n",
    "    flow = datagen.flow_from_directory('distorted_data',\n",
    "                                       target_size=(img_rows, img_cols),\n",
    "                                       batch_size=batch_size,\n",
    "                                       class_mode='binary',\n",
    "                                       seed=1337)\n",
    "else:\n",
    "    flow = datagen.flow(X_train, Y_train, \n",
    "                        batch_size=batch_size, \n",
    "                        seed=1337,\n",
    "                        save_to_dir='distorted_data', save_format='png')\n",
    "    \n",
    "\n",
    "# fits the model on batches with real-time data augmentation:\n",
    "history_new = model_new.fit_generator(flow,\n",
    "                    samples_per_epoch=len(X_train), nb_epoch=nb_epoch, verbose=0, \n",
    "                    validation_data=(X_test, Y_test), callbacks=callbacks_list_new)\n",
    "\n",
    "# ensuring best val_precision reached during training\n",
    "model_new.load_weights(checkpoints_filepath_new)"
   ]
  },
  {
   "cell_type": "code",
   "execution_count": 15,
   "metadata": {
    "collapsed": false
   },
   "outputs": [
    {
     "name": "stdout",
     "output_type": "stream",
     "text": [
      "evaluating new model\n",
      " 9952/10000 [============================>.] - ETA: 0sTest score: 0.0200778604679\n",
      "Test accuracy: 0.9942\n",
      "Test error: 0.510645179749 %\n",
      "Test MAE: 0.00223911666629\n"
     ]
    }
   ],
   "source": [
    "# evaluation\n",
    "print('evaluating new model')\n",
    "score = model_new.evaluate(X_test, Y_test, verbose=1)\n",
    "print('Test score:', score[0])\n",
    "print('Test accuracy:', score[1])\n",
    "print('Test error:', (1-score[2])*100, '%')\n",
    "print('Test MAE:', score[4])"
   ]
  },
  {
   "cell_type": "code",
   "execution_count": 16,
   "metadata": {
    "collapsed": false
   },
   "outputs": [
    {
     "name": "stdout",
     "output_type": "stream",
     "text": [
      "dict_keys(['loss', 'mean_absolute_error', 'val_recall', 'val_mean_absolute_error', 'recall', 'val_loss', 'val_acc', 'val_precision', 'precision', 'acc'])\n"
     ]
    },
    {
     "data": {
      "image/png": "[encoded data removed]",
      "text/plain": [
       "<matplotlib.figure.Figure at 0x16d8a0a6ba8>"
      ]
     },
     "metadata": {},
     "output_type": "display_data"
    },
    {
     "data": {
      "image/png": "[encoded data removed]",
      "text/plain": [
       "<matplotlib.figure.Figure at 0x16e11c745c0>"
      ]
     },
     "metadata": {},
     "output_type": "display_data"
    }
   ],
   "source": [
    "u.plot_history(history_new)\n",
    "u.plot_history(history_new, 'precision')\n",
    "u.plot_history(history_new, metric='loss', loc='upper left')"
   ]
  },
  {
   "cell_type": "markdown",
   "metadata": {},
   "source": [
    "## Inspecting the result"
   ]
  },
  {
   "cell_type": "code",
   "execution_count": 17,
   "metadata": {
    "collapsed": false
   },
   "outputs": [
    {
     "name": "stdout",
     "output_type": "stream",
     "text": [
      "10000/10000 [==============================] - 0s     \n",
      "10000/10000 [==============================] - 0s     \n"
     ]
    }
   ],
   "source": [
    "# The predict_classes function outputs the highest probability class\n",
    "# according to the trained classifier for each input example.\n",
    "predicted_classes_800 = model_800.predict_classes(X_test)\n",
    "predicted_classes_56 = model_56.predict_classes(X_test)\n",
    "predicted_classes_new = model_new.predict_classes(X_test)\n",
    "\n",
    "# Check which items we got right / wrong\n",
    "correct_indices_800 = np.nonzero(predicted_classes_800 == y_test)[0]\n",
    "incorrect_indices_800 = np.nonzero(predicted_classes_800 != y_test)[0]\n",
    "\n",
    "correct_indices_56 = np.nonzero(predicted_classes_56 == y_test)[0]\n",
    "incorrect_indices_56 = np.nonzero(predicted_classes_56 != y_test)[0]\n",
    "\n",
    "correct_indices_new = np.nonzero(predicted_classes_new == y_test)[0]\n",
    "incorrect_indices_new = np.nonzero(predicted_classes_new != y_test)[0]"
   ]
  },
  {
   "cell_type": "markdown",
   "metadata": {},
   "source": [
    "### Examples of correct predictions (800)"
   ]
  },
  {
   "cell_type": "code",
   "execution_count": 18,
   "metadata": {
    "collapsed": false
   },
   "outputs": [
    {
     "data": {
      "image/png": "[encoded data removed]",
      "text/plain": [
       "<matplotlib.figure.Figure at 0x16e11d42518>"
      ]
     },
     "metadata": {},
     "output_type": "display_data"
    }
   ],
   "source": [
    "u.plot_images(X_test[correct_indices_800[:9]], y_test[correct_indices_800[:9]], \n",
    "              predicted_classes_800[correct_indices_800[:9]])"
   ]
  },
  {
   "cell_type": "markdown",
   "metadata": {},
   "source": [
    "### Examples of incorrect predictions (800)"
   ]
  },
  {
   "cell_type": "code",
   "execution_count": 19,
   "metadata": {
    "collapsed": false
   },
   "outputs": [
    {
     "data": {
      "image/png": "[encoded data removed]",
      "text/plain": [
       "<matplotlib.figure.Figure at 0x16e11cf4ac8>"
      ]
     },
     "metadata": {},
     "output_type": "display_data"
    }
   ],
   "source": [
    "u.plot_images(X_test[incorrect_indices_800[:9]], y_test[incorrect_indices_800[:9]], \n",
    "              predicted_classes_800[incorrect_indices_800[:9]])"
   ]
  },
  {
   "cell_type": "markdown",
   "metadata": {},
   "source": [
    "### Examples of correct predictions (56)"
   ]
  },
  {
   "cell_type": "code",
   "execution_count": 20,
   "metadata": {
    "collapsed": false
   },
   "outputs": [
    {
     "data": {
      "image/png": "[encoded data removed]",
      "text/plain": [
       "<matplotlib.figure.Figure at 0x16e11cc4c50>"
      ]
     },
     "metadata": {},
     "output_type": "display_data"
    }
   ],
   "source": [
    "u.plot_images(X_test[correct_indices_56[:9]], y_test[correct_indices_56[:9]], \n",
    "              predicted_classes_56[correct_indices_56[:9]])"
   ]
  },
  {
   "cell_type": "markdown",
   "metadata": {},
   "source": [
    "### Examples of incorrect predictions (56)"
   ]
  },
  {
   "cell_type": "code",
   "execution_count": 21,
   "metadata": {
    "collapsed": false
   },
   "outputs": [
    {
     "data": {
      "image/png": "[encoded data removed]",
      "text/plain": [
       "<matplotlib.figure.Figure at 0x16e11f9f668>"
      ]
     },
     "metadata": {},
     "output_type": "display_data"
    }
   ],
   "source": [
    "u.plot_images(X_test[incorrect_indices_56[:9]], y_test[incorrect_indices_56[:9]], \n",
    "              predicted_classes_56[incorrect_indices_56[:9]])"
   ]
  },
  {
   "cell_type": "markdown",
   "metadata": {},
   "source": [
    "### Examples of correct predictions (new)"
   ]
  },
  {
   "cell_type": "code",
   "execution_count": 22,
   "metadata": {
    "collapsed": false
   },
   "outputs": [
    {
     "data": {
      "image/png": "[encoded data removed]",
      "text/plain": [
       "<matplotlib.figure.Figure at 0x16e120264a8>"
      ]
     },
     "metadata": {},
     "output_type": "display_data"
    }
   ],
   "source": [
    "u.plot_images(X_test[correct_indices_new[:9]], y_test[correct_indices_new[:9]], \n",
    "              predicted_classes_new[correct_indices_new[:9]])"
   ]
  },
  {
   "cell_type": "markdown",
   "metadata": {},
   "source": [
    "### Examples of incorrect predictions (new)"
   ]
  },
  {
   "cell_type": "code",
   "execution_count": 23,
   "metadata": {
    "collapsed": false
   },
   "outputs": [
    {
     "data": {
      "image/png": "[encoded data removed]",
      "text/plain": [
       "<matplotlib.figure.Figure at 0x16e13490278>"
      ]
     },
     "metadata": {},
     "output_type": "display_data"
    }
   ],
   "source": [
    "u.plot_images(X_test[incorrect_indices_new[:9]], y_test[incorrect_indices_new[:9]], \n",
    "              predicted_classes_new[incorrect_indices_new[:9]])"
   ]
  },
  {
   "cell_type": "markdown",
   "metadata": {},
   "source": [
    "### Confusion matrix (800)"
   ]
  },
  {
   "cell_type": "code",
   "execution_count": 24,
   "metadata": {
    "collapsed": false
   },
   "outputs": [
    {
     "name": "stdout",
     "output_type": "stream",
     "text": [
      "[[ 975    1    0    0    0    0    1    2    1    0]\n",
      " [   0 1135    0    0    0    0    0    0    0    0]\n",
      " [   1    1 1024    2    0    0    0    4    0    0]\n",
      " [   0    0    0 1009    0    0    0    1    0    0]\n",
      " [   0    0    0    0  981    0    0    0    0    1]\n",
      " [   1    0    0    5    0  884    1    1    0    0]\n",
      " [   3    2    0    0    1    1  949    0    2    0]\n",
      " [   1    4    2    0    0    1    0 1019    1    0]\n",
      " [   0    0    0    0    1    0    0    1  971    1]\n",
      " [   1    0    0    0    7    1    0    2    1  997]]\n"
     ]
    },
    {
     "data": {
      "image/png": "[encoded data removed]",
      "text/plain": [
       "<matplotlib.figure.Figure at 0x16e1347b668>"
      ]
     },
     "metadata": {},
     "output_type": "display_data"
    }
   ],
   "source": [
    "u.plot_confusion_matrix(y_test, nb_classes, predicted_classes_800)"
   ]
  },
  {
   "cell_type": "markdown",
   "metadata": {},
   "source": [
    "### Confusion matrix (56)"
   ]
  },
  {
   "cell_type": "code",
   "execution_count": 25,
   "metadata": {
    "collapsed": false
   },
   "outputs": [
    {
     "name": "stdout",
     "output_type": "stream",
     "text": [
      "[[ 974    1    1    0    0    0    1    2    1    0]\n",
      " [   0 1133    1    1    0    0    0    0    0    0]\n",
      " [   1    0 1024    2    0    0    0    5    0    0]\n",
      " [   0    0    1 1006    0    3    0    0    0    0]\n",
      " [   0    0    0    0  979    0    0    0    1    2]\n",
      " [   1    0    0    6    0  881    1    1    2    0]\n",
      " [   2    1    0    0    1    3  950    0    1    0]\n",
      " [   0    4    5    2    0    0    0 1017    0    0]\n",
      " [   1    0    2    1    0    0    0    1  968    1]\n",
      " [   1    0    0    0    5    1    0    3    4  995]]\n"
     ]
    },
    {
     "data": {
      "image/png": "[encoded data removed]",
      "text/plain": [
       "<matplotlib.figure.Figure at 0x16e11fa94e0>"
      ]
     },
     "metadata": {},
     "output_type": "display_data"
    }
   ],
   "source": [
    "u.plot_confusion_matrix(y_test, nb_classes, predicted_classes_56)"
   ]
  },
  {
   "cell_type": "markdown",
   "metadata": {},
   "source": [
    "### Confusion matrix (56)"
   ]
  },
  {
   "cell_type": "code",
   "execution_count": 26,
   "metadata": {
    "collapsed": false
   },
   "outputs": [
    {
     "name": "stdout",
     "output_type": "stream",
     "text": [
      "[[ 976    0    0    1    0    0    3    0    0    0]\n",
      " [   0 1132    1    0    0    0    1    1    0    0]\n",
      " [   1    0 1026    2    0    0    0    3    0    0]\n",
      " [   0    1    0 1008    0    1    0    0    0    0]\n",
      " [   0    0    0    0  978    0    1    0    0    3]\n",
      " [   1    0    0    3    0  884    4    0    0    0]\n",
      " [   3    1    1    0    1    0  952    0    0    0]\n",
      " [   0    3    7    0    0    0    0 1016    0    2]\n",
      " [   0    1    1    0    0    1    0    0  970    1]\n",
      " [   1    0    1    0    4    2    0    1    0 1000]]\n"
     ]
    },
    {
     "data": {
      "image/png": "[encoded data removed]",
      "text/plain": [
       "<matplotlib.figure.Figure at 0x16e11f37160>"
      ]
     },
     "metadata": {},
     "output_type": "display_data"
    }
   ],
   "source": [
    "u.plot_confusion_matrix(y_test, nb_classes, predicted_classes_new)"
   ]
  },
  {
   "cell_type": "markdown",
   "metadata": {},
   "source": [
    "## Results\n",
    "The time required to perform epoch with image preprocessing was significantly higher, with about 20 seconds for each epoch on our average GPU that was previously able to compute one epoch in 6 seconds for the same network. However the error (calculated as 1-precision) increased from 0.55% to 0.50% after the same number of epochs. It is still unclear if we can use the same preprocessing for the datasets of In Codice Ratio, because characters to classify should be regular as the ones of the training dataset."
   ]
  }
 ],
 "metadata": {
  "anaconda-cloud": {},
  "kernelspec": {
   "display_name": "Python [conda root]",
   "language": "python",
   "name": "conda-root-py"
  },
  "language_info": {
   "codemirror_mode": {
    "name": "ipython",
    "version": 3
   },
   "file_extension": ".py",
   "mimetype": "text/x-python",
   "name": "python",
   "nbconvert_exporter": "python",
   "pygments_lexer": "ipython3",
   "version": "3.5.2"
  }
 },
 "nbformat": 4,
 "nbformat_minor": 1
}
