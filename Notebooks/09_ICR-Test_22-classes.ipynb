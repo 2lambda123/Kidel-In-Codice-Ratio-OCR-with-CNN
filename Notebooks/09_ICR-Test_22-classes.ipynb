{
 "cells": [
  {
   "cell_type": "markdown",
   "metadata": {},
   "source": [
    "# In Codice Ratio Convolutional Neural Network - Test with 22 classes"
   ]
  },
  {
   "cell_type": "code",
   "execution_count": 1,
   "metadata": {
    "collapsed": false
   },
   "outputs": [
    {
     "name": "stderr",
     "output_type": "stream",
     "text": [
      "Using TensorFlow backend.\n"
     ]
    }
   ],
   "source": [
    "import os.path\n",
    "from IPython.display import Image\n",
    "\n",
    "from util import Util\n",
    "u = Util()\n",
    "\n",
    "import numpy as np\n",
    "# Explicit random seed for reproducibility\n",
    "np.random.seed(1337)\n",
    "\n",
    "# Used for progress bar callback\n",
    "# Use only in Jupyter Notebooks\n",
    "import uuid\n",
    "from IPython.display import HTML, Javascript, display"
   ]
  },
  {
   "cell_type": "code",
   "execution_count": 2,
   "metadata": {
    "collapsed": false
   },
   "outputs": [],
   "source": [
    "from keras.callbacks import ModelCheckpoint, Callback\n",
    "from keras.models import Sequential\n",
    "from keras.layers import Dense, Dropout, Activation, Flatten\n",
    "from keras.layers import Convolution2D, MaxPooling2D\n",
    "from keras.utils import np_utils\n",
    "from keras.preprocessing.image import ImageDataGenerator\n",
    "from keras.layers import Merge\n",
    "from keras import backend as K"
   ]
  },
  {
   "cell_type": "code",
   "execution_count": 3,
   "metadata": {
    "collapsed": false
   },
   "outputs": [],
   "source": [
    "import dataset_generator as dataset"
   ]
  },
  {
   "cell_type": "markdown",
   "metadata": {},
   "source": [
    "## Definitions\n",
    "We are increasing the layer sizes to extract more features."
   ]
  },
  {
   "cell_type": "code",
   "execution_count": 4,
   "metadata": {
    "collapsed": true
   },
   "outputs": [],
   "source": [
    "batch_size = 512\n",
    "nb_classes = 22\n",
    "nb_epoch = 800\n",
    "# checkpoint path\n",
    "checkpoints_dir = os.path.join(\"checkpoints\", \"09_22-classes\")\n",
    "\n",
    "# number of networks for ensamble learning\n",
    "number_of_models = 5"
   ]
  },
  {
   "cell_type": "code",
   "execution_count": 5,
   "metadata": {
    "collapsed": true
   },
   "outputs": [],
   "source": [
    "# input image dimensions\n",
    "img_rows, img_cols = 34, 56\n",
    "# number of convolutional filters to use\n",
    "nb_filters1 = 50\n",
    "nb_filters2 = 100\n",
    "# size of pooling area for max pooling\n",
    "pool_size1 = (2, 2)\n",
    "pool_size2 = (3, 3)\n",
    "# convolution kernel size\n",
    "kernel_size1 = (4, 4)\n",
    "kernel_size2 = (5, 5)\n",
    "# dense layer size\n",
    "dense_layer_size1 = 250\n",
    "# dropout rate\n",
    "dropout = 0.15\n",
    "# activation\n",
    "activation = 'relu'"
   ]
  },
  {
   "cell_type": "markdown",
   "metadata": {},
   "source": [
    "## Data load"
   ]
  },
  {
   "cell_type": "code",
   "execution_count": 6,
   "metadata": {
    "collapsed": false
   },
   "outputs": [
    {
     "ename": "KeyboardInterrupt",
     "evalue": "",
     "output_type": "error",
     "traceback": [
      "\u001b[0;31m---------------------------------------------------------------------------\u001b[0m",
      "\u001b[0;31mKeyboardInterrupt\u001b[0m                         Traceback (most recent call last)",
      "\u001b[0;32m<ipython-input-6-a39a6247e5b4>\u001b[0m in \u001b[0;36m<module>\u001b[0;34m()\u001b[0m\n\u001b[0;32m----> 1\u001b[0;31m \u001b[1;33m(\u001b[0m\u001b[0mX_train\u001b[0m\u001b[1;33m,\u001b[0m \u001b[0my_train\u001b[0m\u001b[1;33m,\u001b[0m \u001b[0mX_test\u001b[0m\u001b[1;33m,\u001b[0m \u001b[0my_test\u001b[0m\u001b[1;33m,\u001b[0m \u001b[0mlabels\u001b[0m\u001b[1;33m)\u001b[0m \u001b[1;33m=\u001b[0m \u001b[0mdataset\u001b[0m\u001b[1;33m.\u001b[0m\u001b[0mgenerate_all_chars_with_class\u001b[0m\u001b[1;33m(\u001b[0m\u001b[0mverbose\u001b[0m\u001b[1;33m=\u001b[0m\u001b[1;36m0\u001b[0m\u001b[1;33m,\u001b[0m \u001b[0mplot\u001b[0m\u001b[1;33m=\u001b[0m\u001b[1;32mTrue\u001b[0m\u001b[1;33m)\u001b[0m\u001b[1;33m\u001b[0m\u001b[0m\n\u001b[0m",
      "\u001b[0;32mD:\\GitHub\\In-Codice-Ratio-OCR-with-CNN\\Notebooks\\dataset_generator.py\u001b[0m in \u001b[0;36mgenerate_all_chars_with_class\u001b[0;34m(chars, train_test_ratio, plot, verbose)\u001b[0m\n\u001b[1;32m    163\u001b[0m             \u001b[1;33m(\u001b[0m\u001b[0mtrain_imgs_prov\u001b[0m\u001b[1;33m,\u001b[0m \u001b[0mtrain_class_prov\u001b[0m\u001b[1;33m,\u001b[0m \u001b[0mtest_imgs_prov\u001b[0m\u001b[1;33m,\u001b[0m \u001b[0mtest_class_prov\u001b[0m\u001b[1;33m)\u001b[0m \u001b[1;33m=\u001b[0m\u001b[0;31m \u001b[0m\u001b[0;31m\\\u001b[0m\u001b[1;33m\u001b[0m\u001b[0m\n\u001b[1;32m    164\u001b[0m                                                             generate_all_for_char_with_class(chars[i],\\\n\u001b[0;32m--> 165\u001b[0;31m                                                             classifications[i], verbose=verbose)\n\u001b[0m\u001b[1;32m    166\u001b[0m \u001b[1;33m\u001b[0m\u001b[0m\n\u001b[1;32m    167\u001b[0m             \u001b[0msizes\u001b[0m\u001b[1;33m[\u001b[0m\u001b[0mi\u001b[0m\u001b[1;33m]\u001b[0m \u001b[1;33m=\u001b[0m \u001b[0mtrain_imgs_prov\u001b[0m\u001b[1;33m.\u001b[0m\u001b[0mshape\u001b[0m\u001b[1;33m[\u001b[0m\u001b[1;36m0\u001b[0m\u001b[1;33m]\u001b[0m \u001b[1;33m+\u001b[0m \u001b[0mtrain_imgs_prov\u001b[0m\u001b[1;33m.\u001b[0m\u001b[0mshape\u001b[0m\u001b[1;33m[\u001b[0m\u001b[1;36m0\u001b[0m\u001b[1;33m]\u001b[0m\u001b[1;33m\u001b[0m\u001b[0m\n",
      "\u001b[0;32mD:\\GitHub\\In-Codice-Ratio-OCR-with-CNN\\Notebooks\\dataset_generator.py\u001b[0m in \u001b[0;36mgenerate_all_for_char_with_class\u001b[0;34m(char, classification, train_test_ratio, verbose)\u001b[0m\n\u001b[1;32m    121\u001b[0m \u001b[1;33m\u001b[0m\u001b[0m\n\u001b[1;32m    122\u001b[0m     \u001b[1;31m# Calcolo i samples e le labels positivi per il training e il test\u001b[0m\u001b[1;33m\u001b[0m\u001b[1;33m\u001b[0m\u001b[0m\n\u001b[0;32m--> 123\u001b[0;31m     \u001b[0mpositive_samples\u001b[0m \u001b[1;33m=\u001b[0m \u001b[0msamples_repository\u001b[0m\u001b[1;33m.\u001b[0m\u001b[0mget_all_positive_samples_by_char\u001b[0m\u001b[1;33m(\u001b[0m\u001b[0mchar\u001b[0m\u001b[1;33m)\u001b[0m\u001b[1;33m\u001b[0m\u001b[0m\n\u001b[0m\u001b[1;32m    124\u001b[0m     \u001b[0mpositive_samples_train\u001b[0m\u001b[1;33m,\u001b[0m \u001b[0mpositive_samples_test\u001b[0m \u001b[1;33m=\u001b[0m \u001b[0msplit_by_ratio\u001b[0m\u001b[1;33m(\u001b[0m\u001b[0mpositive_samples\u001b[0m\u001b[1;33m,\u001b[0m \u001b[0mtrain_test_ratio\u001b[0m\u001b[1;33m)\u001b[0m\u001b[1;33m\u001b[0m\u001b[0m\n\u001b[1;32m    125\u001b[0m     \u001b[0mpositive_samples_train_labels\u001b[0m \u001b[1;33m=\u001b[0m \u001b[0mnp\u001b[0m\u001b[1;33m.\u001b[0m\u001b[0mempty\u001b[0m\u001b[1;33m(\u001b[0m\u001b[0mpositive_samples_train\u001b[0m\u001b[1;33m.\u001b[0m\u001b[0mshape\u001b[0m\u001b[1;33m[\u001b[0m\u001b[1;36m0\u001b[0m\u001b[1;33m]\u001b[0m\u001b[1;33m,\u001b[0m \u001b[0mdtype\u001b[0m\u001b[1;33m=\u001b[0m\u001b[1;34m'uint8'\u001b[0m\u001b[1;33m)\u001b[0m\u001b[1;33m\u001b[0m\u001b[0m\n",
      "\u001b[0;32mD:\\GitHub\\In-Codice-Ratio-OCR-with-CNN\\Notebooks\\samples_repository.py\u001b[0m in \u001b[0;36mget_all_positive_samples_by_char\u001b[0;34m(char, root_folder)\u001b[0m\n\u001b[1;32m     23\u001b[0m             \u001b[0mNOT\u001b[0m \u001b[1;33m(\u001b[0m\u001b[0mmvt\u001b[0m\u001b[1;33m.\u001b[0m\u001b[0mtranscription\u001b[0m \u001b[0mlike\u001b[0m \u001b[1;33m%\u001b[0m\u001b[0ms\u001b[0m \u001b[0mOR\u001b[0m \u001b[0mmvt\u001b[0m\u001b[1;33m.\u001b[0m\u001b[0mtranscription\u001b[0m \u001b[0mlike\u001b[0m \u001b[1;33m%\u001b[0m\u001b[0ms\u001b[0m\u001b[1;33m)\u001b[0m\u001b[1;33m;\u001b[0m\u001b[1;33m\u001b[0m\u001b[0m\n\u001b[1;32m     24\u001b[0m     \"\"\"\n\u001b[0;32m---> 25\u001b[0;31m     \u001b[0msamples_paths\u001b[0m \u001b[1;33m=\u001b[0m \u001b[0mdb\u001b[0m\u001b[1;33m.\u001b[0m\u001b[0mexecute_query\u001b[0m\u001b[1;33m(\u001b[0m\u001b[0mquery\u001b[0m\u001b[1;33m,\u001b[0m \u001b[1;33m(\u001b[0m\u001b[0mchar_match\u001b[0m\u001b[1;33m,\u001b[0m \u001b[0mnt\u001b[0m\u001b[1;33m,\u001b[0m \u001b[0mrum\u001b[0m\u001b[1;33m)\u001b[0m\u001b[1;33m)\u001b[0m\u001b[1;33m\u001b[0m\u001b[0m\n\u001b[0m\u001b[1;32m     26\u001b[0m     \u001b[0mcomplete_paths\u001b[0m \u001b[1;33m=\u001b[0m \u001b[1;33m[\u001b[0m\u001b[0mroot_folder\u001b[0m\u001b[1;33m+\u001b[0m\u001b[0msp\u001b[0m\u001b[1;33m[\u001b[0m\u001b[1;36m0\u001b[0m\u001b[1;33m]\u001b[0m \u001b[1;32mfor\u001b[0m \u001b[0msp\u001b[0m \u001b[1;32min\u001b[0m \u001b[0msamples_paths\u001b[0m\u001b[1;33m]\u001b[0m\u001b[1;33m\u001b[0m\u001b[0m\n\u001b[1;32m     27\u001b[0m \u001b[1;33m\u001b[0m\u001b[0m\n",
      "\u001b[0;32mD:\\GitHub\\In-Codice-Ratio-OCR-with-CNN\\Notebooks\\db_connection_handler.py\u001b[0m in \u001b[0;36mexecute_query\u001b[0;34m(query, params)\u001b[0m\n\u001b[1;32m     36\u001b[0m     \u001b[0mconnection\u001b[0m \u001b[1;33m=\u001b[0m \u001b[0mget_default_connection\u001b[0m\u001b[1;33m(\u001b[0m\u001b[1;33m)\u001b[0m\u001b[1;33m\u001b[0m\u001b[0m\n\u001b[1;32m     37\u001b[0m     \u001b[0mcursor\u001b[0m \u001b[1;33m=\u001b[0m \u001b[0mconnection\u001b[0m\u001b[1;33m.\u001b[0m\u001b[0mcursor\u001b[0m\u001b[1;33m(\u001b[0m\u001b[1;33m)\u001b[0m\u001b[1;33m\u001b[0m\u001b[0m\n\u001b[0;32m---> 38\u001b[0;31m     \u001b[0mcursor\u001b[0m\u001b[1;33m.\u001b[0m\u001b[0mexecute\u001b[0m\u001b[1;33m(\u001b[0m\u001b[0mquery\u001b[0m\u001b[1;33m,\u001b[0m \u001b[0mparams\u001b[0m\u001b[1;33m)\u001b[0m\u001b[1;33m\u001b[0m\u001b[0m\n\u001b[0m\u001b[1;32m     39\u001b[0m \u001b[1;33m\u001b[0m\u001b[0m\n\u001b[1;32m     40\u001b[0m     \u001b[1;32mfor\u001b[0m \u001b[0mrecord\u001b[0m \u001b[1;32min\u001b[0m \u001b[0mcursor\u001b[0m\u001b[1;33m:\u001b[0m\u001b[1;33m\u001b[0m\u001b[0m\n",
      "\u001b[0;32m<string>\u001b[0m in \u001b[0;36m__new__\u001b[0;34m(_cls, name, type_code, display_size, internal_size, precision, scale, null_ok)\u001b[0m\n",
      "\u001b[0;31mKeyboardInterrupt\u001b[0m: "
     ]
    }
   ],
   "source": [
    "(X_train, y_train, X_test, y_test, labels) = dataset.generate_all_chars_with_class(verbose=0, plot=True)"
   ]
  },
  {
   "cell_type": "markdown",
   "metadata": {},
   "source": [
    "### Examples"
   ]
  },
  {
   "cell_type": "code",
   "execution_count": 7,
   "metadata": {
    "collapsed": false
   },
   "outputs": [
    {
     "ename": "NameError",
     "evalue": "name 'X_train' is not defined",
     "output_type": "error",
     "traceback": [
      "\u001b[0;31m---------------------------------------------------------------------------\u001b[0m",
      "\u001b[0;31mNameError\u001b[0m                                 Traceback (most recent call last)",
      "\u001b[0;32m<ipython-input-7-a09d70111ed4>\u001b[0m in \u001b[0;36m<module>\u001b[0;34m()\u001b[0m\n\u001b[0;32m----> 1\u001b[0;31m \u001b[0midx\u001b[0m \u001b[1;33m=\u001b[0m \u001b[0mnp\u001b[0m\u001b[1;33m.\u001b[0m\u001b[0mrandom\u001b[0m\u001b[1;33m.\u001b[0m\u001b[0mchoice\u001b[0m\u001b[1;33m(\u001b[0m\u001b[0mnp\u001b[0m\u001b[1;33m.\u001b[0m\u001b[0marange\u001b[0m\u001b[1;33m(\u001b[0m\u001b[0mlen\u001b[0m\u001b[1;33m(\u001b[0m\u001b[0mX_train\u001b[0m\u001b[1;33m)\u001b[0m\u001b[1;33m)\u001b[0m\u001b[1;33m,\u001b[0m \u001b[1;36m9\u001b[0m\u001b[1;33m,\u001b[0m \u001b[0mreplace\u001b[0m\u001b[1;33m=\u001b[0m\u001b[1;32mFalse\u001b[0m\u001b[1;33m)\u001b[0m\u001b[1;33m\u001b[0m\u001b[0m\n\u001b[0m\u001b[1;32m      2\u001b[0m \u001b[0mu\u001b[0m\u001b[1;33m.\u001b[0m\u001b[0mplot_images\u001b[0m\u001b[1;33m(\u001b[0m\u001b[0mX_train\u001b[0m\u001b[1;33m[\u001b[0m\u001b[0midx\u001b[0m\u001b[1;33m]\u001b[0m\u001b[1;33m,\u001b[0m \u001b[0mlabels\u001b[0m\u001b[1;33m[\u001b[0m\u001b[0my_train\u001b[0m\u001b[1;33m[\u001b[0m\u001b[0midx\u001b[0m\u001b[1;33m]\u001b[0m\u001b[1;33m]\u001b[0m\u001b[1;33m,\u001b[0m \u001b[0mimg_shape\u001b[0m\u001b[1;33m=\u001b[0m\u001b[1;33m(\u001b[0m\u001b[1;36m56\u001b[0m\u001b[1;33m,\u001b[0m\u001b[1;36m34\u001b[0m\u001b[1;33m)\u001b[0m\u001b[1;33m)\u001b[0m\u001b[1;33m\u001b[0m\u001b[0m\n\u001b[1;32m      3\u001b[0m \u001b[0midx\u001b[0m \u001b[1;33m=\u001b[0m \u001b[0mnp\u001b[0m\u001b[1;33m.\u001b[0m\u001b[0mrandom\u001b[0m\u001b[1;33m.\u001b[0m\u001b[0mchoice\u001b[0m\u001b[1;33m(\u001b[0m\u001b[0mnp\u001b[0m\u001b[1;33m.\u001b[0m\u001b[0marange\u001b[0m\u001b[1;33m(\u001b[0m\u001b[0mlen\u001b[0m\u001b[1;33m(\u001b[0m\u001b[0mX_train\u001b[0m\u001b[1;33m)\u001b[0m\u001b[1;33m)\u001b[0m\u001b[1;33m,\u001b[0m \u001b[1;36m9\u001b[0m\u001b[1;33m,\u001b[0m \u001b[0mreplace\u001b[0m\u001b[1;33m=\u001b[0m\u001b[1;32mFalse\u001b[0m\u001b[1;33m)\u001b[0m\u001b[1;33m\u001b[0m\u001b[0m\n\u001b[1;32m      4\u001b[0m \u001b[0mu\u001b[0m\u001b[1;33m.\u001b[0m\u001b[0mplot_images\u001b[0m\u001b[1;33m(\u001b[0m\u001b[0mX_train\u001b[0m\u001b[1;33m[\u001b[0m\u001b[0midx\u001b[0m\u001b[1;33m]\u001b[0m\u001b[1;33m,\u001b[0m \u001b[0mlabels\u001b[0m\u001b[1;33m[\u001b[0m\u001b[0my_train\u001b[0m\u001b[1;33m[\u001b[0m\u001b[0midx\u001b[0m\u001b[1;33m]\u001b[0m\u001b[1;33m]\u001b[0m\u001b[1;33m,\u001b[0m \u001b[0mimg_shape\u001b[0m\u001b[1;33m=\u001b[0m\u001b[1;33m(\u001b[0m\u001b[1;36m56\u001b[0m\u001b[1;33m,\u001b[0m\u001b[1;36m34\u001b[0m\u001b[1;33m)\u001b[0m\u001b[1;33m)\u001b[0m\u001b[1;33m\u001b[0m\u001b[0m\n\u001b[1;32m      5\u001b[0m \u001b[0midx\u001b[0m \u001b[1;33m=\u001b[0m \u001b[0mnp\u001b[0m\u001b[1;33m.\u001b[0m\u001b[0mrandom\u001b[0m\u001b[1;33m.\u001b[0m\u001b[0mchoice\u001b[0m\u001b[1;33m(\u001b[0m\u001b[0mnp\u001b[0m\u001b[1;33m.\u001b[0m\u001b[0marange\u001b[0m\u001b[1;33m(\u001b[0m\u001b[0mlen\u001b[0m\u001b[1;33m(\u001b[0m\u001b[0mX_train\u001b[0m\u001b[1;33m)\u001b[0m\u001b[1;33m)\u001b[0m\u001b[1;33m,\u001b[0m \u001b[1;36m9\u001b[0m\u001b[1;33m,\u001b[0m \u001b[0mreplace\u001b[0m\u001b[1;33m=\u001b[0m\u001b[1;32mFalse\u001b[0m\u001b[1;33m)\u001b[0m\u001b[1;33m\u001b[0m\u001b[0m\n",
      "\u001b[0;31mNameError\u001b[0m: name 'X_train' is not defined"
     ]
    }
   ],
   "source": [
    "idx = np.random.choice(np.arange(len(X_train)), 9, replace=False)\n",
    "u.plot_images(X_train[idx], labels[y_train[idx]], img_shape=(56,34))\n",
    "idx = np.random.choice(np.arange(len(X_train)), 9, replace=False)\n",
    "u.plot_images(X_train[idx], labels[y_train[idx]], img_shape=(56,34))\n",
    "idx = np.random.choice(np.arange(len(X_train)), 9, replace=False)\n",
    "u.plot_images(X_train[idx], labels[y_train[idx]], img_shape=(56,34))"
   ]
  },
  {
   "cell_type": "code",
   "execution_count": null,
   "metadata": {
    "collapsed": true
   },
   "outputs": [],
   "source": [
    "if K.image_dim_ordering() == 'th':\n",
    "    X_train = X_train.reshape(X_train.shape[0], 1, img_rows, img_cols)\n",
    "    X_test = X_test.reshape(X_test.shape[0], 1, img_rows, img_cols)\n",
    "    input_shape = (1, img_rows, img_cols)\n",
    "else:\n",
    "    X_train = X_train.reshape(X_train.shape[0], img_rows, img_cols, 1)\n",
    "    X_test = X_test.reshape(X_test.shape[0], img_rows, img_cols, 1)\n",
    "    input_shape = (img_rows, img_cols, 1)"
   ]
  },
  {
   "cell_type": "code",
   "execution_count": null,
   "metadata": {
    "collapsed": false
   },
   "outputs": [],
   "source": [
    "X_train = X_train.astype('float32')\n",
    "X_test = X_test.astype('float32')\n",
    "X_train /= 255\n",
    "X_test /= 255\n",
    "print('X_train shape:', X_train.shape)\n",
    "print(X_train.shape[0], 'train samples')\n",
    "print(X_test.shape[0], 'test samples')"
   ]
  },
  {
   "cell_type": "code",
   "execution_count": null,
   "metadata": {
    "collapsed": false
   },
   "outputs": [],
   "source": [
    "# convert class vectors to binary class matrices\n",
    "Y_train = np_utils.to_categorical(y_train, nb_classes)\n",
    "Y_test = np_utils.to_categorical(y_test, nb_classes)"
   ]
  },
  {
   "cell_type": "markdown",
   "metadata": {},
   "source": [
    "## Image preprocessing"
   ]
  },
  {
   "cell_type": "code",
   "execution_count": null,
   "metadata": {
    "collapsed": true
   },
   "outputs": [],
   "source": [
    "datagen = ImageDataGenerator(\n",
    "    rotation_range=30,\n",
    "    width_shift_range=0.05,\n",
    "    height_shift_range=0.05,\n",
    "    zoom_range=0.1,\n",
    "    horizontal_flip=False)\n",
    "\n",
    "# compute quantities required for featurewise normalization\n",
    "# (std, mean, and principal components if ZCA whitening is applied)\n",
    "datagen.fit(X_train)"
   ]
  },
  {
   "cell_type": "markdown",
   "metadata": {},
   "source": [
    "## Model definition (single column)"
   ]
  },
  {
   "cell_type": "code",
   "execution_count": null,
   "metadata": {
    "collapsed": true
   },
   "outputs": [],
   "source": [
    "model = Sequential()\n",
    "\n",
    "def initialize_network(model, dropout1=dropout, dropout2=dropout):\n",
    "    model.add(Convolution2D(nb_filters1, kernel_size1[0], kernel_size1[1],\n",
    "                            border_mode='valid',\n",
    "                            input_shape=input_shape, name='covolution_1_' + str(nb_filters1) + '_filters'))\n",
    "    model.add(Activation(activation, name='activation_1_' + activation))\n",
    "    model.add(MaxPooling2D(pool_size=pool_size1, name='max_pooling_1_' + str(pool_size1) + '_pool_size'))\n",
    "    model.add(Convolution2D(nb_filters2, kernel_size2[0], kernel_size2[1]))\n",
    "    model.add(Activation(activation, name='activation_2_' + activation))\n",
    "    model.add(MaxPooling2D(pool_size=pool_size2, name='max_pooling_1_' + str(pool_size2) + '_pool_size'))\n",
    "    model.add(Dropout(dropout))\n",
    "\n",
    "    model.add(Flatten())\n",
    "    model.add(Dense(dense_layer_size1, name='fully_connected_1_' + str(dense_layer_size1) + '_neurons'))\n",
    "    model.add(Activation(activation, name='activation_3_' + activation))\n",
    "    model.add(Dropout(dropout))\n",
    "    model.add(Dense(nb_classes, name='output_' + str(nb_classes) + '_neurons'))\n",
    "    model.add(Activation('softmax', name='softmax'))\n",
    "\n",
    "    model.compile(loss='categorical_crossentropy',\n",
    "                  optimizer='adadelta',\n",
    "                  metrics=['accuracy', 'precision', 'recall'])\n",
    "    \n",
    "initialize_network(model)"
   ]
  },
  {
   "cell_type": "code",
   "execution_count": null,
   "metadata": {
    "collapsed": true
   },
   "outputs": [],
   "source": [
    "# pseudo random generation of seeds\n",
    "seeds = np.random.randint(10000, size=number_of_models)\n",
    "\n",
    "# initializing all the models\n",
    "models = [None] * number_of_models\n",
    "\n",
    "for i in range(number_of_models):\n",
    "    models[i] = Sequential()\n",
    "    initialize_network(models[i])"
   ]
  },
  {
   "cell_type": "markdown",
   "metadata": {},
   "source": [
    "## Training and evaluation (single column)"
   ]
  },
  {
   "cell_type": "code",
   "execution_count": null,
   "metadata": {
    "collapsed": false
   },
   "outputs": [],
   "source": [
    "def try_load_checkpoints(model, checkpoints_filepath, warn=False):\n",
    "    # loading weights from checkpoints \n",
    "    if os.path.exists(checkpoints_filepath):\n",
    "        model.load_weights(checkpoints_filepath)\n",
    "    elif warn: \n",
    "        print('Warning: ' + checkpoints_filepath + ' could not be loaded')\n",
    "\n",
    "def fit(model, checkpoints_name='test', seed=1337, initial_epoch=0, \n",
    "        verbose=1, window_size=(-1), plot_history=False, evaluation=True, show_progress=True):\n",
    "    \n",
    "    if window_size == (-1):\n",
    "        window = 10 + np.random.randint(40)\n",
    "    else:\n",
    "        window = window_size\n",
    "    if window >= nb_epoch:\n",
    "        window = nb_epoch - 1\n",
    "    \n",
    "    print(\"Not pre-processing \" + str(window) + \" epoch(s)\")\n",
    "    \n",
    "    checkpoints_filepath = os.path.join(checkpoints_dir, '09_ICR_weights.best_' + checkpoints_name + '.hdf5')\n",
    "\n",
    "    try_load_checkpoints(model, checkpoints_filepath, True)\n",
    "    \n",
    "    # checkpoint\n",
    "    checkpoint = ModelCheckpoint(checkpoints_filepath, monitor='val_precision', verbose=verbose, save_best_only=True, mode='max')\n",
    "    \n",
    "    # Use only in Jupyter Notebooks\n",
    "    class Progress(Callback):\n",
    "        def on_train_begin(self, logs={}):\n",
    "            print(\"Training... \")\n",
    "            self.divid = str(uuid.uuid4())\n",
    "            pb = HTML(\n",
    "            \"\"\"\n",
    "            <div style=\"border: 1px solid black; width:500px\">\n",
    "              <div id=\"%s\" style=\"background-color:blue; width:0%%\">&nbsp;</div>\n",
    "            </div> \n",
    "            \"\"\" % self.divid)\n",
    "            display(pb)\n",
    "\n",
    "        def on_train_end(self, logs={}):\n",
    "            display(Javascript(\"$('div#%s').width('%i%%')\" % (self.divid, 100)))\n",
    "            print(\"Training ended!\")\n",
    "\n",
    "        def on_epoch_end(self, epoch, logs={}):\n",
    "            display(Javascript(\"$('div#%s').width('%i%%')\" % (self.divid, 100 * epoch/nb_epoch)))\n",
    "    \n",
    "    if show_progress:\n",
    "        progress = Progress()\n",
    "        callbacks_list = [checkpoint, progress]\n",
    "    else:\n",
    "        callbacks_list = [checkpoint]\n",
    "\n",
    "    # fits the model on batches with real-time data augmentation, for nb_epoch-100 epochs\n",
    "    history = model.fit_generator(datagen.flow(X_train, Y_train, \n",
    "                                               batch_size=batch_size, \n",
    "                                               # save_to_dir='distorted_data', \n",
    "                                               # save_format='png'\n",
    "                                               seed=1337),\n",
    "                            samples_per_epoch=len(X_train), nb_epoch=(nb_epoch-window), verbose=0, \n",
    "                            validation_data=(X_test, Y_test), callbacks=callbacks_list)\n",
    "\n",
    "    # ensuring best val_precision reached during training\n",
    "    try_load_checkpoints(model, checkpoints_filepath)\n",
    "\n",
    "    # fits the model on clear training set, for nb_epoch-700 epochs\n",
    "    history_cont = model.fit(X_train, Y_train, batch_size=batch_size, nb_epoch=window,\n",
    "                                    verbose=0, validation_data=(X_test, Y_test), callbacks=callbacks_list)\n",
    "\n",
    "    # ensuring best val_precision reached during training\n",
    "    try_load_checkpoints(model, checkpoints_filepath)\n",
    "    \n",
    "    if plot_history:\n",
    "        print(\"History: \")\n",
    "        u.plot_history(history)\n",
    "        u.plot_history(history, 'precision')\n",
    "        print(\"Continuation of training with no pre-processing:\")\n",
    "        u.plot_history(history_cont)\n",
    "        u.plot_history(history_cont, 'precision')\n",
    "    if evaluation:\n",
    "        print('Evaluating model ' + str(index))\n",
    "        score = model.evaluate(X_test, Y_test, verbose=0)\n",
    "        print('Test accuracy:', score[1]*100, '%')\n",
    "        print('Test error:', (1-score[2])*100, '%')\n",
    "        \n",
    "    return history, history_cont"
   ]
  },
  {
   "cell_type": "code",
   "execution_count": null,
   "metadata": {
    "collapsed": false,
    "scrolled": false
   },
   "outputs": [],
   "source": [
    "for index in range(number_of_models):\n",
    "    print(\"Training model \" + str(index) + \" ...\")\n",
    "    \n",
    "    if index == 0:\n",
    "        window_size = 30\n",
    "        plot_history = True\n",
    "    else:\n",
    "        window_size = (-1)\n",
    "        plot_history = False\n",
    "        \n",
    "    history, history_cont = fit(models[index], \n",
    "                                str(index), \n",
    "                                seed=seeds[index],\n",
    "                                initial_epoch=0,\n",
    "                                verbose=0, \n",
    "                                window_size=window_size, \n",
    "                                plot_history=plot_history)\n",
    "    print(\"Done.\\n\\n\")"
   ]
  },
  {
   "cell_type": "markdown",
   "metadata": {},
   "source": [
    "## Model definition (multi column)"
   ]
  },
  {
   "cell_type": "code",
   "execution_count": null,
   "metadata": {
    "collapsed": true
   },
   "outputs": [],
   "source": [
    "merged_model = Sequential()\n",
    "merged_model.add(Merge(models, mode='ave'))\n",
    "\n",
    "merged_model.compile(loss='categorical_crossentropy',\n",
    "                     optimizer='adadelta',\n",
    "                     metrics=['accuracy', 'precision', 'recall'])"
   ]
  },
  {
   "cell_type": "markdown",
   "metadata": {},
   "source": [
    "## Evaluation (multi column)"
   ]
  },
  {
   "cell_type": "code",
   "execution_count": null,
   "metadata": {
    "collapsed": false
   },
   "outputs": [],
   "source": [
    "print('Evaluating ensemble')\n",
    "score = merged_model.evaluate([np.asarray(X_test)] * number_of_models, \n",
    "                              Y_test, \n",
    "                              verbose=0)\n",
    "print('Test accuracy:', score[1]*100, '%')\n",
    "print('Test error:', (1-score[2])*100, '%')\n",
    "print('Test recall:', score[3]*100, '%')"
   ]
  },
  {
   "cell_type": "markdown",
   "metadata": {},
   "source": [
    "## Inspecting the result"
   ]
  },
  {
   "cell_type": "code",
   "execution_count": null,
   "metadata": {
    "collapsed": false
   },
   "outputs": [],
   "source": [
    "# The predict_classes function outputs the highest probability class\n",
    "# according to the trained classifier for each input example.\n",
    "predicted_classes = merged_model.predict_classes([np.asarray(X_test)] * number_of_models)\n",
    "\n",
    "# Check which items we got right / wrong\n",
    "correct_indices = np.nonzero(predicted_classes == y_test)[0]\n",
    "incorrect_indices = np.nonzero(predicted_classes != y_test)[0]"
   ]
  },
  {
   "cell_type": "markdown",
   "metadata": {},
   "source": [
    "### Examples of correct predictions"
   ]
  },
  {
   "cell_type": "code",
   "execution_count": null,
   "metadata": {
    "collapsed": false
   },
   "outputs": [],
   "source": [
    "u.plot_images(X_test[correct_indices[:9]], y_test[correct_indices[:9]], \n",
    "              predicted_classes[correct_indices[:9]], img_shape=(56,34))"
   ]
  },
  {
   "cell_type": "markdown",
   "metadata": {},
   "source": [
    "### Examples of incorrect predictions"
   ]
  },
  {
   "cell_type": "code",
   "execution_count": null,
   "metadata": {
    "collapsed": false
   },
   "outputs": [],
   "source": [
    "u.plot_images(X_test[incorrect_indices[:9]], y_test[incorrect_indices[:9]], \n",
    "              predicted_classes[incorrect_indices[:9]], img_shape=(56,34))"
   ]
  },
  {
   "cell_type": "markdown",
   "metadata": {},
   "source": [
    "### Confusion matrix"
   ]
  },
  {
   "cell_type": "code",
   "execution_count": null,
   "metadata": {
    "collapsed": false
   },
   "outputs": [],
   "source": [
    "u.plot_confusion_matrix(y_test, nb_classes, predicted_classes)"
   ]
  },
  {
   "cell_type": "markdown",
   "metadata": {},
   "source": [
    "## Results"
   ]
  }
 ],
 "metadata": {
  "anaconda-cloud": {},
  "kernelspec": {
   "display_name": "Python [conda root]",
   "language": "python",
   "name": "conda-root-py"
  },
  "language_info": {
   "codemirror_mode": {
    "name": "ipython",
    "version": 3
   },
   "file_extension": ".py",
   "mimetype": "text/x-python",
   "name": "python",
   "nbconvert_exporter": "python",
   "pygments_lexer": "ipython3",
   "version": "3.5.2"
  }
 },
 "nbformat": 4,
 "nbformat_minor": 1
}
