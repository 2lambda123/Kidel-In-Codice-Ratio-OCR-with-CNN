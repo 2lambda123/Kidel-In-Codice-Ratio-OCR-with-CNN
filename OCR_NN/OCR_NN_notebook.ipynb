{
 "cells": [
  {
   "cell_type": "code",
   "execution_count": 1,
   "metadata": {
    "collapsed": false
   },
   "outputs": [
    {
     "name": "stderr",
     "output_type": "stream",
     "text": [
      "Using TensorFlow backend.\n"
     ]
    }
   ],
   "source": [
    "from library.OCR_NN.OCR_NN import *"
   ]
  },
  {
   "cell_type": "code",
   "execution_count": 2,
   "metadata": {
    "collapsed": false
   },
   "outputs": [
    {
     "name": "stdout",
     "output_type": "stream",
     "text": [
      "X shape: (60000, 28, 28, 1)\n",
      "60000 train samples\n",
      "X shape: (10000, 28, 28, 1)\n",
      "10000 train samples\n",
      "training relu model\n",
      " 9984/10000 [============================>.] - ETA: 0sX shape: (10000, 28, 28, 1)\n",
      "10000 train samples\n",
      " 9888/10000 [============================>.] - ETA: 0sTest score: 0.0857037514674\n",
      "Test accuracy: 0.9745\n"
     ]
    }
   ],
   "source": [
    "## Fast Usage\n",
    "\n",
    "# Prepare the datas\n",
    "(X_train, y_train), (X_test, y_test) = mnist.load_data()\n",
    "\n",
    "# Initialize the Neural Network\n",
    "nn = OCR_NeuralNetwork(10, nb_epochs=1, model_path=\"checkpoints\", batch_size=128)\n",
    "\n",
    "# Training\n",
    "history = nn.fit(X_train, y_train, X_test, y_test, forceRetrain = False)\n",
    "\n",
    "# Prediciton\n",
    "predicted = nn.predict(X_test)\n",
    "\n",
    "# Scoring\n",
    "nn.evaluate(X_test, y_test, verbose=1)"
   ]
  }
 ],
 "metadata": {
  "anaconda-cloud": {},
  "kernelspec": {
   "display_name": "Python [conda root]",
   "language": "python",
   "name": "conda-root-py"
  },
  "language_info": {
   "codemirror_mode": {
    "name": "ipython",
    "version": 3
   },
   "file_extension": ".py",
   "mimetype": "text/x-python",
   "name": "python",
   "nbconvert_exporter": "python",
   "pygments_lexer": "ipython3",
   "version": "3.5.2"
  }
 },
 "nbformat": 4,
 "nbformat_minor": 1
}
